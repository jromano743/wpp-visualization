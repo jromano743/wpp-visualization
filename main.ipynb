{
 "cells": [
  {
   "cell_type": "markdown",
   "metadata": {},
   "source": [
    "### Import all libraries"
   ]
  },
  {
   "cell_type": "code",
   "execution_count": 3,
   "metadata": {},
   "outputs": [
    {
     "name": "stderr",
     "output_type": "stream",
     "text": [
      "/tmp/ipykernel_154959/2646045199.py:3: DeprecationWarning: \n",
      "Pyarrow will become a required dependency of pandas in the next major release of pandas (pandas 3.0),\n",
      "(to allow more performant data types, such as the Arrow string type, and better interoperability with other libraries)\n",
      "but was not found to be installed on your system.\n",
      "If this would cause problems for you,\n",
      "please provide us feedback at https://github.com/pandas-dev/pandas/issues/54466\n",
      "        \n",
      "  import pandas as pd\n"
     ]
    }
   ],
   "source": [
    "# -*- coding: utf-8 -*-\n",
    "\n",
    "import pandas as pd\n",
    "import re\n",
    "import os\n",
    "from datetime import datetime\n",
    "import zipfile\n",
    "\n",
    "import regex\n",
    "import emoji\n",
    "\n",
    "import numpy as np\n",
    "from collections import Counter\n",
    "\n",
    "import plotly.express as px\n",
    "import matplotlib.pyplot as plt\n",
    "from wordcloud import WordCloud, STOPWORDS\n",
    "import random\n",
    "import shutil\n",
    "import sys"
   ]
  },
  {
   "cell_type": "markdown",
   "metadata": {},
   "source": [
    "### Set phone number patterns (by [Sandreke](https://github.com/Sandreke))"
   ]
  },
  {
   "cell_type": "code",
   "execution_count": 4,
   "metadata": {},
   "outputs": [
    {
     "name": "stdout",
     "output_type": "stream",
     "text": [
      "Phone numbers not loaded\n"
     ]
    }
   ],
   "source": [
    "# Get country phone number patterns\n",
    "try:\n",
    "    phone_patterns = [line.strip().split(';')[1] + \":\" for line in open('data/phone_patterns.txt', 'r')]\n",
    "    print(\"Phone numbers loaded\")\n",
    "except:\n",
    "    print(\"Phone numbers not loaded\")"
   ]
  },
  {
   "cell_type": "markdown",
   "metadata": {},
   "source": [
    "## Settings: Set your values"
   ]
  },
  {
   "cell_type": "code",
   "execution_count": 5,
   "metadata": {},
   "outputs": [],
   "source": [
    "# ATTENTION: Your 'my_chat.txt' files must be in the data folder.\n",
    "\n",
    "chat_file_name = 'chat.txt' # Whatsapp chat zip file or txt file\n",
    "\n",
    "\n",
    "chat_path = os.path.join('input', chat_file_name)\n",
    "chat_name = chat_file_name[:-4]\n",
    "\n",
    "is_zip = False #Read a .zip file or .txt file\n",
    "delete_input = False # DELETE INPUT (ZIP or TXT)\n",
    "\n",
    "is_group = False # False -> Personal chat - True -> Group Chat\n",
    "group_name = 'GroupName'\n",
    "\n",
    "has_range_time = False\n",
    "start_time, end_time = '1/1/23', '31/12/23'\n",
    "\n",
    "\n",
    "THIS_PATH = os.path.dirname(os.path.join(os.getcwd(), 'wpp-visualization'))\n",
    "save_path = os.path.join('generated', chat_name)"
   ]
  },
  {
   "cell_type": "markdown",
   "metadata": {},
   "source": [
    "### Utils functions\n",
    "count_emojis, convert_to_24_format, procces_message, is_date_between, get_save_path, custom_color"
   ]
  },
  {
   "cell_type": "code",
   "execution_count": 6,
   "metadata": {},
   "outputs": [],
   "source": [
    "color_palette = [\n",
    "    (254, 245, 231),  # Background color: a soft cream tone\n",
    "    (255, 105, 180),  # Bright Pink\n",
    "    (255, 182, 193),  # Light Pink\n",
    "    (255, 0, 0),      # Red\n",
    "    (220, 20, 60),    # Crimson\n",
    "    (255, 192, 203),  # Pink\n",
    "    (233, 150, 122),  # Light Coral\n",
    "    (255, 215, 0)     # Gold for a touch of elegance\n",
    "]\n",
    "\n",
    "def create_input_folder(folder_name, file_name):\n",
    "    try:\n",
    "        input_path = os.path.join(THIS_PATH, 'input')\n",
    "\n",
    "        folder_path = os.path.join(input_path, folder_name)\n",
    "\n",
    "        os.makedirs(folder_path, exist_ok=True)\n",
    "        print(f'Se ha creado la carpeta \"{folder_name}\" dentro de \"input\".')\n",
    "\n",
    "        file_path = os.path.join(input_path, file_name)\n",
    "\n",
    "        shutil.move(file_path, folder_path)\n",
    "        print(f'Se ha movido el archivo \"{file_name}\" a la carpeta \"{folder_name}\".')\n",
    "\n",
    "    except Exception as e:\n",
    "        print(f'Error: {e}')\n",
    "    \n",
    "    return folder_path + file_name\n",
    "\n",
    "def extrac_zip(zip_path):\n",
    "    \"\"\"\n",
    "    Extrac zip file in a new folder\n",
    "    \"\"\"\n",
    "    zip_path = os.path.join(THIS_PATH, zip_path)\n",
    "\n",
    "    carpeta_destino = os.path.join(THIS_PATH, os.path.splitext(zip_path)[0])\n",
    "\n",
    "    os.makedirs(carpeta_destino, exist_ok=True)\n",
    "\n",
    "    with zipfile.ZipFile(zip_path, 'r') as zip_ref:\n",
    "        zip_ref.extractall(carpeta_destino)\n",
    "\n",
    "\n",
    "def custom_color(word, font_size, position, orientation, random_state=None,\n",
    "                    **kwargs):\n",
    "    return \"rgb(%s, %s, %s)\" % color_palette[random.randint(1, len(color_palette)-1)]\n",
    "\n",
    "def clean_data(input_file: str, output_file: str):\n",
    "    \"\"\"\n",
    "    Remove special characters\n",
    "    \"\"\"\n",
    "    try:\n",
    "        with open(input_file, 'r', encoding='utf-8') as file_in, open(output_file, 'w', encoding='utf-8') as file_out:\n",
    "            for line in file_in:\n",
    "                # Remove [U+200E]\n",
    "                clean_line = line.replace('\\u200e', '')\n",
    "                file_out.write(clean_line)\n",
    "\n",
    "    except FileNotFoundError:\n",
    "        print(f'Error: not found {input_file}')\n",
    "\n",
    "def count_emojis(message: str) -> dict:\n",
    "    \"\"\"\n",
    "    Create a dict with the emojis presences in the message\n",
    "\n",
    "    Args:\n",
    "        message (str): message of the chat\n",
    "\n",
    "    Returns:\n",
    "        emoji_dict (dict): {😂: 3 , 😍: 1}\n",
    "    \"\"\"\n",
    "    emojis = emoji.distinct_emoji_list(message)\n",
    "    \n",
    "    emoji_dict = {}\n",
    "    for char in emojis:\n",
    "        if char in emoji_dict:\n",
    "            emoji_dict[char] += 1\n",
    "        else:\n",
    "            emoji_dict[char] = 1\n",
    "    return emoji_dict\n",
    "\n",
    "\n",
    "def convert_to_24_format(hour: str) -> str:\n",
    "    \"\"\"\n",
    "    Convert various time formats to 24-hour format (\"%H:%M:%S\")\n",
    "\n",
    "    Args:\n",
    "        hour (str): Time string in various possible formats\n",
    "\n",
    "    Returns:\n",
    "        hour_in_24hs_format (str): Time in 'HH:MM:SS' format\n",
    "    \"\"\"\n",
    "    time_formats = [\"%I:%M %p\", \"%H:%M\", \"%I:%M:%S %p\", \"%H:%M:%S\"]\n",
    "\n",
    "    for format in time_formats:\n",
    "        try:\n",
    "            parsed_time = datetime.strptime(hour, format)\n",
    "\n",
    "            # Format the parsed time in 24-hour format\n",
    "            return parsed_time.strftime('%H:%M:%S')\n",
    "        except ValueError:\n",
    "            continue\n",
    "\n",
    "    print(\"Formato de hora no válido\")\n",
    "    print(\"Modifica la regex para validarlo\")\n",
    "    return \"\"\n",
    "\n",
    "def procces_message(message: str) -> tuple:\n",
    "    \"\"\"\n",
    "    Parse a chat message to get: date, time, username, message_text\n",
    "\n",
    "    Args:\n",
    "        message (str): Chat message\n",
    "\n",
    "    Returns:\n",
    "        message_data (tuple): ((date, time, username, message_text), is_24h_format)\n",
    "    \"\"\"\n",
    "    # AVIABLE FORMATS\n",
    "    # [1/1/24, 14:14:00] Juan Manuel 😎: This is a message\n",
    "    # 01/01/24, 2:14 pm - Juan Manuel 😎: This is a message\n",
    "    # 1/1/24, 2:14 pm - Juan Manuel 😎: This is a message\n",
    "    # 1/1/23 14:14 - Juan Manuel 😎: This is a message\n",
    "    # 1/1/2024, 14:14 - Juan Manuel 😎: This is a message\n",
    "\n",
    "    # RETURN\n",
    "    # ('09/01/24', '09:06:00', 'Juan Manuel 😎', 'This is a message')\n",
    "    # (('09/01/24', '09:06:00', 'Juan Manuel 😎', 'This is a message'), is_24_hours_format: bool)\n",
    "\n",
    "    pattern = r'\\[?(\\d{1,2})[/](\\d{1,2})[/](\\d{2,4}),?\\s*(\\d{1,2}:\\d{2}(?::\\d{2})?)(?:\\s?(am|pm))?[\\s-]*\\]?[ ]*(.+?): (.+)'\n",
    "    match = re.match(pattern, message)\n",
    "\n",
    "    if match:\n",
    "        day, month, year, time, format, username, text = match.groups()\n",
    "\n",
    "        # Set the year to YY format\n",
    "        year = year[-2:]\n",
    "\n",
    "        # Set the day and month to two-digit format\n",
    "        day = day.zfill(2)\n",
    "        month = month.zfill(2)\n",
    "\n",
    "        # Reconstruct the date in the desired format\n",
    "        date = f\"{day}/{month}/{year}\"\n",
    "\n",
    "        # Check if the time format is present\n",
    "        is_24h_format = format is None\n",
    "\n",
    "        # Return processed data\n",
    "        return ((date, time, username, text), is_24h_format)\n",
    "    else:\n",
    "        return((None, None, None, None), None)\n",
    "\n",
    "def is_date_between(target_date_str: str, start_date_str: str, end_date_str: str) -> bool:\n",
    "    \"\"\"\n",
    "    Check if message is into range of dates\n",
    "    Args:\n",
    "        target_date_str (str): Current date\n",
    "        start_date_str (str): Start date range, '01/01/23'\n",
    "        end_date_str (str): End date range, '31/12/23'\n",
    "\n",
    "    Returns:\n",
    "        is_in_range (bool):\n",
    "    \"\"\"\n",
    "    target_date = datetime.strptime(target_date_str, \"%d/%m/%y\")\n",
    "    start_date = datetime.strptime(start_date_str, \"%d/%m/%y\")\n",
    "    end_date = datetime.strptime(end_date_str, \"%d/%m/%y\")\n",
    "\n",
    "    return start_date <= target_date <= end_date\n",
    "\n",
    "# TODO\n",
    "def get_save_path(folder_path: str, file_name: str):\n",
    "    \"\"\"\n",
    "    Create a folder where files are saved\n",
    "    \"\"\"\n",
    "    full_path = os.path.join(folder_path, file_name)\n",
    "    os.makedirs(folder_path, exist_ok=True)\n",
    "\n",
    "    return full_path\n"
   ]
  },
  {
   "cell_type": "markdown",
   "metadata": {},
   "source": [
    "## Get _chat.txt file"
   ]
  },
  {
   "cell_type": "code",
   "execution_count": null,
   "metadata": {},
   "outputs": [],
   "source": [
    "format_file = chat_path[-4:]\n",
    "\n",
    "if format_file == '.zip':\n",
    "    extrac_zip(chat_path)\n",
    "    chat_path = f'input/{chat_name}/_chat.txt'\n",
    "elif format_file == '.txt':\n",
    "    chat_path = create_input_folder(chat_name, chat_file_name)\n",
    "\n",
    "print(f\"El archivo se encuentra en: {chat_path}\")"
   ]
  },
  {
   "cell_type": "markdown",
   "metadata": {},
   "source": [
    "### Create dataframe\n",
    "With (Fecha, Hora, Miembro, Mensaje) [(Date, Time, Member, Message)] values."
   ]
  },
  {
   "cell_type": "code",
   "execution_count": 7,
   "metadata": {},
   "outputs": [
    {
     "data": {
      "text/html": [
       "<div>\n",
       "<style scoped>\n",
       "    .dataframe tbody tr th:only-of-type {\n",
       "        vertical-align: middle;\n",
       "    }\n",
       "\n",
       "    .dataframe tbody tr th {\n",
       "        vertical-align: top;\n",
       "    }\n",
       "\n",
       "    .dataframe thead th {\n",
       "        text-align: right;\n",
       "    }\n",
       "</style>\n",
       "<table border=\"1\" class=\"dataframe\">\n",
       "  <thead>\n",
       "    <tr style=\"text-align: right;\">\n",
       "      <th></th>\n",
       "      <th>Fecha</th>\n",
       "      <th>Hora</th>\n",
       "      <th>Miembro</th>\n",
       "      <th>Mensaje</th>\n",
       "    </tr>\n",
       "  </thead>\n",
       "  <tbody>\n",
       "    <tr>\n",
       "      <th>0</th>\n",
       "      <td>25/09/24</td>\n",
       "      <td>8:01</td>\n",
       "      <td>p. m. - Anabel 🌷</td>\n",
       "      <td>Holiss</td>\n",
       "    </tr>\n",
       "    <tr>\n",
       "      <th>1</th>\n",
       "      <td>25/09/24</td>\n",
       "      <td>8:25</td>\n",
       "      <td>p. m. - Juanma Romano</td>\n",
       "      <td>Holis</td>\n",
       "    </tr>\n",
       "    <tr>\n",
       "      <th>2</th>\n",
       "      <td>25/09/24</td>\n",
       "      <td>8:25</td>\n",
       "      <td>p. m. - Juanma Romano</td>\n",
       "      <td>Cómo estás bestie?</td>\n",
       "    </tr>\n",
       "    <tr>\n",
       "      <th>3</th>\n",
       "      <td>25/09/24</td>\n",
       "      <td>8:25</td>\n",
       "      <td>p. m. - Juanma Romano</td>\n",
       "      <td>Cuando vamos por un helado?</td>\n",
       "    </tr>\n",
       "    <tr>\n",
       "      <th>4</th>\n",
       "      <td>25/09/24</td>\n",
       "      <td>8:30</td>\n",
       "      <td>p. m. - Anabel 🌷</td>\n",
       "      <td>&lt;Multimedia omitido&gt;</td>\n",
       "    </tr>\n",
       "    <tr>\n",
       "      <th>...</th>\n",
       "      <td>...</td>\n",
       "      <td>...</td>\n",
       "      <td>...</td>\n",
       "      <td>...</td>\n",
       "    </tr>\n",
       "    <tr>\n",
       "      <th>2425</th>\n",
       "      <td>27/10/24</td>\n",
       "      <td>7:44</td>\n",
       "      <td>p. m. - Juanma Romano</td>\n",
       "      <td>Se está viendo</td>\n",
       "    </tr>\n",
       "    <tr>\n",
       "      <th>2426</th>\n",
       "      <td>27/10/24</td>\n",
       "      <td>7:45</td>\n",
       "      <td>p. m. - Juanma Romano</td>\n",
       "      <td>WHAT</td>\n",
       "    </tr>\n",
       "    <tr>\n",
       "      <th>2427</th>\n",
       "      <td>27/10/24</td>\n",
       "      <td>7:45</td>\n",
       "      <td>p. m. - Juanma Romano</td>\n",
       "      <td>Diomio</td>\n",
       "    </tr>\n",
       "    <tr>\n",
       "      <th>2428</th>\n",
       "      <td>27/10/24</td>\n",
       "      <td>7:45</td>\n",
       "      <td>p. m. - Juanma Romano</td>\n",
       "      <td>Que horror</td>\n",
       "    </tr>\n",
       "    <tr>\n",
       "      <th>2429</th>\n",
       "      <td>27/10/24</td>\n",
       "      <td>7:45</td>\n",
       "      <td>p. m. - Juanma Romano</td>\n",
       "      <td>Jajajaja</td>\n",
       "    </tr>\n",
       "  </tbody>\n",
       "</table>\n",
       "<p>2430 rows × 4 columns</p>\n",
       "</div>"
      ],
      "text/plain": [
       "         Fecha  Hora                Miembro                      Mensaje\n",
       "0     25/09/24  8:01      p. m. - Anabel 🌷                       Holiss\n",
       "1     25/09/24  8:25  p. m. - Juanma Romano                        Holis\n",
       "2     25/09/24  8:25  p. m. - Juanma Romano         Cómo estás bestie?\n",
       "3     25/09/24  8:25  p. m. - Juanma Romano  Cuando vamos por un helado?\n",
       "4     25/09/24  8:30      p. m. - Anabel 🌷         <Multimedia omitido>\n",
       "...        ...   ...                    ...                          ...\n",
       "2425  27/10/24  7:44  p. m. - Juanma Romano              Se está viendo\n",
       "2426  27/10/24  7:45  p. m. - Juanma Romano                         WHAT\n",
       "2427  27/10/24  7:45  p. m. - Juanma Romano                       Diomio\n",
       "2428  27/10/24  7:45  p. m. - Juanma Romano                   Que horror\n",
       "2429  27/10/24  7:45  p. m. - Juanma Romano                     Jajajaja\n",
       "\n",
       "[2430 rows x 4 columns]"
      ]
     },
     "execution_count": 7,
     "metadata": {},
     "output_type": "execute_result"
    }
   ],
   "source": [
    "# List to store the data \n",
    "# (Fecha, Hora, Miembro, Mensaje) \n",
    "# [(Date, Time, Member, Message)] \n",
    "# of each line of the txt\n",
    "data_list = []\n",
    "\n",
    "with open(chat_path, encoding=\"utf-8\") as chat_file:\n",
    "    chat_file.readline() # Ignore first row related to end-to-end encryption\n",
    "\n",
    "    #Initialize values\n",
    "    date, time, username, message_text = None, None, None, None\n",
    "    while True:\n",
    "\n",
    "        linea = chat_file.readline()\n",
    "\n",
    "        if not linea:\n",
    "            break\n",
    "        linea = linea.strip()\n",
    "        \n",
    "        proccesed_message = procces_message(linea)\n",
    "        \n",
    "        date, time, username, message_text = proccesed_message[0]\n",
    "        format_24_hs = proccesed_message[1]\n",
    "\n",
    "        if date: # Is valid data\n",
    "            if not format_24_hs:\n",
    "                time = convert_to_24_format(time)\n",
    "            \n",
    "            if not has_range_time:\n",
    "                data_list.append([date, time, username, message_text])\n",
    "            \n",
    "            else:\n",
    "                if is_date_between(date, start_time, end_time):\n",
    "                    data_list.append([date, time, username, message_text])\n",
    "\n",
    "# For emojis\n",
    "pd.set_option('display.unicode.ambiguous_as_wide', True)\n",
    "pd.set_option('display.unicode.east_asian_width', True)\n",
    "\n",
    "# Convert the list with data to dataframe\n",
    "df = pd.DataFrame(data_list, columns=['Fecha', 'Hora', 'Miembro', 'Mensaje'])\n",
    "\n",
    "# Delete null values\n",
    "df = df.dropna()\n",
    "\n",
    "# Reset index\n",
    "df.reset_index(drop=True, inplace=True)\n",
    "\n",
    "df"
   ]
  },
  {
   "cell_type": "markdown",
   "metadata": {},
   "source": [
    "### Add the \"message types\" data based on the message pattern."
   ]
  },
  {
   "cell_type": "code",
   "execution_count": 8,
   "metadata": {},
   "outputs": [
    {
     "name": "stdout",
     "output_type": "stream",
     "text": [
      "Tienes 713 de 2430 mensajes en la tabla\n"
     ]
    },
    {
     "data": {
      "text/html": [
       "<div>\n",
       "<style scoped>\n",
       "    .dataframe tbody tr th:only-of-type {\n",
       "        vertical-align: middle;\n",
       "    }\n",
       "\n",
       "    .dataframe tbody tr th {\n",
       "        vertical-align: top;\n",
       "    }\n",
       "\n",
       "    .dataframe thead th {\n",
       "        text-align: right;\n",
       "    }\n",
       "</style>\n",
       "<table border=\"1\" class=\"dataframe\">\n",
       "  <thead>\n",
       "    <tr style=\"text-align: right;\">\n",
       "      <th></th>\n",
       "      <th>Cantidad</th>\n",
       "    </tr>\n",
       "    <tr>\n",
       "      <th>Tipo</th>\n",
       "      <th></th>\n",
       "    </tr>\n",
       "  </thead>\n",
       "  <tbody>\n",
       "    <tr>\n",
       "      <th>Mensajes</th>\n",
       "      <td>2430</td>\n",
       "    </tr>\n",
       "    <tr>\n",
       "      <th>Imagenes</th>\n",
       "      <td>0</td>\n",
       "    </tr>\n",
       "    <tr>\n",
       "      <th>Videos</th>\n",
       "      <td>0</td>\n",
       "    </tr>\n",
       "    <tr>\n",
       "      <th>Gifs</th>\n",
       "      <td>0</td>\n",
       "    </tr>\n",
       "    <tr>\n",
       "      <th>Audios</th>\n",
       "      <td>0</td>\n",
       "    </tr>\n",
       "    <tr>\n",
       "      <th>Emojis</th>\n",
       "      <td>91</td>\n",
       "    </tr>\n",
       "    <tr>\n",
       "      <th>Stickers</th>\n",
       "      <td>0</td>\n",
       "    </tr>\n",
       "    <tr>\n",
       "      <th>Ubicaciones</th>\n",
       "      <td>0</td>\n",
       "    </tr>\n",
       "    <tr>\n",
       "      <th>Contactos</th>\n",
       "      <td>0</td>\n",
       "    </tr>\n",
       "    <tr>\n",
       "      <th>Links</th>\n",
       "      <td>11</td>\n",
       "    </tr>\n",
       "    <tr>\n",
       "      <th>Mensajes eliminados</th>\n",
       "      <td>2</td>\n",
       "    </tr>\n",
       "    <tr>\n",
       "      <th>Encuestas</th>\n",
       "      <td>0</td>\n",
       "    </tr>\n",
       "    <tr>\n",
       "      <th>Multimedia</th>\n",
       "      <td>607</td>\n",
       "    </tr>\n",
       "    <tr>\n",
       "      <th>Editados</th>\n",
       "      <td>0</td>\n",
       "    </tr>\n",
       "    <tr>\n",
       "      <th>Audios efimeros</th>\n",
       "      <td>0</td>\n",
       "    </tr>\n",
       "    <tr>\n",
       "      <th>Borrado por ME</th>\n",
       "      <td>0</td>\n",
       "    </tr>\n",
       "    <tr>\n",
       "      <th>Borrado por YOU/US</th>\n",
       "      <td>2</td>\n",
       "    </tr>\n",
       "  </tbody>\n",
       "</table>\n",
       "</div>"
      ],
      "text/plain": [
       "                     Cantidad\n",
       "Tipo                         \n",
       "Mensajes                 2430\n",
       "Imagenes                    0\n",
       "Videos                      0\n",
       "Gifs                        0\n",
       "Audios                      0\n",
       "Emojis                     91\n",
       "Stickers                    0\n",
       "Ubicaciones                 0\n",
       "Contactos                   0\n",
       "Links                      11\n",
       "Mensajes eliminados         2\n",
       "Encuestas                   0\n",
       "Multimedia                607\n",
       "Editados                    0\n",
       "Audios efimeros             0\n",
       "Borrado por ME              0\n",
       "Borrado por YOU/US          2"
      ]
     },
     "execution_count": 8,
     "metadata": {},
     "output_type": "execute_result"
    }
   ],
   "source": [
    "# Total messages\n",
    "total_messages = df.shape[0]\n",
    "\n",
    "# Type messages\n",
    "# Get values according to the type of message\n",
    "\"\"\"\n",
    "This pattern can get count of: \n",
    "- images\n",
    "- videos\n",
    "- audio\n",
    "- stickers\n",
    "- contacts shared\n",
    "- deleted mesagges\n",
    "- gif's, \n",
    "- locations shared\n",
    "- emojis\n",
    "- url's shared\n",
    "- pools\n",
    "\"\"\"\n",
    "\n",
    "# Images\n",
    "images_send = df[\n",
    "        (df['Mensaje'] == 'imagen omitida')\n",
    "        ].shape[0]\n",
    "\n",
    "# Videos\n",
    "videos_sends = df[\n",
    "        (df['Mensaje'] == 'Video omitido')\n",
    "        ].shape[0]\n",
    "\n",
    "# Audio\n",
    "audio_send = df[(\n",
    "        df['Mensaje'] == 'audio omitido')\n",
    "        ].shape[0]\n",
    "\n",
    "# Stickers\n",
    "stickers_send = df[(\n",
    "        df['Mensaje'] == 'sticker omitido')\n",
    "        ].shape[0]\n",
    "\n",
    "# Contacts shared\n",
    "contacts_sends = df[(\n",
    "        df['Mensaje'] == 'Tarjeta de contacto omitida')\n",
    "        ].shape[0]\n",
    "\n",
    "# Deleted messages\n",
    "deleted_msgs = df[(\n",
    "        df['Mensaje'] == 'Se eliminó este mensaje.')\n",
    "        ].shape[0]\n",
    "\n",
    "# Gif's\n",
    "gif_send = df[(\n",
    "        df['Mensaje'] == 'GIF omitido')\n",
    "        ].shape[0]\n",
    "\n",
    "# Locates shared\n",
    "locate_pattern = r\"Ubicación: https://maps\\.\"\n",
    "locate_sends = df[\n",
    "        df['Mensaje'].str.contains(locate_pattern, flags=re.IGNORECASE, na=False)\n",
    "        ].shape[0]\n",
    "\n",
    "# Pools quantity\n",
    "pools = df[\n",
    "        (df['Mensaje'].str.contains('ENCUESTA:')) |\n",
    "        (df['Mensaje'].str.contains('POOL:'))\n",
    "        ].shape[0]\n",
    "\n",
    "# Multimedia messages (images, video, etc)\n",
    "multimedia_sends = df[\n",
    "    df['Mensaje'].str.contains('<Media omitted>') |\n",
    "    df['Mensaje'].str.contains('<Multimedia omitido>')\n",
    "    ].shape[0]\n",
    "\n",
    "# Edited messages\n",
    "editd_msgs = df[\n",
    "    (df['Mensaje'].str.contains('<This message was edited>')) |\n",
    "    (df['Mensaje'].str.contains('<Este mensaje fue editado>')) \n",
    "    ].shape[0]\n",
    "\n",
    "# Once voice messages\n",
    "once_voice_sends = df[\n",
    "    (df['Mensaje'].str.contains('<View once voice message omitted>')) |\n",
    "    (df['Mensaje'].str.contains('<Ver una vez omitido el mensaje de voz>'))\n",
    "    ].shape[0]\n",
    "\n",
    "# Deleted messages\n",
    "me_name = 'ME'\n",
    "you_name = 'YOU/US' #can be a group\n",
    "\n",
    "me_deleted = df[\n",
    "    (df['Mensaje'].str.contains('You deleted this message')) |\n",
    "    (df['Mensaje'].str.contains('Eliminaste este mensaje.'))\n",
    "    ].shape[0]\n",
    "\n",
    "you_deleted = df[\n",
    "    (df['Mensaje'].str.contains('This message was deleted')) |\n",
    "    (df['Mensaje'].str.contains('Se eliminó este mensaje.'))\n",
    "    ].shape[0]\n",
    "\n",
    "# Deleted messages\n",
    "me_name = 'ME'\n",
    "you_name = 'YOU/US' #can be a group\n",
    "\n",
    "# Emojies sends\n",
    "df['Emojis'] = df['Mensaje'].apply(count_emojis) # Add 'Emoji' column\n",
    "emojis = sum(df['Emojis'].str.len())\n",
    "\n",
    "# Links shared\n",
    "url_pattern = r'(https?://\\S+)'\n",
    "df['URLs'] = df.Mensaje.apply(lambda x: len(re.findall(url_pattern, x))) # Add 'URLs' column\n",
    "links = sum(df['URLs'])\n",
    "\n",
    "# Stats dict\n",
    "stats_dict = {\n",
    "        'Tipo': ['Mensajes', \n",
    "                 'Imagenes', \n",
    "                 'Videos', \n",
    "                 'Gifs', \n",
    "                 'Audios', \n",
    "                 'Emojis', \n",
    "                 'Stickers', \n",
    "                 'Ubicaciones', \n",
    "                 'Contactos',\n",
    "                 'Links', \n",
    "                 'Mensajes eliminados', \n",
    "                 'Encuestas',\n",
    "                 \"Multimedia\",\n",
    "                 \"Editados\",\n",
    "                 \"Audios efimeros\",\n",
    "                 f\"Borrado por {me_name}\",\n",
    "                 f\"Borrado por {you_name}\"\n",
    "                 ],\n",
    "        'Cantidad': [total_messages, \n",
    "                     images_send, \n",
    "                     videos_sends, \n",
    "                     gif_send, \n",
    "                     audio_send, \n",
    "                     emojis, \n",
    "                     stickers_send, \n",
    "                     locate_sends, \n",
    "                     contacts_sends, \n",
    "                     links, \n",
    "                     deleted_msgs, \n",
    "                     pools,\n",
    "                     multimedia_sends,\n",
    "                     editd_msgs,\n",
    "                     once_voice_sends,\n",
    "                     me_deleted,\n",
    "                     you_deleted\n",
    "                     ]\n",
    "}\n",
    "\n",
    "\n",
    "# Dict to dataframe\n",
    "stats_df = pd.DataFrame(stats_dict, columns = ['Tipo', 'Cantidad'])\n",
    "\n",
    "a = stats_dict['Cantidad'][0]\n",
    "b = sum(stats_dict['Cantidad'][1:])\n",
    "\n",
    "print(f\"Tienes {b} de {a} mensajes en la tabla\")\n",
    "\n",
    "# Set Type column as index\n",
    "stats_df = stats_df.set_index('Tipo')\n",
    "stats_df\n",
    "\n",
    "\n"
   ]
  },
  {
   "cell_type": "markdown",
   "metadata": {},
   "source": [
    "### Messages type\n",
    "Shows a pie chart with message types"
   ]
  },
  {
   "cell_type": "code",
   "execution_count": 9,
   "metadata": {},
   "outputs": [
    {
     "data": {
      "application/vnd.plotly.v1+json": {
       "config": {
        "plotlyServerURL": "https://plot.ly"
       },
       "data": [
        {
         "domain": {
          "x": [
           0,
           1
          ],
          "y": [
           0,
           1
          ]
         },
         "hovertemplate": "Tipo=%{label}<br>Cantidad=%{value}<extra></extra>",
         "labels": [
          "Mensajes",
          "Imagenes",
          "Videos",
          "Gifs",
          "Audios",
          "Emojis",
          "Stickers",
          "Ubicaciones",
          "Contactos",
          "Links",
          "Mensajes eliminados",
          "Encuestas",
          "Multimedia",
          "Editados",
          "Audios efimeros",
          "Borrado por ME",
          "Borrado por YOU/US"
         ],
         "legendgroup": "",
         "name": "",
         "showlegend": true,
         "textinfo": "percent+label",
         "textposition": "inside",
         "type": "pie",
         "values": [
          2430,
          0,
          0,
          0,
          0,
          91,
          0,
          0,
          0,
          11,
          2,
          0,
          607,
          0,
          0,
          0,
          2
         ]
        }
       ],
       "layout": {
        "legend": {
         "tracegroupgap": 0
        },
        "template": {
         "data": {
          "bar": [
           {
            "error_x": {
             "color": "#2a3f5f"
            },
            "error_y": {
             "color": "#2a3f5f"
            },
            "marker": {
             "line": {
              "color": "#E5ECF6",
              "width": 0.5
             },
             "pattern": {
              "fillmode": "overlay",
              "size": 10,
              "solidity": 0.2
             }
            },
            "type": "bar"
           }
          ],
          "barpolar": [
           {
            "marker": {
             "line": {
              "color": "#E5ECF6",
              "width": 0.5
             },
             "pattern": {
              "fillmode": "overlay",
              "size": 10,
              "solidity": 0.2
             }
            },
            "type": "barpolar"
           }
          ],
          "carpet": [
           {
            "aaxis": {
             "endlinecolor": "#2a3f5f",
             "gridcolor": "white",
             "linecolor": "white",
             "minorgridcolor": "white",
             "startlinecolor": "#2a3f5f"
            },
            "baxis": {
             "endlinecolor": "#2a3f5f",
             "gridcolor": "white",
             "linecolor": "white",
             "minorgridcolor": "white",
             "startlinecolor": "#2a3f5f"
            },
            "type": "carpet"
           }
          ],
          "choropleth": [
           {
            "colorbar": {
             "outlinewidth": 0,
             "ticks": ""
            },
            "type": "choropleth"
           }
          ],
          "contour": [
           {
            "colorbar": {
             "outlinewidth": 0,
             "ticks": ""
            },
            "colorscale": [
             [
              0,
              "#0d0887"
             ],
             [
              0.1111111111111111,
              "#46039f"
             ],
             [
              0.2222222222222222,
              "#7201a8"
             ],
             [
              0.3333333333333333,
              "#9c179e"
             ],
             [
              0.4444444444444444,
              "#bd3786"
             ],
             [
              0.5555555555555556,
              "#d8576b"
             ],
             [
              0.6666666666666666,
              "#ed7953"
             ],
             [
              0.7777777777777778,
              "#fb9f3a"
             ],
             [
              0.8888888888888888,
              "#fdca26"
             ],
             [
              1,
              "#f0f921"
             ]
            ],
            "type": "contour"
           }
          ],
          "contourcarpet": [
           {
            "colorbar": {
             "outlinewidth": 0,
             "ticks": ""
            },
            "type": "contourcarpet"
           }
          ],
          "heatmap": [
           {
            "colorbar": {
             "outlinewidth": 0,
             "ticks": ""
            },
            "colorscale": [
             [
              0,
              "#0d0887"
             ],
             [
              0.1111111111111111,
              "#46039f"
             ],
             [
              0.2222222222222222,
              "#7201a8"
             ],
             [
              0.3333333333333333,
              "#9c179e"
             ],
             [
              0.4444444444444444,
              "#bd3786"
             ],
             [
              0.5555555555555556,
              "#d8576b"
             ],
             [
              0.6666666666666666,
              "#ed7953"
             ],
             [
              0.7777777777777778,
              "#fb9f3a"
             ],
             [
              0.8888888888888888,
              "#fdca26"
             ],
             [
              1,
              "#f0f921"
             ]
            ],
            "type": "heatmap"
           }
          ],
          "heatmapgl": [
           {
            "colorbar": {
             "outlinewidth": 0,
             "ticks": ""
            },
            "colorscale": [
             [
              0,
              "#0d0887"
             ],
             [
              0.1111111111111111,
              "#46039f"
             ],
             [
              0.2222222222222222,
              "#7201a8"
             ],
             [
              0.3333333333333333,
              "#9c179e"
             ],
             [
              0.4444444444444444,
              "#bd3786"
             ],
             [
              0.5555555555555556,
              "#d8576b"
             ],
             [
              0.6666666666666666,
              "#ed7953"
             ],
             [
              0.7777777777777778,
              "#fb9f3a"
             ],
             [
              0.8888888888888888,
              "#fdca26"
             ],
             [
              1,
              "#f0f921"
             ]
            ],
            "type": "heatmapgl"
           }
          ],
          "histogram": [
           {
            "marker": {
             "pattern": {
              "fillmode": "overlay",
              "size": 10,
              "solidity": 0.2
             }
            },
            "type": "histogram"
           }
          ],
          "histogram2d": [
           {
            "colorbar": {
             "outlinewidth": 0,
             "ticks": ""
            },
            "colorscale": [
             [
              0,
              "#0d0887"
             ],
             [
              0.1111111111111111,
              "#46039f"
             ],
             [
              0.2222222222222222,
              "#7201a8"
             ],
             [
              0.3333333333333333,
              "#9c179e"
             ],
             [
              0.4444444444444444,
              "#bd3786"
             ],
             [
              0.5555555555555556,
              "#d8576b"
             ],
             [
              0.6666666666666666,
              "#ed7953"
             ],
             [
              0.7777777777777778,
              "#fb9f3a"
             ],
             [
              0.8888888888888888,
              "#fdca26"
             ],
             [
              1,
              "#f0f921"
             ]
            ],
            "type": "histogram2d"
           }
          ],
          "histogram2dcontour": [
           {
            "colorbar": {
             "outlinewidth": 0,
             "ticks": ""
            },
            "colorscale": [
             [
              0,
              "#0d0887"
             ],
             [
              0.1111111111111111,
              "#46039f"
             ],
             [
              0.2222222222222222,
              "#7201a8"
             ],
             [
              0.3333333333333333,
              "#9c179e"
             ],
             [
              0.4444444444444444,
              "#bd3786"
             ],
             [
              0.5555555555555556,
              "#d8576b"
             ],
             [
              0.6666666666666666,
              "#ed7953"
             ],
             [
              0.7777777777777778,
              "#fb9f3a"
             ],
             [
              0.8888888888888888,
              "#fdca26"
             ],
             [
              1,
              "#f0f921"
             ]
            ],
            "type": "histogram2dcontour"
           }
          ],
          "mesh3d": [
           {
            "colorbar": {
             "outlinewidth": 0,
             "ticks": ""
            },
            "type": "mesh3d"
           }
          ],
          "parcoords": [
           {
            "line": {
             "colorbar": {
              "outlinewidth": 0,
              "ticks": ""
             }
            },
            "type": "parcoords"
           }
          ],
          "pie": [
           {
            "automargin": true,
            "type": "pie"
           }
          ],
          "scatter": [
           {
            "fillpattern": {
             "fillmode": "overlay",
             "size": 10,
             "solidity": 0.2
            },
            "type": "scatter"
           }
          ],
          "scatter3d": [
           {
            "line": {
             "colorbar": {
              "outlinewidth": 0,
              "ticks": ""
             }
            },
            "marker": {
             "colorbar": {
              "outlinewidth": 0,
              "ticks": ""
             }
            },
            "type": "scatter3d"
           }
          ],
          "scattercarpet": [
           {
            "marker": {
             "colorbar": {
              "outlinewidth": 0,
              "ticks": ""
             }
            },
            "type": "scattercarpet"
           }
          ],
          "scattergeo": [
           {
            "marker": {
             "colorbar": {
              "outlinewidth": 0,
              "ticks": ""
             }
            },
            "type": "scattergeo"
           }
          ],
          "scattergl": [
           {
            "marker": {
             "colorbar": {
              "outlinewidth": 0,
              "ticks": ""
             }
            },
            "type": "scattergl"
           }
          ],
          "scattermapbox": [
           {
            "marker": {
             "colorbar": {
              "outlinewidth": 0,
              "ticks": ""
             }
            },
            "type": "scattermapbox"
           }
          ],
          "scatterpolar": [
           {
            "marker": {
             "colorbar": {
              "outlinewidth": 0,
              "ticks": ""
             }
            },
            "type": "scatterpolar"
           }
          ],
          "scatterpolargl": [
           {
            "marker": {
             "colorbar": {
              "outlinewidth": 0,
              "ticks": ""
             }
            },
            "type": "scatterpolargl"
           }
          ],
          "scatterternary": [
           {
            "marker": {
             "colorbar": {
              "outlinewidth": 0,
              "ticks": ""
             }
            },
            "type": "scatterternary"
           }
          ],
          "surface": [
           {
            "colorbar": {
             "outlinewidth": 0,
             "ticks": ""
            },
            "colorscale": [
             [
              0,
              "#0d0887"
             ],
             [
              0.1111111111111111,
              "#46039f"
             ],
             [
              0.2222222222222222,
              "#7201a8"
             ],
             [
              0.3333333333333333,
              "#9c179e"
             ],
             [
              0.4444444444444444,
              "#bd3786"
             ],
             [
              0.5555555555555556,
              "#d8576b"
             ],
             [
              0.6666666666666666,
              "#ed7953"
             ],
             [
              0.7777777777777778,
              "#fb9f3a"
             ],
             [
              0.8888888888888888,
              "#fdca26"
             ],
             [
              1,
              "#f0f921"
             ]
            ],
            "type": "surface"
           }
          ],
          "table": [
           {
            "cells": {
             "fill": {
              "color": "#EBF0F8"
             },
             "line": {
              "color": "white"
             }
            },
            "header": {
             "fill": {
              "color": "#C8D4E3"
             },
             "line": {
              "color": "white"
             }
            },
            "type": "table"
           }
          ]
         },
         "layout": {
          "annotationdefaults": {
           "arrowcolor": "#2a3f5f",
           "arrowhead": 0,
           "arrowwidth": 1
          },
          "autotypenumbers": "strict",
          "coloraxis": {
           "colorbar": {
            "outlinewidth": 0,
            "ticks": ""
           }
          },
          "colorscale": {
           "diverging": [
            [
             0,
             "#8e0152"
            ],
            [
             0.1,
             "#c51b7d"
            ],
            [
             0.2,
             "#de77ae"
            ],
            [
             0.3,
             "#f1b6da"
            ],
            [
             0.4,
             "#fde0ef"
            ],
            [
             0.5,
             "#f7f7f7"
            ],
            [
             0.6,
             "#e6f5d0"
            ],
            [
             0.7,
             "#b8e186"
            ],
            [
             0.8,
             "#7fbc41"
            ],
            [
             0.9,
             "#4d9221"
            ],
            [
             1,
             "#276419"
            ]
           ],
           "sequential": [
            [
             0,
             "#0d0887"
            ],
            [
             0.1111111111111111,
             "#46039f"
            ],
            [
             0.2222222222222222,
             "#7201a8"
            ],
            [
             0.3333333333333333,
             "#9c179e"
            ],
            [
             0.4444444444444444,
             "#bd3786"
            ],
            [
             0.5555555555555556,
             "#d8576b"
            ],
            [
             0.6666666666666666,
             "#ed7953"
            ],
            [
             0.7777777777777778,
             "#fb9f3a"
            ],
            [
             0.8888888888888888,
             "#fdca26"
            ],
            [
             1,
             "#f0f921"
            ]
           ],
           "sequentialminus": [
            [
             0,
             "#0d0887"
            ],
            [
             0.1111111111111111,
             "#46039f"
            ],
            [
             0.2222222222222222,
             "#7201a8"
            ],
            [
             0.3333333333333333,
             "#9c179e"
            ],
            [
             0.4444444444444444,
             "#bd3786"
            ],
            [
             0.5555555555555556,
             "#d8576b"
            ],
            [
             0.6666666666666666,
             "#ed7953"
            ],
            [
             0.7777777777777778,
             "#fb9f3a"
            ],
            [
             0.8888888888888888,
             "#fdca26"
            ],
            [
             1,
             "#f0f921"
            ]
           ]
          },
          "colorway": [
           "#636efa",
           "#EF553B",
           "#00cc96",
           "#ab63fa",
           "#FFA15A",
           "#19d3f3",
           "#FF6692",
           "#B6E880",
           "#FF97FF",
           "#FECB52"
          ],
          "font": {
           "color": "#2a3f5f"
          },
          "geo": {
           "bgcolor": "white",
           "lakecolor": "white",
           "landcolor": "#E5ECF6",
           "showlakes": true,
           "showland": true,
           "subunitcolor": "white"
          },
          "hoverlabel": {
           "align": "left"
          },
          "hovermode": "closest",
          "mapbox": {
           "style": "light"
          },
          "paper_bgcolor": "white",
          "plot_bgcolor": "#E5ECF6",
          "polar": {
           "angularaxis": {
            "gridcolor": "white",
            "linecolor": "white",
            "ticks": ""
           },
           "bgcolor": "#E5ECF6",
           "radialaxis": {
            "gridcolor": "white",
            "linecolor": "white",
            "ticks": ""
           }
          },
          "scene": {
           "xaxis": {
            "backgroundcolor": "#E5ECF6",
            "gridcolor": "white",
            "gridwidth": 2,
            "linecolor": "white",
            "showbackground": true,
            "ticks": "",
            "zerolinecolor": "white"
           },
           "yaxis": {
            "backgroundcolor": "#E5ECF6",
            "gridcolor": "white",
            "gridwidth": 2,
            "linecolor": "white",
            "showbackground": true,
            "ticks": "",
            "zerolinecolor": "white"
           },
           "zaxis": {
            "backgroundcolor": "#E5ECF6",
            "gridcolor": "white",
            "gridwidth": 2,
            "linecolor": "white",
            "showbackground": true,
            "ticks": "",
            "zerolinecolor": "white"
           }
          },
          "shapedefaults": {
           "line": {
            "color": "#2a3f5f"
           }
          },
          "ternary": {
           "aaxis": {
            "gridcolor": "white",
            "linecolor": "white",
            "ticks": ""
           },
           "baxis": {
            "gridcolor": "white",
            "linecolor": "white",
            "ticks": ""
           },
           "bgcolor": "#E5ECF6",
           "caxis": {
            "gridcolor": "white",
            "linecolor": "white",
            "ticks": ""
           }
          },
          "title": {
           "x": 0.05
          },
          "xaxis": {
           "automargin": true,
           "gridcolor": "white",
           "linecolor": "white",
           "ticks": "",
           "title": {
            "standoff": 15
           },
           "zerolinecolor": "white",
           "zerolinewidth": 2
          },
          "yaxis": {
           "automargin": true,
           "gridcolor": "white",
           "linecolor": "white",
           "ticks": "",
           "title": {
            "standoff": 15
           },
           "zerolinecolor": "white",
           "zerolinewidth": 2
          }
         }
        },
        "title": {
         "text": "Tipos de mensajes"
        }
       }
      }
     },
     "metadata": {},
     "output_type": "display_data"
    }
   ],
   "source": [
    "fig_type_msg = px.pie(stats_df, values='Cantidad', names=stats_df.index, title='Tipos de mensajes')\n",
    "fig_type_msg.update_traces(textposition='inside', textinfo='percent+label')\n",
    "\n",
    "fig_type_msg.write_image(get_save_path(save_path, f'{chat_name}-type-message2.png'))\n",
    "fig_type_msg.show()"
   ]
  },
  {
   "cell_type": "markdown",
   "metadata": {},
   "source": [
    "### Emoji quantity\n",
    "Show the total number of emojis and unique emojis"
   ]
  },
  {
   "cell_type": "code",
   "execution_count": 10,
   "metadata": {},
   "outputs": [
    {
     "name": "stdout",
     "output_type": "stream",
     "text": [
      "Unique emojis:  29 \n",
      "\n"
     ]
    },
    {
     "data": {
      "text/html": [
       "<div>\n",
       "<style scoped>\n",
       "    .dataframe tbody tr th:only-of-type {\n",
       "        vertical-align: middle;\n",
       "    }\n",
       "\n",
       "    .dataframe tbody tr th {\n",
       "        vertical-align: top;\n",
       "    }\n",
       "\n",
       "    .dataframe thead th {\n",
       "        text-align: right;\n",
       "    }\n",
       "</style>\n",
       "<table border=\"1\" class=\"dataframe\">\n",
       "  <thead>\n",
       "    <tr style=\"text-align: right;\">\n",
       "      <th></th>\n",
       "      <th>Cantidad</th>\n",
       "    </tr>\n",
       "    <tr>\n",
       "      <th>Emoji</th>\n",
       "      <th></th>\n",
       "    </tr>\n",
       "  </thead>\n",
       "  <tbody>\n",
       "    <tr>\n",
       "      <th>🤣</th>\n",
       "      <td>26</td>\n",
       "    </tr>\n",
       "    <tr>\n",
       "      <th>🤔</th>\n",
       "      <td>11</td>\n",
       "    </tr>\n",
       "    <tr>\n",
       "      <th>👍🏽</th>\n",
       "      <td>10</td>\n",
       "    </tr>\n",
       "    <tr>\n",
       "      <th>👀</th>\n",
       "      <td>5</td>\n",
       "    </tr>\n",
       "    <tr>\n",
       "      <th>🙃</th>\n",
       "      <td>4</td>\n",
       "    </tr>\n",
       "    <tr>\n",
       "      <th>😞</th>\n",
       "      <td>4</td>\n",
       "    </tr>\n",
       "    <tr>\n",
       "      <th>🫦</th>\n",
       "      <td>3</td>\n",
       "    </tr>\n",
       "    <tr>\n",
       "      <th>😅</th>\n",
       "      <td>3</td>\n",
       "    </tr>\n",
       "    <tr>\n",
       "      <th>😌</th>\n",
       "      <td>2</td>\n",
       "    </tr>\n",
       "    <tr>\n",
       "      <th>😘</th>\n",
       "      <td>2</td>\n",
       "    </tr>\n",
       "  </tbody>\n",
       "</table>\n",
       "</div>"
      ],
      "text/plain": [
       "       Cantidad\n",
       "Emoji          \n",
       "🤣           26\n",
       "🤔           11\n",
       "👍🏽         10\n",
       "👀            5\n",
       "🙃            4\n",
       "😞            4\n",
       "🫦            3\n",
       "😅            3\n",
       "😌            2\n",
       "😘            2"
      ]
     },
     "execution_count": 10,
     "metadata": {},
     "output_type": "execute_result"
    }
   ],
   "source": [
    "emoji_list = list([a for b in df.Emojis for a in b])\n",
    "emoji_dict = dict(Counter(emoji_list))\n",
    "emoji_dict = sorted(emoji_dict.items(), key=lambda x: x[1], reverse=True)\n",
    "\n",
    "emoji_df = pd.DataFrame(emoji_dict, columns=['Emoji', 'Cantidad'])\n",
    "\n",
    "emoji_df = emoji_df.set_index('Emoji')\n",
    "\n",
    "print('Unique emojis: ', len(emoji_df), '\\n')\n",
    "emoji_df.head(10)"
   ]
  },
  {
   "cell_type": "markdown",
   "metadata": {},
   "source": [
    "### Most used emojis\n",
    "Show pie chart of most used emojis"
   ]
  },
  {
   "cell_type": "code",
   "execution_count": 11,
   "metadata": {},
   "outputs": [
    {
     "data": {
      "application/vnd.plotly.v1+json": {
       "config": {
        "plotlyServerURL": "https://plot.ly"
       },
       "data": [
        {
         "domain": {
          "x": [
           0,
           1
          ],
          "y": [
           0,
           1
          ]
         },
         "hovertemplate": "Emoji=%{label}<br>Cantidad=%{value}<extra></extra>",
         "labels": [
          "🤣",
          "🤔",
          "👍🏽",
          "👀",
          "🙃",
          "😞",
          "🫦",
          "😅",
          "😌",
          "😘",
          "💅",
          "🥹",
          "🤑",
          "🧉",
          "💪🏽",
          "🧐",
          "👉🏽",
          "👈🏽",
          "😏",
          "👍",
          "🥵",
          "🥶",
          "🙏",
          "😍",
          "🫣",
          "🩸",
          "😯",
          "😎",
          "☠️"
         ],
         "legendgroup": "",
         "name": "",
         "showlegend": true,
         "textinfo": "percent+label",
         "textposition": "inside",
         "type": "pie",
         "values": [
          26,
          11,
          10,
          5,
          4,
          4,
          3,
          3,
          2,
          2,
          2,
          2,
          1,
          1,
          1,
          1,
          1,
          1,
          1,
          1,
          1,
          1,
          1,
          1,
          1,
          1,
          1,
          1,
          1
         ]
        }
       ],
       "layout": {
        "font": {
         "color": "black",
         "family": "Segoe UI Emoji",
         "size": 14
        },
        "legend": {
         "tracegroupgap": 0
        },
        "template": {
         "data": {
          "bar": [
           {
            "error_x": {
             "color": "#2a3f5f"
            },
            "error_y": {
             "color": "#2a3f5f"
            },
            "marker": {
             "line": {
              "color": "#E5ECF6",
              "width": 0.5
             },
             "pattern": {
              "fillmode": "overlay",
              "size": 10,
              "solidity": 0.2
             }
            },
            "type": "bar"
           }
          ],
          "barpolar": [
           {
            "marker": {
             "line": {
              "color": "#E5ECF6",
              "width": 0.5
             },
             "pattern": {
              "fillmode": "overlay",
              "size": 10,
              "solidity": 0.2
             }
            },
            "type": "barpolar"
           }
          ],
          "carpet": [
           {
            "aaxis": {
             "endlinecolor": "#2a3f5f",
             "gridcolor": "white",
             "linecolor": "white",
             "minorgridcolor": "white",
             "startlinecolor": "#2a3f5f"
            },
            "baxis": {
             "endlinecolor": "#2a3f5f",
             "gridcolor": "white",
             "linecolor": "white",
             "minorgridcolor": "white",
             "startlinecolor": "#2a3f5f"
            },
            "type": "carpet"
           }
          ],
          "choropleth": [
           {
            "colorbar": {
             "outlinewidth": 0,
             "ticks": ""
            },
            "type": "choropleth"
           }
          ],
          "contour": [
           {
            "colorbar": {
             "outlinewidth": 0,
             "ticks": ""
            },
            "colorscale": [
             [
              0,
              "#0d0887"
             ],
             [
              0.1111111111111111,
              "#46039f"
             ],
             [
              0.2222222222222222,
              "#7201a8"
             ],
             [
              0.3333333333333333,
              "#9c179e"
             ],
             [
              0.4444444444444444,
              "#bd3786"
             ],
             [
              0.5555555555555556,
              "#d8576b"
             ],
             [
              0.6666666666666666,
              "#ed7953"
             ],
             [
              0.7777777777777778,
              "#fb9f3a"
             ],
             [
              0.8888888888888888,
              "#fdca26"
             ],
             [
              1,
              "#f0f921"
             ]
            ],
            "type": "contour"
           }
          ],
          "contourcarpet": [
           {
            "colorbar": {
             "outlinewidth": 0,
             "ticks": ""
            },
            "type": "contourcarpet"
           }
          ],
          "heatmap": [
           {
            "colorbar": {
             "outlinewidth": 0,
             "ticks": ""
            },
            "colorscale": [
             [
              0,
              "#0d0887"
             ],
             [
              0.1111111111111111,
              "#46039f"
             ],
             [
              0.2222222222222222,
              "#7201a8"
             ],
             [
              0.3333333333333333,
              "#9c179e"
             ],
             [
              0.4444444444444444,
              "#bd3786"
             ],
             [
              0.5555555555555556,
              "#d8576b"
             ],
             [
              0.6666666666666666,
              "#ed7953"
             ],
             [
              0.7777777777777778,
              "#fb9f3a"
             ],
             [
              0.8888888888888888,
              "#fdca26"
             ],
             [
              1,
              "#f0f921"
             ]
            ],
            "type": "heatmap"
           }
          ],
          "heatmapgl": [
           {
            "colorbar": {
             "outlinewidth": 0,
             "ticks": ""
            },
            "colorscale": [
             [
              0,
              "#0d0887"
             ],
             [
              0.1111111111111111,
              "#46039f"
             ],
             [
              0.2222222222222222,
              "#7201a8"
             ],
             [
              0.3333333333333333,
              "#9c179e"
             ],
             [
              0.4444444444444444,
              "#bd3786"
             ],
             [
              0.5555555555555556,
              "#d8576b"
             ],
             [
              0.6666666666666666,
              "#ed7953"
             ],
             [
              0.7777777777777778,
              "#fb9f3a"
             ],
             [
              0.8888888888888888,
              "#fdca26"
             ],
             [
              1,
              "#f0f921"
             ]
            ],
            "type": "heatmapgl"
           }
          ],
          "histogram": [
           {
            "marker": {
             "pattern": {
              "fillmode": "overlay",
              "size": 10,
              "solidity": 0.2
             }
            },
            "type": "histogram"
           }
          ],
          "histogram2d": [
           {
            "colorbar": {
             "outlinewidth": 0,
             "ticks": ""
            },
            "colorscale": [
             [
              0,
              "#0d0887"
             ],
             [
              0.1111111111111111,
              "#46039f"
             ],
             [
              0.2222222222222222,
              "#7201a8"
             ],
             [
              0.3333333333333333,
              "#9c179e"
             ],
             [
              0.4444444444444444,
              "#bd3786"
             ],
             [
              0.5555555555555556,
              "#d8576b"
             ],
             [
              0.6666666666666666,
              "#ed7953"
             ],
             [
              0.7777777777777778,
              "#fb9f3a"
             ],
             [
              0.8888888888888888,
              "#fdca26"
             ],
             [
              1,
              "#f0f921"
             ]
            ],
            "type": "histogram2d"
           }
          ],
          "histogram2dcontour": [
           {
            "colorbar": {
             "outlinewidth": 0,
             "ticks": ""
            },
            "colorscale": [
             [
              0,
              "#0d0887"
             ],
             [
              0.1111111111111111,
              "#46039f"
             ],
             [
              0.2222222222222222,
              "#7201a8"
             ],
             [
              0.3333333333333333,
              "#9c179e"
             ],
             [
              0.4444444444444444,
              "#bd3786"
             ],
             [
              0.5555555555555556,
              "#d8576b"
             ],
             [
              0.6666666666666666,
              "#ed7953"
             ],
             [
              0.7777777777777778,
              "#fb9f3a"
             ],
             [
              0.8888888888888888,
              "#fdca26"
             ],
             [
              1,
              "#f0f921"
             ]
            ],
            "type": "histogram2dcontour"
           }
          ],
          "mesh3d": [
           {
            "colorbar": {
             "outlinewidth": 0,
             "ticks": ""
            },
            "type": "mesh3d"
           }
          ],
          "parcoords": [
           {
            "line": {
             "colorbar": {
              "outlinewidth": 0,
              "ticks": ""
             }
            },
            "type": "parcoords"
           }
          ],
          "pie": [
           {
            "automargin": true,
            "type": "pie"
           }
          ],
          "scatter": [
           {
            "fillpattern": {
             "fillmode": "overlay",
             "size": 10,
             "solidity": 0.2
            },
            "type": "scatter"
           }
          ],
          "scatter3d": [
           {
            "line": {
             "colorbar": {
              "outlinewidth": 0,
              "ticks": ""
             }
            },
            "marker": {
             "colorbar": {
              "outlinewidth": 0,
              "ticks": ""
             }
            },
            "type": "scatter3d"
           }
          ],
          "scattercarpet": [
           {
            "marker": {
             "colorbar": {
              "outlinewidth": 0,
              "ticks": ""
             }
            },
            "type": "scattercarpet"
           }
          ],
          "scattergeo": [
           {
            "marker": {
             "colorbar": {
              "outlinewidth": 0,
              "ticks": ""
             }
            },
            "type": "scattergeo"
           }
          ],
          "scattergl": [
           {
            "marker": {
             "colorbar": {
              "outlinewidth": 0,
              "ticks": ""
             }
            },
            "type": "scattergl"
           }
          ],
          "scattermapbox": [
           {
            "marker": {
             "colorbar": {
              "outlinewidth": 0,
              "ticks": ""
             }
            },
            "type": "scattermapbox"
           }
          ],
          "scatterpolar": [
           {
            "marker": {
             "colorbar": {
              "outlinewidth": 0,
              "ticks": ""
             }
            },
            "type": "scatterpolar"
           }
          ],
          "scatterpolargl": [
           {
            "marker": {
             "colorbar": {
              "outlinewidth": 0,
              "ticks": ""
             }
            },
            "type": "scatterpolargl"
           }
          ],
          "scatterternary": [
           {
            "marker": {
             "colorbar": {
              "outlinewidth": 0,
              "ticks": ""
             }
            },
            "type": "scatterternary"
           }
          ],
          "surface": [
           {
            "colorbar": {
             "outlinewidth": 0,
             "ticks": ""
            },
            "colorscale": [
             [
              0,
              "#0d0887"
             ],
             [
              0.1111111111111111,
              "#46039f"
             ],
             [
              0.2222222222222222,
              "#7201a8"
             ],
             [
              0.3333333333333333,
              "#9c179e"
             ],
             [
              0.4444444444444444,
              "#bd3786"
             ],
             [
              0.5555555555555556,
              "#d8576b"
             ],
             [
              0.6666666666666666,
              "#ed7953"
             ],
             [
              0.7777777777777778,
              "#fb9f3a"
             ],
             [
              0.8888888888888888,
              "#fdca26"
             ],
             [
              1,
              "#f0f921"
             ]
            ],
            "type": "surface"
           }
          ],
          "table": [
           {
            "cells": {
             "fill": {
              "color": "#EBF0F8"
             },
             "line": {
              "color": "white"
             }
            },
            "header": {
             "fill": {
              "color": "#C8D4E3"
             },
             "line": {
              "color": "white"
             }
            },
            "type": "table"
           }
          ]
         },
         "layout": {
          "annotationdefaults": {
           "arrowcolor": "#2a3f5f",
           "arrowhead": 0,
           "arrowwidth": 1
          },
          "autotypenumbers": "strict",
          "coloraxis": {
           "colorbar": {
            "outlinewidth": 0,
            "ticks": ""
           }
          },
          "colorscale": {
           "diverging": [
            [
             0,
             "#8e0152"
            ],
            [
             0.1,
             "#c51b7d"
            ],
            [
             0.2,
             "#de77ae"
            ],
            [
             0.3,
             "#f1b6da"
            ],
            [
             0.4,
             "#fde0ef"
            ],
            [
             0.5,
             "#f7f7f7"
            ],
            [
             0.6,
             "#e6f5d0"
            ],
            [
             0.7,
             "#b8e186"
            ],
            [
             0.8,
             "#7fbc41"
            ],
            [
             0.9,
             "#4d9221"
            ],
            [
             1,
             "#276419"
            ]
           ],
           "sequential": [
            [
             0,
             "#0d0887"
            ],
            [
             0.1111111111111111,
             "#46039f"
            ],
            [
             0.2222222222222222,
             "#7201a8"
            ],
            [
             0.3333333333333333,
             "#9c179e"
            ],
            [
             0.4444444444444444,
             "#bd3786"
            ],
            [
             0.5555555555555556,
             "#d8576b"
            ],
            [
             0.6666666666666666,
             "#ed7953"
            ],
            [
             0.7777777777777778,
             "#fb9f3a"
            ],
            [
             0.8888888888888888,
             "#fdca26"
            ],
            [
             1,
             "#f0f921"
            ]
           ],
           "sequentialminus": [
            [
             0,
             "#0d0887"
            ],
            [
             0.1111111111111111,
             "#46039f"
            ],
            [
             0.2222222222222222,
             "#7201a8"
            ],
            [
             0.3333333333333333,
             "#9c179e"
            ],
            [
             0.4444444444444444,
             "#bd3786"
            ],
            [
             0.5555555555555556,
             "#d8576b"
            ],
            [
             0.6666666666666666,
             "#ed7953"
            ],
            [
             0.7777777777777778,
             "#fb9f3a"
            ],
            [
             0.8888888888888888,
             "#fdca26"
            ],
            [
             1,
             "#f0f921"
            ]
           ]
          },
          "colorway": [
           "#636efa",
           "#EF553B",
           "#00cc96",
           "#ab63fa",
           "#FFA15A",
           "#19d3f3",
           "#FF6692",
           "#B6E880",
           "#FF97FF",
           "#FECB52"
          ],
          "font": {
           "color": "#2a3f5f"
          },
          "geo": {
           "bgcolor": "white",
           "lakecolor": "white",
           "landcolor": "#E5ECF6",
           "showlakes": true,
           "showland": true,
           "subunitcolor": "white"
          },
          "hoverlabel": {
           "align": "left"
          },
          "hovermode": "closest",
          "mapbox": {
           "style": "light"
          },
          "paper_bgcolor": "white",
          "plot_bgcolor": "#E5ECF6",
          "polar": {
           "angularaxis": {
            "gridcolor": "white",
            "linecolor": "white",
            "ticks": ""
           },
           "bgcolor": "#E5ECF6",
           "radialaxis": {
            "gridcolor": "white",
            "linecolor": "white",
            "ticks": ""
           }
          },
          "scene": {
           "xaxis": {
            "backgroundcolor": "#E5ECF6",
            "gridcolor": "white",
            "gridwidth": 2,
            "linecolor": "white",
            "showbackground": true,
            "ticks": "",
            "zerolinecolor": "white"
           },
           "yaxis": {
            "backgroundcolor": "#E5ECF6",
            "gridcolor": "white",
            "gridwidth": 2,
            "linecolor": "white",
            "showbackground": true,
            "ticks": "",
            "zerolinecolor": "white"
           },
           "zaxis": {
            "backgroundcolor": "#E5ECF6",
            "gridcolor": "white",
            "gridwidth": 2,
            "linecolor": "white",
            "showbackground": true,
            "ticks": "",
            "zerolinecolor": "white"
           }
          },
          "shapedefaults": {
           "line": {
            "color": "#2a3f5f"
           }
          },
          "ternary": {
           "aaxis": {
            "gridcolor": "white",
            "linecolor": "white",
            "ticks": ""
           },
           "baxis": {
            "gridcolor": "white",
            "linecolor": "white",
            "ticks": ""
           },
           "bgcolor": "#E5ECF6",
           "caxis": {
            "gridcolor": "white",
            "linecolor": "white",
            "ticks": ""
           }
          },
          "title": {
           "x": 0.05
          },
          "xaxis": {
           "automargin": true,
           "gridcolor": "white",
           "linecolor": "white",
           "ticks": "",
           "title": {
            "standoff": 15
           },
           "zerolinecolor": "white",
           "zerolinewidth": 2
          },
          "yaxis": {
           "automargin": true,
           "gridcolor": "white",
           "linecolor": "white",
           "ticks": "",
           "title": {
            "standoff": 15
           },
           "zerolinecolor": "white",
           "zerolinewidth": 2
          }
         }
        },
        "title": {
         "text": "Pie de emojis"
        }
       }
      }
     },
     "metadata": {},
     "output_type": "display_data"
    }
   ],
   "source": [
    "fig = px.pie(emoji_df, values='Cantidad', names=emoji_df.index, title='Pie de emojis')\n",
    "fig.update_traces(textposition='inside', textinfo='percent+label')\n",
    "\n",
    "# Uses font compatible with emojies\n",
    "fig.update_layout(\n",
    "    font=dict(\n",
    "        family=\"Segoe UI Emoji\",\n",
    "        size=14,\n",
    "        color=\"black\" # font color\n",
    "    )\n",
    ")\n",
    "\n",
    "fig.write_image(get_save_path(save_path, f'{chat_name}-emojies.png'))\n",
    "fig.show()"
   ]
  },
  {
   "cell_type": "markdown",
   "metadata": {},
   "source": [
    "### Determine the most active member(s) of the chat\n",
    "Based on the messages quantity"
   ]
  },
  {
   "cell_type": "code",
   "execution_count": 12,
   "metadata": {},
   "outputs": [
    {
     "data": {
      "text/html": [
       "<div>\n",
       "<style scoped>\n",
       "    .dataframe tbody tr th:only-of-type {\n",
       "        vertical-align: middle;\n",
       "    }\n",
       "\n",
       "    .dataframe tbody tr th {\n",
       "        vertical-align: top;\n",
       "    }\n",
       "\n",
       "    .dataframe thead th {\n",
       "        text-align: right;\n",
       "    }\n",
       "</style>\n",
       "<table border=\"1\" class=\"dataframe\">\n",
       "  <thead>\n",
       "    <tr style=\"text-align: right;\">\n",
       "      <th></th>\n",
       "      <th>Miembro</th>\n",
       "      <th>Mensaje</th>\n",
       "    </tr>\n",
       "  </thead>\n",
       "  <tbody>\n",
       "    <tr>\n",
       "      <th>1</th>\n",
       "      <td>p. m. - Juanma Romano</td>\n",
       "      <td>846</td>\n",
       "    </tr>\n",
       "    <tr>\n",
       "      <th>2</th>\n",
       "      <td>p. m. - Anabel 🌷</td>\n",
       "      <td>682</td>\n",
       "    </tr>\n",
       "    <tr>\n",
       "      <th>3</th>\n",
       "      <td>a. m. - Anabel 🌷</td>\n",
       "      <td>452</td>\n",
       "    </tr>\n",
       "    <tr>\n",
       "      <th>4</th>\n",
       "      <td>a. m. - Juanma Romano</td>\n",
       "      <td>450</td>\n",
       "    </tr>\n",
       "  </tbody>\n",
       "</table>\n",
       "</div>"
      ],
      "text/plain": [
       "                 Miembro  Mensaje\n",
       "1  p. m. - Juanma Romano      846\n",
       "2      p. m. - Anabel 🌷      682\n",
       "3      a. m. - Anabel 🌷      452\n",
       "4  a. m. - Juanma Romano      450"
      ]
     },
     "execution_count": 12,
     "metadata": {},
     "output_type": "execute_result"
    }
   ],
   "source": [
    "df_active_members = df.groupby('Miembro')['Mensaje'].count().sort_values(ascending=False).to_frame()\n",
    "df_active_members.reset_index(inplace=True)\n",
    "df_active_members.index = np.arange(1, len(df_active_members)+1)\n",
    "df_active_members"
   ]
  },
  {
   "cell_type": "markdown",
   "metadata": {},
   "source": [
    "### Show most talk member(s)\n",
    "Based on the messages quantity"
   ]
  },
  {
   "cell_type": "code",
   "execution_count": 13,
   "metadata": {},
   "outputs": [
    {
     "data": {
      "application/vnd.plotly.v1+json": {
       "config": {
        "plotlyServerURL": "https://plot.ly"
       },
       "data": [
        {
         "domain": {
          "x": [
           0,
           1
          ],
          "y": [
           0,
           1
          ]
         },
         "hovertemplate": "Miembro=%{label}<br>Mensaje=%{value}<extra></extra>",
         "labels": [
          "p. m. - Juanma Romano",
          "p. m. - Anabel 🌷",
          "a. m. - Anabel 🌷",
          "a. m. - Juanma Romano"
         ],
         "legendgroup": "",
         "name": "",
         "showlegend": true,
         "textinfo": "percent+label",
         "textposition": "inside",
         "type": "pie",
         "values": [
          846,
          682,
          452,
          450
         ]
        }
       ],
       "layout": {
        "legend": {
         "tracegroupgap": 0
        },
        "template": {
         "data": {
          "bar": [
           {
            "error_x": {
             "color": "#2a3f5f"
            },
            "error_y": {
             "color": "#2a3f5f"
            },
            "marker": {
             "line": {
              "color": "#E5ECF6",
              "width": 0.5
             },
             "pattern": {
              "fillmode": "overlay",
              "size": 10,
              "solidity": 0.2
             }
            },
            "type": "bar"
           }
          ],
          "barpolar": [
           {
            "marker": {
             "line": {
              "color": "#E5ECF6",
              "width": 0.5
             },
             "pattern": {
              "fillmode": "overlay",
              "size": 10,
              "solidity": 0.2
             }
            },
            "type": "barpolar"
           }
          ],
          "carpet": [
           {
            "aaxis": {
             "endlinecolor": "#2a3f5f",
             "gridcolor": "white",
             "linecolor": "white",
             "minorgridcolor": "white",
             "startlinecolor": "#2a3f5f"
            },
            "baxis": {
             "endlinecolor": "#2a3f5f",
             "gridcolor": "white",
             "linecolor": "white",
             "minorgridcolor": "white",
             "startlinecolor": "#2a3f5f"
            },
            "type": "carpet"
           }
          ],
          "choropleth": [
           {
            "colorbar": {
             "outlinewidth": 0,
             "ticks": ""
            },
            "type": "choropleth"
           }
          ],
          "contour": [
           {
            "colorbar": {
             "outlinewidth": 0,
             "ticks": ""
            },
            "colorscale": [
             [
              0,
              "#0d0887"
             ],
             [
              0.1111111111111111,
              "#46039f"
             ],
             [
              0.2222222222222222,
              "#7201a8"
             ],
             [
              0.3333333333333333,
              "#9c179e"
             ],
             [
              0.4444444444444444,
              "#bd3786"
             ],
             [
              0.5555555555555556,
              "#d8576b"
             ],
             [
              0.6666666666666666,
              "#ed7953"
             ],
             [
              0.7777777777777778,
              "#fb9f3a"
             ],
             [
              0.8888888888888888,
              "#fdca26"
             ],
             [
              1,
              "#f0f921"
             ]
            ],
            "type": "contour"
           }
          ],
          "contourcarpet": [
           {
            "colorbar": {
             "outlinewidth": 0,
             "ticks": ""
            },
            "type": "contourcarpet"
           }
          ],
          "heatmap": [
           {
            "colorbar": {
             "outlinewidth": 0,
             "ticks": ""
            },
            "colorscale": [
             [
              0,
              "#0d0887"
             ],
             [
              0.1111111111111111,
              "#46039f"
             ],
             [
              0.2222222222222222,
              "#7201a8"
             ],
             [
              0.3333333333333333,
              "#9c179e"
             ],
             [
              0.4444444444444444,
              "#bd3786"
             ],
             [
              0.5555555555555556,
              "#d8576b"
             ],
             [
              0.6666666666666666,
              "#ed7953"
             ],
             [
              0.7777777777777778,
              "#fb9f3a"
             ],
             [
              0.8888888888888888,
              "#fdca26"
             ],
             [
              1,
              "#f0f921"
             ]
            ],
            "type": "heatmap"
           }
          ],
          "heatmapgl": [
           {
            "colorbar": {
             "outlinewidth": 0,
             "ticks": ""
            },
            "colorscale": [
             [
              0,
              "#0d0887"
             ],
             [
              0.1111111111111111,
              "#46039f"
             ],
             [
              0.2222222222222222,
              "#7201a8"
             ],
             [
              0.3333333333333333,
              "#9c179e"
             ],
             [
              0.4444444444444444,
              "#bd3786"
             ],
             [
              0.5555555555555556,
              "#d8576b"
             ],
             [
              0.6666666666666666,
              "#ed7953"
             ],
             [
              0.7777777777777778,
              "#fb9f3a"
             ],
             [
              0.8888888888888888,
              "#fdca26"
             ],
             [
              1,
              "#f0f921"
             ]
            ],
            "type": "heatmapgl"
           }
          ],
          "histogram": [
           {
            "marker": {
             "pattern": {
              "fillmode": "overlay",
              "size": 10,
              "solidity": 0.2
             }
            },
            "type": "histogram"
           }
          ],
          "histogram2d": [
           {
            "colorbar": {
             "outlinewidth": 0,
             "ticks": ""
            },
            "colorscale": [
             [
              0,
              "#0d0887"
             ],
             [
              0.1111111111111111,
              "#46039f"
             ],
             [
              0.2222222222222222,
              "#7201a8"
             ],
             [
              0.3333333333333333,
              "#9c179e"
             ],
             [
              0.4444444444444444,
              "#bd3786"
             ],
             [
              0.5555555555555556,
              "#d8576b"
             ],
             [
              0.6666666666666666,
              "#ed7953"
             ],
             [
              0.7777777777777778,
              "#fb9f3a"
             ],
             [
              0.8888888888888888,
              "#fdca26"
             ],
             [
              1,
              "#f0f921"
             ]
            ],
            "type": "histogram2d"
           }
          ],
          "histogram2dcontour": [
           {
            "colorbar": {
             "outlinewidth": 0,
             "ticks": ""
            },
            "colorscale": [
             [
              0,
              "#0d0887"
             ],
             [
              0.1111111111111111,
              "#46039f"
             ],
             [
              0.2222222222222222,
              "#7201a8"
             ],
             [
              0.3333333333333333,
              "#9c179e"
             ],
             [
              0.4444444444444444,
              "#bd3786"
             ],
             [
              0.5555555555555556,
              "#d8576b"
             ],
             [
              0.6666666666666666,
              "#ed7953"
             ],
             [
              0.7777777777777778,
              "#fb9f3a"
             ],
             [
              0.8888888888888888,
              "#fdca26"
             ],
             [
              1,
              "#f0f921"
             ]
            ],
            "type": "histogram2dcontour"
           }
          ],
          "mesh3d": [
           {
            "colorbar": {
             "outlinewidth": 0,
             "ticks": ""
            },
            "type": "mesh3d"
           }
          ],
          "parcoords": [
           {
            "line": {
             "colorbar": {
              "outlinewidth": 0,
              "ticks": ""
             }
            },
            "type": "parcoords"
           }
          ],
          "pie": [
           {
            "automargin": true,
            "type": "pie"
           }
          ],
          "scatter": [
           {
            "fillpattern": {
             "fillmode": "overlay",
             "size": 10,
             "solidity": 0.2
            },
            "type": "scatter"
           }
          ],
          "scatter3d": [
           {
            "line": {
             "colorbar": {
              "outlinewidth": 0,
              "ticks": ""
             }
            },
            "marker": {
             "colorbar": {
              "outlinewidth": 0,
              "ticks": ""
             }
            },
            "type": "scatter3d"
           }
          ],
          "scattercarpet": [
           {
            "marker": {
             "colorbar": {
              "outlinewidth": 0,
              "ticks": ""
             }
            },
            "type": "scattercarpet"
           }
          ],
          "scattergeo": [
           {
            "marker": {
             "colorbar": {
              "outlinewidth": 0,
              "ticks": ""
             }
            },
            "type": "scattergeo"
           }
          ],
          "scattergl": [
           {
            "marker": {
             "colorbar": {
              "outlinewidth": 0,
              "ticks": ""
             }
            },
            "type": "scattergl"
           }
          ],
          "scattermapbox": [
           {
            "marker": {
             "colorbar": {
              "outlinewidth": 0,
              "ticks": ""
             }
            },
            "type": "scattermapbox"
           }
          ],
          "scatterpolar": [
           {
            "marker": {
             "colorbar": {
              "outlinewidth": 0,
              "ticks": ""
             }
            },
            "type": "scatterpolar"
           }
          ],
          "scatterpolargl": [
           {
            "marker": {
             "colorbar": {
              "outlinewidth": 0,
              "ticks": ""
             }
            },
            "type": "scatterpolargl"
           }
          ],
          "scatterternary": [
           {
            "marker": {
             "colorbar": {
              "outlinewidth": 0,
              "ticks": ""
             }
            },
            "type": "scatterternary"
           }
          ],
          "surface": [
           {
            "colorbar": {
             "outlinewidth": 0,
             "ticks": ""
            },
            "colorscale": [
             [
              0,
              "#0d0887"
             ],
             [
              0.1111111111111111,
              "#46039f"
             ],
             [
              0.2222222222222222,
              "#7201a8"
             ],
             [
              0.3333333333333333,
              "#9c179e"
             ],
             [
              0.4444444444444444,
              "#bd3786"
             ],
             [
              0.5555555555555556,
              "#d8576b"
             ],
             [
              0.6666666666666666,
              "#ed7953"
             ],
             [
              0.7777777777777778,
              "#fb9f3a"
             ],
             [
              0.8888888888888888,
              "#fdca26"
             ],
             [
              1,
              "#f0f921"
             ]
            ],
            "type": "surface"
           }
          ],
          "table": [
           {
            "cells": {
             "fill": {
              "color": "#EBF0F8"
             },
             "line": {
              "color": "white"
             }
            },
            "header": {
             "fill": {
              "color": "#C8D4E3"
             },
             "line": {
              "color": "white"
             }
            },
            "type": "table"
           }
          ]
         },
         "layout": {
          "annotationdefaults": {
           "arrowcolor": "#2a3f5f",
           "arrowhead": 0,
           "arrowwidth": 1
          },
          "autotypenumbers": "strict",
          "coloraxis": {
           "colorbar": {
            "outlinewidth": 0,
            "ticks": ""
           }
          },
          "colorscale": {
           "diverging": [
            [
             0,
             "#8e0152"
            ],
            [
             0.1,
             "#c51b7d"
            ],
            [
             0.2,
             "#de77ae"
            ],
            [
             0.3,
             "#f1b6da"
            ],
            [
             0.4,
             "#fde0ef"
            ],
            [
             0.5,
             "#f7f7f7"
            ],
            [
             0.6,
             "#e6f5d0"
            ],
            [
             0.7,
             "#b8e186"
            ],
            [
             0.8,
             "#7fbc41"
            ],
            [
             0.9,
             "#4d9221"
            ],
            [
             1,
             "#276419"
            ]
           ],
           "sequential": [
            [
             0,
             "#0d0887"
            ],
            [
             0.1111111111111111,
             "#46039f"
            ],
            [
             0.2222222222222222,
             "#7201a8"
            ],
            [
             0.3333333333333333,
             "#9c179e"
            ],
            [
             0.4444444444444444,
             "#bd3786"
            ],
            [
             0.5555555555555556,
             "#d8576b"
            ],
            [
             0.6666666666666666,
             "#ed7953"
            ],
            [
             0.7777777777777778,
             "#fb9f3a"
            ],
            [
             0.8888888888888888,
             "#fdca26"
            ],
            [
             1,
             "#f0f921"
            ]
           ],
           "sequentialminus": [
            [
             0,
             "#0d0887"
            ],
            [
             0.1111111111111111,
             "#46039f"
            ],
            [
             0.2222222222222222,
             "#7201a8"
            ],
            [
             0.3333333333333333,
             "#9c179e"
            ],
            [
             0.4444444444444444,
             "#bd3786"
            ],
            [
             0.5555555555555556,
             "#d8576b"
            ],
            [
             0.6666666666666666,
             "#ed7953"
            ],
            [
             0.7777777777777778,
             "#fb9f3a"
            ],
            [
             0.8888888888888888,
             "#fdca26"
            ],
            [
             1,
             "#f0f921"
            ]
           ]
          },
          "colorway": [
           "#636efa",
           "#EF553B",
           "#00cc96",
           "#ab63fa",
           "#FFA15A",
           "#19d3f3",
           "#FF6692",
           "#B6E880",
           "#FF97FF",
           "#FECB52"
          ],
          "font": {
           "color": "#2a3f5f"
          },
          "geo": {
           "bgcolor": "white",
           "lakecolor": "white",
           "landcolor": "#E5ECF6",
           "showlakes": true,
           "showland": true,
           "subunitcolor": "white"
          },
          "hoverlabel": {
           "align": "left"
          },
          "hovermode": "closest",
          "mapbox": {
           "style": "light"
          },
          "paper_bgcolor": "white",
          "plot_bgcolor": "#E5ECF6",
          "polar": {
           "angularaxis": {
            "gridcolor": "white",
            "linecolor": "white",
            "ticks": ""
           },
           "bgcolor": "#E5ECF6",
           "radialaxis": {
            "gridcolor": "white",
            "linecolor": "white",
            "ticks": ""
           }
          },
          "scene": {
           "xaxis": {
            "backgroundcolor": "#E5ECF6",
            "gridcolor": "white",
            "gridwidth": 2,
            "linecolor": "white",
            "showbackground": true,
            "ticks": "",
            "zerolinecolor": "white"
           },
           "yaxis": {
            "backgroundcolor": "#E5ECF6",
            "gridcolor": "white",
            "gridwidth": 2,
            "linecolor": "white",
            "showbackground": true,
            "ticks": "",
            "zerolinecolor": "white"
           },
           "zaxis": {
            "backgroundcolor": "#E5ECF6",
            "gridcolor": "white",
            "gridwidth": 2,
            "linecolor": "white",
            "showbackground": true,
            "ticks": "",
            "zerolinecolor": "white"
           }
          },
          "shapedefaults": {
           "line": {
            "color": "#2a3f5f"
           }
          },
          "ternary": {
           "aaxis": {
            "gridcolor": "white",
            "linecolor": "white",
            "ticks": ""
           },
           "baxis": {
            "gridcolor": "white",
            "linecolor": "white",
            "ticks": ""
           },
           "bgcolor": "#E5ECF6",
           "caxis": {
            "gridcolor": "white",
            "linecolor": "white",
            "ticks": ""
           }
          },
          "title": {
           "x": 0.05
          },
          "xaxis": {
           "automargin": true,
           "gridcolor": "white",
           "linecolor": "white",
           "ticks": "",
           "title": {
            "standoff": 15
           },
           "zerolinecolor": "white",
           "zerolinewidth": 2
          },
          "yaxis": {
           "automargin": true,
           "gridcolor": "white",
           "linecolor": "white",
           "ticks": "",
           "title": {
            "standoff": 15
           },
           "zerolinecolor": "white",
           "zerolinewidth": 2
          }
         }
        },
        "title": {
         "text": "Habladores"
        }
       }
      }
     },
     "metadata": {},
     "output_type": "display_data"
    }
   ],
   "source": [
    "fig_users = px.pie(df_active_members, values='Mensaje', names=df_active_members['Miembro'], title='Habladores')\n",
    "fig_users.update_traces(textposition='inside', textinfo='percent+label')\n",
    "\n",
    "fig_users.write_image(get_save_path(save_path, f'{chat_name}-most-talk.png'))\n",
    "fig_users.show()"
   ]
  },
  {
   "cell_type": "markdown",
   "metadata": {},
   "source": [
    "###  Show the number of words and letters per message for each member"
   ]
  },
  {
   "cell_type": "code",
   "execution_count": 14,
   "metadata": {},
   "outputs": [
    {
     "name": "stderr",
     "output_type": "stream",
     "text": [
      "/home/hzoe/dev/wpp-visualization/venv/lib/python3.12/site-packages/plotly/express/_core.py:2065: FutureWarning:\n",
      "\n",
      "When grouping with a length-1 list-like, you will need to pass a length-1 tuple to get_group in a future version of pandas. Pass `(name,)` instead of `name` to silence this warning.\n",
      "\n"
     ]
    },
    {
     "data": {
      "application/vnd.plotly.v1+json": {
       "config": {
        "plotlyServerURL": "https://plot.ly"
       },
       "data": [
        {
         "hovertemplate": "<b>%{hovertext}</b><br><br>Miembro=%{y}<br>Palabras=%{x}<br>Letras=%{marker.size}<extra></extra>",
         "hovertext": [
          "p. m. - Anabel 🌷",
          "p. m. - Anabel 🌷",
          "p. m. - Anabel 🌷",
          "p. m. - Anabel 🌷",
          "p. m. - Anabel 🌷",
          "p. m. - Anabel 🌷",
          "p. m. - Anabel 🌷",
          "p. m. - Anabel 🌷",
          "p. m. - Anabel 🌷",
          "p. m. - Anabel 🌷",
          "p. m. - Anabel 🌷",
          "p. m. - Anabel 🌷",
          "p. m. - Anabel 🌷",
          "p. m. - Anabel 🌷",
          "p. m. - Anabel 🌷",
          "p. m. - Anabel 🌷",
          "p. m. - Anabel 🌷",
          "p. m. - Anabel 🌷",
          "p. m. - Anabel 🌷",
          "p. m. - Anabel 🌷",
          "p. m. - Anabel 🌷",
          "p. m. - Anabel 🌷",
          "p. m. - Anabel 🌷",
          "p. m. - Anabel 🌷",
          "p. m. - Anabel 🌷",
          "p. m. - Anabel 🌷",
          "p. m. - Anabel 🌷",
          "p. m. - Anabel 🌷",
          "p. m. - Anabel 🌷",
          "p. m. - Anabel 🌷",
          "p. m. - Anabel 🌷",
          "p. m. - Anabel 🌷",
          "p. m. - Anabel 🌷",
          "p. m. - Anabel 🌷",
          "p. m. - Anabel 🌷",
          "p. m. - Anabel 🌷",
          "p. m. - Anabel 🌷",
          "p. m. - Anabel 🌷",
          "p. m. - Anabel 🌷",
          "p. m. - Anabel 🌷",
          "p. m. - Anabel 🌷",
          "p. m. - Anabel 🌷",
          "p. m. - Anabel 🌷",
          "p. m. - Anabel 🌷",
          "p. m. - Anabel 🌷",
          "p. m. - Anabel 🌷",
          "p. m. - Anabel 🌷",
          "p. m. - Anabel 🌷",
          "p. m. - Anabel 🌷",
          "p. m. - Anabel 🌷",
          "p. m. - Anabel 🌷",
          "p. m. - Anabel 🌷",
          "p. m. - Anabel 🌷",
          "p. m. - Anabel 🌷",
          "p. m. - Anabel 🌷",
          "p. m. - Anabel 🌷",
          "p. m. - Anabel 🌷",
          "p. m. - Anabel 🌷",
          "p. m. - Anabel 🌷",
          "p. m. - Anabel 🌷",
          "p. m. - Anabel 🌷",
          "p. m. - Anabel 🌷",
          "p. m. - Anabel 🌷",
          "p. m. - Anabel 🌷",
          "p. m. - Anabel 🌷",
          "p. m. - Anabel 🌷",
          "p. m. - Anabel 🌷",
          "p. m. - Anabel 🌷",
          "p. m. - Anabel 🌷",
          "p. m. - Anabel 🌷",
          "p. m. - Anabel 🌷",
          "p. m. - Anabel 🌷",
          "p. m. - Anabel 🌷",
          "p. m. - Anabel 🌷",
          "p. m. - Anabel 🌷",
          "p. m. - Anabel 🌷",
          "p. m. - Anabel 🌷",
          "p. m. - Anabel 🌷",
          "p. m. - Anabel 🌷",
          "p. m. - Anabel 🌷",
          "p. m. - Anabel 🌷",
          "p. m. - Anabel 🌷",
          "p. m. - Anabel 🌷",
          "p. m. - Anabel 🌷",
          "p. m. - Anabel 🌷",
          "p. m. - Anabel 🌷",
          "p. m. - Anabel 🌷",
          "p. m. - Anabel 🌷",
          "p. m. - Anabel 🌷",
          "p. m. - Anabel 🌷",
          "p. m. - Anabel 🌷",
          "p. m. - Anabel 🌷",
          "p. m. - Anabel 🌷",
          "p. m. - Anabel 🌷",
          "p. m. - Anabel 🌷",
          "p. m. - Anabel 🌷",
          "p. m. - Anabel 🌷",
          "p. m. - Anabel 🌷",
          "p. m. - Anabel 🌷",
          "p. m. - Anabel 🌷",
          "p. m. - Anabel 🌷",
          "p. m. - Anabel 🌷",
          "p. m. - Anabel 🌷",
          "p. m. - Anabel 🌷",
          "p. m. - Anabel 🌷",
          "p. m. - Anabel 🌷",
          "p. m. - Anabel 🌷",
          "p. m. - Anabel 🌷",
          "p. m. - Anabel 🌷",
          "p. m. - Anabel 🌷",
          "p. m. - Anabel 🌷",
          "p. m. - Anabel 🌷",
          "p. m. - Anabel 🌷",
          "p. m. - Anabel 🌷",
          "p. m. - Anabel 🌷",
          "p. m. - Anabel 🌷",
          "p. m. - Anabel 🌷",
          "p. m. - Anabel 🌷",
          "p. m. - Anabel 🌷",
          "p. m. - Anabel 🌷",
          "p. m. - Anabel 🌷",
          "p. m. - Anabel 🌷",
          "p. m. - Anabel 🌷",
          "p. m. - Anabel 🌷",
          "p. m. - Anabel 🌷",
          "p. m. - Anabel 🌷",
          "p. m. - Anabel 🌷",
          "p. m. - Anabel 🌷",
          "p. m. - Anabel 🌷",
          "p. m. - Anabel 🌷",
          "p. m. - Anabel 🌷",
          "p. m. - Anabel 🌷",
          "p. m. - Anabel 🌷",
          "p. m. - Anabel 🌷",
          "p. m. - Anabel 🌷",
          "p. m. - Anabel 🌷",
          "p. m. - Anabel 🌷",
          "p. m. - Anabel 🌷",
          "p. m. - Anabel 🌷",
          "p. m. - Anabel 🌷",
          "p. m. - Anabel 🌷",
          "p. m. - Anabel 🌷",
          "p. m. - Anabel 🌷",
          "p. m. - Anabel 🌷",
          "p. m. - Anabel 🌷",
          "p. m. - Anabel 🌷",
          "p. m. - Anabel 🌷",
          "p. m. - Anabel 🌷",
          "p. m. - Anabel 🌷",
          "p. m. - Anabel 🌷",
          "p. m. - Anabel 🌷",
          "p. m. - Anabel 🌷",
          "p. m. - Anabel 🌷",
          "p. m. - Anabel 🌷",
          "p. m. - Anabel 🌷",
          "p. m. - Anabel 🌷",
          "p. m. - Anabel 🌷",
          "p. m. - Anabel 🌷",
          "p. m. - Anabel 🌷",
          "p. m. - Anabel 🌷",
          "p. m. - Anabel 🌷",
          "p. m. - Anabel 🌷",
          "p. m. - Anabel 🌷",
          "p. m. - Anabel 🌷",
          "p. m. - Anabel 🌷",
          "p. m. - Anabel 🌷",
          "p. m. - Anabel 🌷",
          "p. m. - Anabel 🌷",
          "p. m. - Anabel 🌷",
          "p. m. - Anabel 🌷",
          "p. m. - Anabel 🌷",
          "p. m. - Anabel 🌷",
          "p. m. - Anabel 🌷",
          "p. m. - Anabel 🌷",
          "p. m. - Anabel 🌷",
          "p. m. - Anabel 🌷",
          "p. m. - Anabel 🌷",
          "p. m. - Anabel 🌷",
          "p. m. - Anabel 🌷",
          "p. m. - Anabel 🌷",
          "p. m. - Anabel 🌷",
          "p. m. - Anabel 🌷",
          "p. m. - Anabel 🌷",
          "p. m. - Anabel 🌷",
          "p. m. - Anabel 🌷",
          "p. m. - Anabel 🌷",
          "p. m. - Anabel 🌷",
          "p. m. - Anabel 🌷",
          "p. m. - Anabel 🌷",
          "p. m. - Anabel 🌷",
          "p. m. - Anabel 🌷",
          "p. m. - Anabel 🌷",
          "p. m. - Anabel 🌷",
          "p. m. - Anabel 🌷",
          "p. m. - Anabel 🌷",
          "p. m. - Anabel 🌷",
          "p. m. - Anabel 🌷",
          "p. m. - Anabel 🌷",
          "p. m. - Anabel 🌷",
          "p. m. - Anabel 🌷",
          "p. m. - Anabel 🌷",
          "p. m. - Anabel 🌷",
          "p. m. - Anabel 🌷",
          "p. m. - Anabel 🌷",
          "p. m. - Anabel 🌷",
          "p. m. - Anabel 🌷",
          "p. m. - Anabel 🌷",
          "p. m. - Anabel 🌷",
          "p. m. - Anabel 🌷",
          "p. m. - Anabel 🌷",
          "p. m. - Anabel 🌷",
          "p. m. - Anabel 🌷",
          "p. m. - Anabel 🌷",
          "p. m. - Anabel 🌷",
          "p. m. - Anabel 🌷",
          "p. m. - Anabel 🌷",
          "p. m. - Anabel 🌷",
          "p. m. - Anabel 🌷",
          "p. m. - Anabel 🌷",
          "p. m. - Anabel 🌷",
          "p. m. - Anabel 🌷",
          "p. m. - Anabel 🌷",
          "p. m. - Anabel 🌷",
          "p. m. - Anabel 🌷",
          "p. m. - Anabel 🌷",
          "p. m. - Anabel 🌷",
          "p. m. - Anabel 🌷",
          "p. m. - Anabel 🌷",
          "p. m. - Anabel 🌷",
          "p. m. - Anabel 🌷",
          "p. m. - Anabel 🌷",
          "p. m. - Anabel 🌷",
          "p. m. - Anabel 🌷",
          "p. m. - Anabel 🌷",
          "p. m. - Anabel 🌷",
          "p. m. - Anabel 🌷",
          "p. m. - Anabel 🌷",
          "p. m. - Anabel 🌷",
          "p. m. - Anabel 🌷",
          "p. m. - Anabel 🌷",
          "p. m. - Anabel 🌷",
          "p. m. - Anabel 🌷",
          "p. m. - Anabel 🌷",
          "p. m. - Anabel 🌷",
          "p. m. - Anabel 🌷",
          "p. m. - Anabel 🌷",
          "p. m. - Anabel 🌷",
          "p. m. - Anabel 🌷",
          "p. m. - Anabel 🌷",
          "p. m. - Anabel 🌷",
          "p. m. - Anabel 🌷",
          "p. m. - Anabel 🌷",
          "p. m. - Anabel 🌷",
          "p. m. - Anabel 🌷",
          "p. m. - Anabel 🌷",
          "p. m. - Anabel 🌷",
          "p. m. - Anabel 🌷",
          "p. m. - Anabel 🌷",
          "p. m. - Anabel 🌷",
          "p. m. - Anabel 🌷",
          "p. m. - Anabel 🌷",
          "p. m. - Anabel 🌷",
          "p. m. - Anabel 🌷",
          "p. m. - Anabel 🌷",
          "p. m. - Anabel 🌷",
          "p. m. - Anabel 🌷",
          "p. m. - Anabel 🌷",
          "p. m. - Anabel 🌷",
          "p. m. - Anabel 🌷",
          "p. m. - Anabel 🌷",
          "p. m. - Anabel 🌷",
          "p. m. - Anabel 🌷",
          "p. m. - Anabel 🌷",
          "p. m. - Anabel 🌷",
          "p. m. - Anabel 🌷",
          "p. m. - Anabel 🌷",
          "p. m. - Anabel 🌷",
          "p. m. - Anabel 🌷",
          "p. m. - Anabel 🌷",
          "p. m. - Anabel 🌷",
          "p. m. - Anabel 🌷",
          "p. m. - Anabel 🌷",
          "p. m. - Anabel 🌷",
          "p. m. - Anabel 🌷",
          "p. m. - Anabel 🌷",
          "p. m. - Anabel 🌷",
          "p. m. - Anabel 🌷",
          "p. m. - Anabel 🌷",
          "p. m. - Anabel 🌷",
          "p. m. - Anabel 🌷",
          "p. m. - Anabel 🌷",
          "p. m. - Anabel 🌷",
          "p. m. - Anabel 🌷",
          "p. m. - Anabel 🌷",
          "p. m. - Anabel 🌷",
          "p. m. - Anabel 🌷",
          "p. m. - Anabel 🌷",
          "p. m. - Anabel 🌷",
          "p. m. - Anabel 🌷",
          "p. m. - Anabel 🌷",
          "p. m. - Anabel 🌷",
          "p. m. - Anabel 🌷",
          "p. m. - Anabel 🌷",
          "p. m. - Anabel 🌷",
          "p. m. - Anabel 🌷",
          "p. m. - Anabel 🌷",
          "p. m. - Anabel 🌷",
          "p. m. - Anabel 🌷",
          "p. m. - Anabel 🌷",
          "p. m. - Anabel 🌷",
          "p. m. - Anabel 🌷",
          "p. m. - Anabel 🌷",
          "p. m. - Anabel 🌷",
          "p. m. - Anabel 🌷",
          "p. m. - Anabel 🌷",
          "p. m. - Anabel 🌷",
          "p. m. - Anabel 🌷",
          "p. m. - Anabel 🌷",
          "p. m. - Anabel 🌷",
          "p. m. - Anabel 🌷",
          "p. m. - Anabel 🌷",
          "p. m. - Anabel 🌷",
          "p. m. - Anabel 🌷",
          "p. m. - Anabel 🌷",
          "p. m. - Anabel 🌷",
          "p. m. - Anabel 🌷",
          "p. m. - Anabel 🌷",
          "p. m. - Anabel 🌷",
          "p. m. - Anabel 🌷",
          "p. m. - Anabel 🌷",
          "p. m. - Anabel 🌷",
          "p. m. - Anabel 🌷",
          "p. m. - Anabel 🌷",
          "p. m. - Anabel 🌷",
          "p. m. - Anabel 🌷",
          "p. m. - Anabel 🌷",
          "p. m. - Anabel 🌷",
          "p. m. - Anabel 🌷",
          "p. m. - Anabel 🌷",
          "p. m. - Anabel 🌷",
          "p. m. - Anabel 🌷",
          "p. m. - Anabel 🌷",
          "p. m. - Anabel 🌷",
          "p. m. - Anabel 🌷",
          "p. m. - Anabel 🌷",
          "p. m. - Anabel 🌷",
          "p. m. - Anabel 🌷",
          "p. m. - Anabel 🌷",
          "p. m. - Anabel 🌷",
          "p. m. - Anabel 🌷",
          "p. m. - Anabel 🌷",
          "p. m. - Anabel 🌷",
          "p. m. - Anabel 🌷",
          "p. m. - Anabel 🌷",
          "p. m. - Anabel 🌷",
          "p. m. - Anabel 🌷",
          "p. m. - Anabel 🌷",
          "p. m. - Anabel 🌷",
          "p. m. - Anabel 🌷",
          "p. m. - Anabel 🌷",
          "p. m. - Anabel 🌷",
          "p. m. - Anabel 🌷",
          "p. m. - Anabel 🌷",
          "p. m. - Anabel 🌷",
          "p. m. - Anabel 🌷",
          "p. m. - Anabel 🌷",
          "p. m. - Anabel 🌷",
          "p. m. - Anabel 🌷",
          "p. m. - Anabel 🌷",
          "p. m. - Anabel 🌷",
          "p. m. - Anabel 🌷",
          "p. m. - Anabel 🌷",
          "p. m. - Anabel 🌷",
          "p. m. - Anabel 🌷",
          "p. m. - Anabel 🌷",
          "p. m. - Anabel 🌷",
          "p. m. - Anabel 🌷",
          "p. m. - Anabel 🌷",
          "p. m. - Anabel 🌷",
          "p. m. - Anabel 🌷",
          "p. m. - Anabel 🌷",
          "p. m. - Anabel 🌷",
          "p. m. - Anabel 🌷",
          "p. m. - Anabel 🌷",
          "p. m. - Anabel 🌷",
          "p. m. - Anabel 🌷",
          "p. m. - Anabel 🌷",
          "p. m. - Anabel 🌷",
          "p. m. - Anabel 🌷",
          "p. m. - Anabel 🌷",
          "p. m. - Anabel 🌷",
          "p. m. - Anabel 🌷",
          "p. m. - Anabel 🌷",
          "p. m. - Anabel 🌷",
          "p. m. - Anabel 🌷",
          "p. m. - Anabel 🌷",
          "p. m. - Anabel 🌷",
          "p. m. - Anabel 🌷",
          "p. m. - Anabel 🌷",
          "p. m. - Anabel 🌷",
          "p. m. - Anabel 🌷",
          "p. m. - Anabel 🌷",
          "p. m. - Anabel 🌷",
          "p. m. - Anabel 🌷",
          "p. m. - Anabel 🌷",
          "p. m. - Anabel 🌷",
          "p. m. - Anabel 🌷",
          "p. m. - Anabel 🌷",
          "p. m. - Anabel 🌷",
          "p. m. - Anabel 🌷",
          "p. m. - Anabel 🌷",
          "p. m. - Anabel 🌷",
          "p. m. - Anabel 🌷",
          "p. m. - Anabel 🌷",
          "p. m. - Anabel 🌷",
          "p. m. - Anabel 🌷",
          "p. m. - Anabel 🌷",
          "p. m. - Anabel 🌷",
          "p. m. - Anabel 🌷",
          "p. m. - Anabel 🌷",
          "p. m. - Anabel 🌷",
          "p. m. - Anabel 🌷",
          "p. m. - Anabel 🌷",
          "p. m. - Anabel 🌷",
          "p. m. - Anabel 🌷",
          "p. m. - Anabel 🌷",
          "p. m. - Anabel 🌷",
          "p. m. - Anabel 🌷",
          "p. m. - Anabel 🌷",
          "p. m. - Anabel 🌷",
          "p. m. - Anabel 🌷",
          "p. m. - Anabel 🌷",
          "p. m. - Anabel 🌷",
          "p. m. - Anabel 🌷",
          "p. m. - Anabel 🌷",
          "p. m. - Anabel 🌷",
          "p. m. - Anabel 🌷",
          "p. m. - Anabel 🌷",
          "p. m. - Anabel 🌷",
          "p. m. - Anabel 🌷",
          "p. m. - Anabel 🌷",
          "p. m. - Anabel 🌷",
          "p. m. - Anabel 🌷",
          "p. m. - Anabel 🌷",
          "p. m. - Anabel 🌷",
          "p. m. - Anabel 🌷",
          "p. m. - Anabel 🌷",
          "p. m. - Anabel 🌷",
          "p. m. - Anabel 🌷",
          "p. m. - Anabel 🌷",
          "p. m. - Anabel 🌷",
          "p. m. - Anabel 🌷",
          "p. m. - Anabel 🌷",
          "p. m. - Anabel 🌷",
          "p. m. - Anabel 🌷",
          "p. m. - Anabel 🌷",
          "p. m. - Anabel 🌷",
          "p. m. - Anabel 🌷",
          "p. m. - Anabel 🌷",
          "p. m. - Anabel 🌷",
          "p. m. - Anabel 🌷",
          "p. m. - Anabel 🌷",
          "p. m. - Anabel 🌷",
          "p. m. - Anabel 🌷",
          "p. m. - Anabel 🌷"
         ],
         "legendgroup": "p. m. - Anabel 🌷",
         "marker": {
          "color": "#636efa",
          "size": [
           6,
           23,
           32,
           6,
           41,
           15,
           33,
           38,
           26,
           23,
           56,
           6,
           35,
           44,
           14,
           13,
           40,
           5,
           6,
           65,
           57,
           58,
           12,
           5,
           8,
           14,
           31,
           33,
           20,
           20,
           29,
           15,
           6,
           8,
           10,
           12,
           5,
           24,
           37,
           18,
           15,
           25,
           37,
           21,
           8,
           9,
           2,
           28,
           2,
           42,
           9,
           18,
           5,
           10,
           6,
           51,
           17,
           21,
           11,
           10,
           3,
           49,
           15,
           20,
           18,
           19,
           23,
           9,
           5,
           19,
           14,
           22,
           48,
           30,
           3,
           21,
           31,
           16,
           2,
           41,
           22,
           14,
           4,
           13,
           39,
           3,
           5,
           42,
           5,
           24,
           22,
           3,
           7,
           22,
           16,
           28,
           16,
           33,
           51,
           3,
           9,
           52,
           24,
           41,
           7,
           24,
           25,
           2,
           54,
           4,
           15,
           43,
           16,
           79,
           16,
           3,
           8,
           27,
           103,
           6,
           24,
           30,
           26,
           26,
           26,
           35,
           31,
           62,
           17,
           14,
           31,
           22,
           51,
           29,
           36,
           27,
           12,
           29,
           30,
           24,
           6,
           19,
           33,
           24,
           31,
           45,
           42,
           69,
           101,
           12,
           47,
           81,
           18,
           36,
           31,
           7,
           55,
           35,
           2,
           40,
           38,
           7,
           9,
           13,
           6,
           40,
           1,
           45,
           461,
           38,
           6,
           49,
           42,
           10,
           15,
           8,
           20,
           41,
           23,
           43,
           5,
           23,
           34,
           9,
           5,
           13,
           33,
           26,
           8,
           15,
           23,
           30,
           10,
           20,
           22,
           56,
           58,
           16,
           56,
           52,
           51,
           100,
           27,
           17,
           42,
           22,
           11,
           10,
           48,
           29,
           22,
           40,
           4,
           72,
           39,
           18,
           36,
           25,
           25,
           5,
           10,
           30,
           26,
           4,
           38,
           3,
           5,
           25,
           3,
           25,
           11,
           22,
           43,
           33,
           27,
           6,
           9,
           26,
           23,
           8,
           25,
           12,
           47,
           28,
           20,
           12,
           18,
           51,
           85,
           92,
           15,
           22,
           75,
           32,
           9,
           50,
           8,
           15,
           8,
           12,
           3,
           21,
           27,
           18,
           14,
           22,
           22,
           55,
           5,
           8,
           46,
           3,
           21,
           7,
           8,
           21,
           80,
           39,
           4,
           38,
           16,
           4,
           7,
           33,
           3,
           46,
           15,
           5,
           85,
           62,
           108,
           61,
           51,
           52,
           42,
           41,
           41,
           46,
           87,
           66,
           2,
           61,
           24,
           3,
           6,
           19,
           32,
           10,
           9,
           23,
           24,
           4,
           35,
           5,
           5,
           16,
           31,
           42,
           5,
           37,
           21,
           33,
           88,
           9,
           15,
           4,
           29,
           20,
           5,
           23,
           14,
           17,
           23,
           36,
           9,
           16,
           28,
           41,
           30,
           34,
           52,
           12,
           18,
           4,
           8,
           63,
           67,
           27,
           52,
           29,
           74,
           85,
           36,
           84,
           97,
           10,
           10,
           16,
           53,
           51,
           19,
           10,
           28,
           10,
           12,
           21,
           6,
           8,
           18,
           22,
           24,
           5,
           10,
           15,
           6,
           17,
           2,
           16,
           4,
           30,
           4,
           21,
           10,
           7,
           8,
           22,
           18,
           21,
           35,
           17,
           27,
           19,
           7,
           14,
           12,
           6,
           18,
           16,
           49,
           9,
           3,
           36,
           26,
           100,
           3,
           24,
           7,
           21,
           48,
           4,
           17,
           3,
           36,
           20,
           39,
           9,
           20,
           6,
           5,
           7,
           14,
           56,
           21,
           8,
           27,
           22,
           21,
           8,
           21,
           19,
           30,
           8,
           34,
           16,
           35,
           12,
           10,
           1,
           23,
           16,
           32,
           4,
           28,
           38,
           40,
           18,
           10,
           22,
           39,
           3,
           47,
           8,
           25,
           13,
           5,
           23,
           32,
           6,
           19,
           55,
           14,
           33,
           14,
           47,
           88
          ],
          "sizemode": "area",
          "sizeref": 2.8,
          "symbol": "circle"
         },
         "mode": "markers",
         "name": "p. m. - Anabel 🌷",
         "showlegend": true,
         "type": "scattergl",
         "x": [
          1,
          4,
          7,
          1,
          8,
          3,
          7,
          8,
          5,
          5,
          11,
          1,
          8,
          6,
          3,
          2,
          8,
          2,
          1,
          12,
          10,
          12,
          2,
          1,
          2,
          3,
          7,
          5,
          3,
          4,
          7,
          3,
          1,
          2,
          2,
          3,
          1,
          4,
          7,
          5,
          3,
          6,
          10,
          6,
          2,
          2,
          1,
          6,
          1,
          9,
          1,
          3,
          1,
          2,
          1,
          11,
          4,
          5,
          2,
          2,
          1,
          8,
          3,
          4,
          4,
          3,
          5,
          2,
          1,
          5,
          3,
          4,
          10,
          4,
          1,
          4,
          5,
          4,
          1,
          9,
          4,
          3,
          1,
          3,
          7,
          1,
          1,
          6,
          1,
          5,
          4,
          1,
          1,
          6,
          2,
          5,
          4,
          7,
          12,
          1,
          3,
          13,
          6,
          9,
          1,
          4,
          5,
          1,
          12,
          1,
          2,
          9,
          3,
          16,
          4,
          1,
          2,
          7,
          1,
          1,
          4,
          6,
          6,
          6,
          6,
          8,
          7,
          11,
          4,
          3,
          6,
          5,
          11,
          5,
          9,
          5,
          2,
          7,
          6,
          4,
          1,
          3,
          6,
          6,
          6,
          8,
          8,
          1,
          20,
          4,
          10,
          19,
          4,
          8,
          5,
          2,
          12,
          7,
          1,
          7,
          6,
          1,
          1,
          4,
          1,
          8,
          1,
          9,
          88,
          8,
          1,
          10,
          10,
          2,
          3,
          2,
          4,
          10,
          7,
          11,
          1,
          5,
          6,
          2,
          1,
          3,
          6,
          5,
          2,
          4,
          5,
          7,
          3,
          5,
          3,
          9,
          10,
          4,
          8,
          9,
          10,
          20,
          5,
          3,
          9,
          5,
          2,
          2,
          9,
          7,
          5,
          9,
          1,
          13,
          8,
          3,
          9,
          7,
          6,
          1,
          2,
          8,
          6,
          1,
          7,
          1,
          1,
          6,
          1,
          1,
          2,
          4,
          10,
          6,
          7,
          1,
          2,
          5,
          6,
          2,
          6,
          1,
          10,
          6,
          5,
          2,
          3,
          12,
          16,
          21,
          3,
          6,
          15,
          6,
          3,
          9,
          2,
          3,
          3,
          3,
          1,
          4,
          3,
          4,
          3,
          4,
          4,
          10,
          1,
          2,
          9,
          1,
          4,
          1,
          2,
          4,
          15,
          8,
          1,
          8,
          3,
          1,
          2,
          6,
          1,
          7,
          2,
          1,
          17,
          12,
          18,
          12,
          10,
          11,
          9,
          8,
          8,
          10,
          16,
          12,
          1,
          11,
          5,
          1,
          1,
          5,
          6,
          2,
          2,
          5,
          5,
          1,
          6,
          1,
          2,
          4,
          6,
          9,
          1,
          8,
          5,
          7,
          22,
          2,
          3,
          1,
          5,
          5,
          1,
          4,
          2,
          3,
          4,
          7,
          2,
          4,
          6,
          8,
          5,
          5,
          10,
          4,
          3,
          1,
          2,
          11,
          11,
          6,
          9,
          5,
          15,
          15,
          8,
          19,
          20,
          2,
          2,
          4,
          11,
          11,
          3,
          2,
          5,
          3,
          2,
          4,
          1,
          2,
          4,
          4,
          5,
          1,
          3,
          2,
          1,
          4,
          1,
          3,
          1,
          7,
          1,
          3,
          2,
          1,
          2,
          5,
          5,
          5,
          8,
          5,
          7,
          5,
          1,
          3,
          2,
          1,
          4,
          4,
          11,
          2,
          1,
          8,
          5,
          21,
          1,
          4,
          1,
          4,
          7,
          1,
          4,
          1,
          8,
          5,
          8,
          2,
          4,
          1,
          2,
          2,
          2,
          10,
          6,
          2,
          8,
          4,
          6,
          1,
          4,
          5,
          7,
          2,
          6,
          4,
          8,
          2,
          2,
          1,
          4,
          3,
          5,
          1,
          6,
          8,
          8,
          2,
          1,
          4,
          8,
          1,
          10,
          2,
          6,
          2,
          1,
          7,
          7,
          1,
          5,
          10,
          3,
          7,
          3,
          8,
          24
         ],
         "xaxis": "x",
         "y": [
          "p. m. - Anabel 🌷",
          "p. m. - Anabel 🌷",
          "p. m. - Anabel 🌷",
          "p. m. - Anabel 🌷",
          "p. m. - Anabel 🌷",
          "p. m. - Anabel 🌷",
          "p. m. - Anabel 🌷",
          "p. m. - Anabel 🌷",
          "p. m. - Anabel 🌷",
          "p. m. - Anabel 🌷",
          "p. m. - Anabel 🌷",
          "p. m. - Anabel 🌷",
          "p. m. - Anabel 🌷",
          "p. m. - Anabel 🌷",
          "p. m. - Anabel 🌷",
          "p. m. - Anabel 🌷",
          "p. m. - Anabel 🌷",
          "p. m. - Anabel 🌷",
          "p. m. - Anabel 🌷",
          "p. m. - Anabel 🌷",
          "p. m. - Anabel 🌷",
          "p. m. - Anabel 🌷",
          "p. m. - Anabel 🌷",
          "p. m. - Anabel 🌷",
          "p. m. - Anabel 🌷",
          "p. m. - Anabel 🌷",
          "p. m. - Anabel 🌷",
          "p. m. - Anabel 🌷",
          "p. m. - Anabel 🌷",
          "p. m. - Anabel 🌷",
          "p. m. - Anabel 🌷",
          "p. m. - Anabel 🌷",
          "p. m. - Anabel 🌷",
          "p. m. - Anabel 🌷",
          "p. m. - Anabel 🌷",
          "p. m. - Anabel 🌷",
          "p. m. - Anabel 🌷",
          "p. m. - Anabel 🌷",
          "p. m. - Anabel 🌷",
          "p. m. - Anabel 🌷",
          "p. m. - Anabel 🌷",
          "p. m. - Anabel 🌷",
          "p. m. - Anabel 🌷",
          "p. m. - Anabel 🌷",
          "p. m. - Anabel 🌷",
          "p. m. - Anabel 🌷",
          "p. m. - Anabel 🌷",
          "p. m. - Anabel 🌷",
          "p. m. - Anabel 🌷",
          "p. m. - Anabel 🌷",
          "p. m. - Anabel 🌷",
          "p. m. - Anabel 🌷",
          "p. m. - Anabel 🌷",
          "p. m. - Anabel 🌷",
          "p. m. - Anabel 🌷",
          "p. m. - Anabel 🌷",
          "p. m. - Anabel 🌷",
          "p. m. - Anabel 🌷",
          "p. m. - Anabel 🌷",
          "p. m. - Anabel 🌷",
          "p. m. - Anabel 🌷",
          "p. m. - Anabel 🌷",
          "p. m. - Anabel 🌷",
          "p. m. - Anabel 🌷",
          "p. m. - Anabel 🌷",
          "p. m. - Anabel 🌷",
          "p. m. - Anabel 🌷",
          "p. m. - Anabel 🌷",
          "p. m. - Anabel 🌷",
          "p. m. - Anabel 🌷",
          "p. m. - Anabel 🌷",
          "p. m. - Anabel 🌷",
          "p. m. - Anabel 🌷",
          "p. m. - Anabel 🌷",
          "p. m. - Anabel 🌷",
          "p. m. - Anabel 🌷",
          "p. m. - Anabel 🌷",
          "p. m. - Anabel 🌷",
          "p. m. - Anabel 🌷",
          "p. m. - Anabel 🌷",
          "p. m. - Anabel 🌷",
          "p. m. - Anabel 🌷",
          "p. m. - Anabel 🌷",
          "p. m. - Anabel 🌷",
          "p. m. - Anabel 🌷",
          "p. m. - Anabel 🌷",
          "p. m. - Anabel 🌷",
          "p. m. - Anabel 🌷",
          "p. m. - Anabel 🌷",
          "p. m. - Anabel 🌷",
          "p. m. - Anabel 🌷",
          "p. m. - Anabel 🌷",
          "p. m. - Anabel 🌷",
          "p. m. - Anabel 🌷",
          "p. m. - Anabel 🌷",
          "p. m. - Anabel 🌷",
          "p. m. - Anabel 🌷",
          "p. m. - Anabel 🌷",
          "p. m. - Anabel 🌷",
          "p. m. - Anabel 🌷",
          "p. m. - Anabel 🌷",
          "p. m. - Anabel 🌷",
          "p. m. - Anabel 🌷",
          "p. m. - Anabel 🌷",
          "p. m. - Anabel 🌷",
          "p. m. - Anabel 🌷",
          "p. m. - Anabel 🌷",
          "p. m. - Anabel 🌷",
          "p. m. - Anabel 🌷",
          "p. m. - Anabel 🌷",
          "p. m. - Anabel 🌷",
          "p. m. - Anabel 🌷",
          "p. m. - Anabel 🌷",
          "p. m. - Anabel 🌷",
          "p. m. - Anabel 🌷",
          "p. m. - Anabel 🌷",
          "p. m. - Anabel 🌷",
          "p. m. - Anabel 🌷",
          "p. m. - Anabel 🌷",
          "p. m. - Anabel 🌷",
          "p. m. - Anabel 🌷",
          "p. m. - Anabel 🌷",
          "p. m. - Anabel 🌷",
          "p. m. - Anabel 🌷",
          "p. m. - Anabel 🌷",
          "p. m. - Anabel 🌷",
          "p. m. - Anabel 🌷",
          "p. m. - Anabel 🌷",
          "p. m. - Anabel 🌷",
          "p. m. - Anabel 🌷",
          "p. m. - Anabel 🌷",
          "p. m. - Anabel 🌷",
          "p. m. - Anabel 🌷",
          "p. m. - Anabel 🌷",
          "p. m. - Anabel 🌷",
          "p. m. - Anabel 🌷",
          "p. m. - Anabel 🌷",
          "p. m. - Anabel 🌷",
          "p. m. - Anabel 🌷",
          "p. m. - Anabel 🌷",
          "p. m. - Anabel 🌷",
          "p. m. - Anabel 🌷",
          "p. m. - Anabel 🌷",
          "p. m. - Anabel 🌷",
          "p. m. - Anabel 🌷",
          "p. m. - Anabel 🌷",
          "p. m. - Anabel 🌷",
          "p. m. - Anabel 🌷",
          "p. m. - Anabel 🌷",
          "p. m. - Anabel 🌷",
          "p. m. - Anabel 🌷",
          "p. m. - Anabel 🌷",
          "p. m. - Anabel 🌷",
          "p. m. - Anabel 🌷",
          "p. m. - Anabel 🌷",
          "p. m. - Anabel 🌷",
          "p. m. - Anabel 🌷",
          "p. m. - Anabel 🌷",
          "p. m. - Anabel 🌷",
          "p. m. - Anabel 🌷",
          "p. m. - Anabel 🌷",
          "p. m. - Anabel 🌷",
          "p. m. - Anabel 🌷",
          "p. m. - Anabel 🌷",
          "p. m. - Anabel 🌷",
          "p. m. - Anabel 🌷",
          "p. m. - Anabel 🌷",
          "p. m. - Anabel 🌷",
          "p. m. - Anabel 🌷",
          "p. m. - Anabel 🌷",
          "p. m. - Anabel 🌷",
          "p. m. - Anabel 🌷",
          "p. m. - Anabel 🌷",
          "p. m. - Anabel 🌷",
          "p. m. - Anabel 🌷",
          "p. m. - Anabel 🌷",
          "p. m. - Anabel 🌷",
          "p. m. - Anabel 🌷",
          "p. m. - Anabel 🌷",
          "p. m. - Anabel 🌷",
          "p. m. - Anabel 🌷",
          "p. m. - Anabel 🌷",
          "p. m. - Anabel 🌷",
          "p. m. - Anabel 🌷",
          "p. m. - Anabel 🌷",
          "p. m. - Anabel 🌷",
          "p. m. - Anabel 🌷",
          "p. m. - Anabel 🌷",
          "p. m. - Anabel 🌷",
          "p. m. - Anabel 🌷",
          "p. m. - Anabel 🌷",
          "p. m. - Anabel 🌷",
          "p. m. - Anabel 🌷",
          "p. m. - Anabel 🌷",
          "p. m. - Anabel 🌷",
          "p. m. - Anabel 🌷",
          "p. m. - Anabel 🌷",
          "p. m. - Anabel 🌷",
          "p. m. - Anabel 🌷",
          "p. m. - Anabel 🌷",
          "p. m. - Anabel 🌷",
          "p. m. - Anabel 🌷",
          "p. m. - Anabel 🌷",
          "p. m. - Anabel 🌷",
          "p. m. - Anabel 🌷",
          "p. m. - Anabel 🌷",
          "p. m. - Anabel 🌷",
          "p. m. - Anabel 🌷",
          "p. m. - Anabel 🌷",
          "p. m. - Anabel 🌷",
          "p. m. - Anabel 🌷",
          "p. m. - Anabel 🌷",
          "p. m. - Anabel 🌷",
          "p. m. - Anabel 🌷",
          "p. m. - Anabel 🌷",
          "p. m. - Anabel 🌷",
          "p. m. - Anabel 🌷",
          "p. m. - Anabel 🌷",
          "p. m. - Anabel 🌷",
          "p. m. - Anabel 🌷",
          "p. m. - Anabel 🌷",
          "p. m. - Anabel 🌷",
          "p. m. - Anabel 🌷",
          "p. m. - Anabel 🌷",
          "p. m. - Anabel 🌷",
          "p. m. - Anabel 🌷",
          "p. m. - Anabel 🌷",
          "p. m. - Anabel 🌷",
          "p. m. - Anabel 🌷",
          "p. m. - Anabel 🌷",
          "p. m. - Anabel 🌷",
          "p. m. - Anabel 🌷",
          "p. m. - Anabel 🌷",
          "p. m. - Anabel 🌷",
          "p. m. - Anabel 🌷",
          "p. m. - Anabel 🌷",
          "p. m. - Anabel 🌷",
          "p. m. - Anabel 🌷",
          "p. m. - Anabel 🌷",
          "p. m. - Anabel 🌷",
          "p. m. - Anabel 🌷",
          "p. m. - Anabel 🌷",
          "p. m. - Anabel 🌷",
          "p. m. - Anabel 🌷",
          "p. m. - Anabel 🌷",
          "p. m. - Anabel 🌷",
          "p. m. - Anabel 🌷",
          "p. m. - Anabel 🌷",
          "p. m. - Anabel 🌷",
          "p. m. - Anabel 🌷",
          "p. m. - Anabel 🌷",
          "p. m. - Anabel 🌷",
          "p. m. - Anabel 🌷",
          "p. m. - Anabel 🌷",
          "p. m. - Anabel 🌷",
          "p. m. - Anabel 🌷",
          "p. m. - Anabel 🌷",
          "p. m. - Anabel 🌷",
          "p. m. - Anabel 🌷",
          "p. m. - Anabel 🌷",
          "p. m. - Anabel 🌷",
          "p. m. - Anabel 🌷",
          "p. m. - Anabel 🌷",
          "p. m. - Anabel 🌷",
          "p. m. - Anabel 🌷",
          "p. m. - Anabel 🌷",
          "p. m. - Anabel 🌷",
          "p. m. - Anabel 🌷",
          "p. m. - Anabel 🌷",
          "p. m. - Anabel 🌷",
          "p. m. - Anabel 🌷",
          "p. m. - Anabel 🌷",
          "p. m. - Anabel 🌷",
          "p. m. - Anabel 🌷",
          "p. m. - Anabel 🌷",
          "p. m. - Anabel 🌷",
          "p. m. - Anabel 🌷",
          "p. m. - Anabel 🌷",
          "p. m. - Anabel 🌷",
          "p. m. - Anabel 🌷",
          "p. m. - Anabel 🌷",
          "p. m. - Anabel 🌷",
          "p. m. - Anabel 🌷",
          "p. m. - Anabel 🌷",
          "p. m. - Anabel 🌷",
          "p. m. - Anabel 🌷",
          "p. m. - Anabel 🌷",
          "p. m. - Anabel 🌷",
          "p. m. - Anabel 🌷",
          "p. m. - Anabel 🌷",
          "p. m. - Anabel 🌷",
          "p. m. - Anabel 🌷",
          "p. m. - Anabel 🌷",
          "p. m. - Anabel 🌷",
          "p. m. - Anabel 🌷",
          "p. m. - Anabel 🌷",
          "p. m. - Anabel 🌷",
          "p. m. - Anabel 🌷",
          "p. m. - Anabel 🌷",
          "p. m. - Anabel 🌷",
          "p. m. - Anabel 🌷",
          "p. m. - Anabel 🌷",
          "p. m. - Anabel 🌷",
          "p. m. - Anabel 🌷",
          "p. m. - Anabel 🌷",
          "p. m. - Anabel 🌷",
          "p. m. - Anabel 🌷",
          "p. m. - Anabel 🌷",
          "p. m. - Anabel 🌷",
          "p. m. - Anabel 🌷",
          "p. m. - Anabel 🌷",
          "p. m. - Anabel 🌷",
          "p. m. - Anabel 🌷",
          "p. m. - Anabel 🌷",
          "p. m. - Anabel 🌷",
          "p. m. - Anabel 🌷",
          "p. m. - Anabel 🌷",
          "p. m. - Anabel 🌷",
          "p. m. - Anabel 🌷",
          "p. m. - Anabel 🌷",
          "p. m. - Anabel 🌷",
          "p. m. - Anabel 🌷",
          "p. m. - Anabel 🌷",
          "p. m. - Anabel 🌷",
          "p. m. - Anabel 🌷",
          "p. m. - Anabel 🌷",
          "p. m. - Anabel 🌷",
          "p. m. - Anabel 🌷",
          "p. m. - Anabel 🌷",
          "p. m. - Anabel 🌷",
          "p. m. - Anabel 🌷",
          "p. m. - Anabel 🌷",
          "p. m. - Anabel 🌷",
          "p. m. - Anabel 🌷",
          "p. m. - Anabel 🌷",
          "p. m. - Anabel 🌷",
          "p. m. - Anabel 🌷",
          "p. m. - Anabel 🌷",
          "p. m. - Anabel 🌷",
          "p. m. - Anabel 🌷",
          "p. m. - Anabel 🌷",
          "p. m. - Anabel 🌷",
          "p. m. - Anabel 🌷",
          "p. m. - Anabel 🌷",
          "p. m. - Anabel 🌷",
          "p. m. - Anabel 🌷",
          "p. m. - Anabel 🌷",
          "p. m. - Anabel 🌷",
          "p. m. - Anabel 🌷",
          "p. m. - Anabel 🌷",
          "p. m. - Anabel 🌷",
          "p. m. - Anabel 🌷",
          "p. m. - Anabel 🌷",
          "p. m. - Anabel 🌷",
          "p. m. - Anabel 🌷",
          "p. m. - Anabel 🌷",
          "p. m. - Anabel 🌷",
          "p. m. - Anabel 🌷",
          "p. m. - Anabel 🌷",
          "p. m. - Anabel 🌷",
          "p. m. - Anabel 🌷",
          "p. m. - Anabel 🌷",
          "p. m. - Anabel 🌷",
          "p. m. - Anabel 🌷",
          "p. m. - Anabel 🌷",
          "p. m. - Anabel 🌷",
          "p. m. - Anabel 🌷",
          "p. m. - Anabel 🌷",
          "p. m. - Anabel 🌷",
          "p. m. - Anabel 🌷",
          "p. m. - Anabel 🌷",
          "p. m. - Anabel 🌷",
          "p. m. - Anabel 🌷",
          "p. m. - Anabel 🌷",
          "p. m. - Anabel 🌷",
          "p. m. - Anabel 🌷",
          "p. m. - Anabel 🌷",
          "p. m. - Anabel 🌷",
          "p. m. - Anabel 🌷",
          "p. m. - Anabel 🌷",
          "p. m. - Anabel 🌷",
          "p. m. - Anabel 🌷",
          "p. m. - Anabel 🌷",
          "p. m. - Anabel 🌷",
          "p. m. - Anabel 🌷",
          "p. m. - Anabel 🌷",
          "p. m. - Anabel 🌷",
          "p. m. - Anabel 🌷",
          "p. m. - Anabel 🌷",
          "p. m. - Anabel 🌷",
          "p. m. - Anabel 🌷",
          "p. m. - Anabel 🌷",
          "p. m. - Anabel 🌷",
          "p. m. - Anabel 🌷",
          "p. m. - Anabel 🌷",
          "p. m. - Anabel 🌷",
          "p. m. - Anabel 🌷",
          "p. m. - Anabel 🌷",
          "p. m. - Anabel 🌷",
          "p. m. - Anabel 🌷",
          "p. m. - Anabel 🌷",
          "p. m. - Anabel 🌷",
          "p. m. - Anabel 🌷",
          "p. m. - Anabel 🌷",
          "p. m. - Anabel 🌷",
          "p. m. - Anabel 🌷",
          "p. m. - Anabel 🌷",
          "p. m. - Anabel 🌷",
          "p. m. - Anabel 🌷",
          "p. m. - Anabel 🌷",
          "p. m. - Anabel 🌷",
          "p. m. - Anabel 🌷",
          "p. m. - Anabel 🌷",
          "p. m. - Anabel 🌷",
          "p. m. - Anabel 🌷",
          "p. m. - Anabel 🌷",
          "p. m. - Anabel 🌷",
          "p. m. - Anabel 🌷",
          "p. m. - Anabel 🌷",
          "p. m. - Anabel 🌷",
          "p. m. - Anabel 🌷",
          "p. m. - Anabel 🌷",
          "p. m. - Anabel 🌷",
          "p. m. - Anabel 🌷",
          "p. m. - Anabel 🌷",
          "p. m. - Anabel 🌷",
          "p. m. - Anabel 🌷",
          "p. m. - Anabel 🌷",
          "p. m. - Anabel 🌷",
          "p. m. - Anabel 🌷",
          "p. m. - Anabel 🌷",
          "p. m. - Anabel 🌷",
          "p. m. - Anabel 🌷",
          "p. m. - Anabel 🌷",
          "p. m. - Anabel 🌷",
          "p. m. - Anabel 🌷",
          "p. m. - Anabel 🌷",
          "p. m. - Anabel 🌷",
          "p. m. - Anabel 🌷",
          "p. m. - Anabel 🌷",
          "p. m. - Anabel 🌷",
          "p. m. - Anabel 🌷",
          "p. m. - Anabel 🌷",
          "p. m. - Anabel 🌷",
          "p. m. - Anabel 🌷",
          "p. m. - Anabel 🌷",
          "p. m. - Anabel 🌷",
          "p. m. - Anabel 🌷",
          "p. m. - Anabel 🌷",
          "p. m. - Anabel 🌷",
          "p. m. - Anabel 🌷",
          "p. m. - Anabel 🌷",
          "p. m. - Anabel 🌷",
          "p. m. - Anabel 🌷",
          "p. m. - Anabel 🌷",
          "p. m. - Anabel 🌷",
          "p. m. - Anabel 🌷",
          "p. m. - Anabel 🌷",
          "p. m. - Anabel 🌷",
          "p. m. - Anabel 🌷",
          "p. m. - Anabel 🌷",
          "p. m. - Anabel 🌷",
          "p. m. - Anabel 🌷",
          "p. m. - Anabel 🌷",
          "p. m. - Anabel 🌷"
         ],
         "yaxis": "y"
        },
        {
         "hovertemplate": "<b>%{hovertext}</b><br><br>Miembro=%{y}<br>Palabras=%{x}<br>Letras=%{marker.size}<extra></extra>",
         "hovertext": [
          "p. m. - Juanma Romano",
          "p. m. - Juanma Romano",
          "p. m. - Juanma Romano",
          "p. m. - Juanma Romano",
          "p. m. - Juanma Romano",
          "p. m. - Juanma Romano",
          "p. m. - Juanma Romano",
          "p. m. - Juanma Romano",
          "p. m. - Juanma Romano",
          "p. m. - Juanma Romano",
          "p. m. - Juanma Romano",
          "p. m. - Juanma Romano",
          "p. m. - Juanma Romano",
          "p. m. - Juanma Romano",
          "p. m. - Juanma Romano",
          "p. m. - Juanma Romano",
          "p. m. - Juanma Romano",
          "p. m. - Juanma Romano",
          "p. m. - Juanma Romano",
          "p. m. - Juanma Romano",
          "p. m. - Juanma Romano",
          "p. m. - Juanma Romano",
          "p. m. - Juanma Romano",
          "p. m. - Juanma Romano",
          "p. m. - Juanma Romano",
          "p. m. - Juanma Romano",
          "p. m. - Juanma Romano",
          "p. m. - Juanma Romano",
          "p. m. - Juanma Romano",
          "p. m. - Juanma Romano",
          "p. m. - Juanma Romano",
          "p. m. - Juanma Romano",
          "p. m. - Juanma Romano",
          "p. m. - Juanma Romano",
          "p. m. - Juanma Romano",
          "p. m. - Juanma Romano",
          "p. m. - Juanma Romano",
          "p. m. - Juanma Romano",
          "p. m. - Juanma Romano",
          "p. m. - Juanma Romano",
          "p. m. - Juanma Romano",
          "p. m. - Juanma Romano",
          "p. m. - Juanma Romano",
          "p. m. - Juanma Romano",
          "p. m. - Juanma Romano",
          "p. m. - Juanma Romano",
          "p. m. - Juanma Romano",
          "p. m. - Juanma Romano",
          "p. m. - Juanma Romano",
          "p. m. - Juanma Romano",
          "p. m. - Juanma Romano",
          "p. m. - Juanma Romano",
          "p. m. - Juanma Romano",
          "p. m. - Juanma Romano",
          "p. m. - Juanma Romano",
          "p. m. - Juanma Romano",
          "p. m. - Juanma Romano",
          "p. m. - Juanma Romano",
          "p. m. - Juanma Romano",
          "p. m. - Juanma Romano",
          "p. m. - Juanma Romano",
          "p. m. - Juanma Romano",
          "p. m. - Juanma Romano",
          "p. m. - Juanma Romano",
          "p. m. - Juanma Romano",
          "p. m. - Juanma Romano",
          "p. m. - Juanma Romano",
          "p. m. - Juanma Romano",
          "p. m. - Juanma Romano",
          "p. m. - Juanma Romano",
          "p. m. - Juanma Romano",
          "p. m. - Juanma Romano",
          "p. m. - Juanma Romano",
          "p. m. - Juanma Romano",
          "p. m. - Juanma Romano",
          "p. m. - Juanma Romano",
          "p. m. - Juanma Romano",
          "p. m. - Juanma Romano",
          "p. m. - Juanma Romano",
          "p. m. - Juanma Romano",
          "p. m. - Juanma Romano",
          "p. m. - Juanma Romano",
          "p. m. - Juanma Romano",
          "p. m. - Juanma Romano",
          "p. m. - Juanma Romano",
          "p. m. - Juanma Romano",
          "p. m. - Juanma Romano",
          "p. m. - Juanma Romano",
          "p. m. - Juanma Romano",
          "p. m. - Juanma Romano",
          "p. m. - Juanma Romano",
          "p. m. - Juanma Romano",
          "p. m. - Juanma Romano",
          "p. m. - Juanma Romano",
          "p. m. - Juanma Romano",
          "p. m. - Juanma Romano",
          "p. m. - Juanma Romano",
          "p. m. - Juanma Romano",
          "p. m. - Juanma Romano",
          "p. m. - Juanma Romano",
          "p. m. - Juanma Romano",
          "p. m. - Juanma Romano",
          "p. m. - Juanma Romano",
          "p. m. - Juanma Romano",
          "p. m. - Juanma Romano",
          "p. m. - Juanma Romano",
          "p. m. - Juanma Romano",
          "p. m. - Juanma Romano",
          "p. m. - Juanma Romano",
          "p. m. - Juanma Romano",
          "p. m. - Juanma Romano",
          "p. m. - Juanma Romano",
          "p. m. - Juanma Romano",
          "p. m. - Juanma Romano",
          "p. m. - Juanma Romano",
          "p. m. - Juanma Romano",
          "p. m. - Juanma Romano",
          "p. m. - Juanma Romano",
          "p. m. - Juanma Romano",
          "p. m. - Juanma Romano",
          "p. m. - Juanma Romano",
          "p. m. - Juanma Romano",
          "p. m. - Juanma Romano",
          "p. m. - Juanma Romano",
          "p. m. - Juanma Romano",
          "p. m. - Juanma Romano",
          "p. m. - Juanma Romano",
          "p. m. - Juanma Romano",
          "p. m. - Juanma Romano",
          "p. m. - Juanma Romano",
          "p. m. - Juanma Romano",
          "p. m. - Juanma Romano",
          "p. m. - Juanma Romano",
          "p. m. - Juanma Romano",
          "p. m. - Juanma Romano",
          "p. m. - Juanma Romano",
          "p. m. - Juanma Romano",
          "p. m. - Juanma Romano",
          "p. m. - Juanma Romano",
          "p. m. - Juanma Romano",
          "p. m. - Juanma Romano",
          "p. m. - Juanma Romano",
          "p. m. - Juanma Romano",
          "p. m. - Juanma Romano",
          "p. m. - Juanma Romano",
          "p. m. - Juanma Romano",
          "p. m. - Juanma Romano",
          "p. m. - Juanma Romano",
          "p. m. - Juanma Romano",
          "p. m. - Juanma Romano",
          "p. m. - Juanma Romano",
          "p. m. - Juanma Romano",
          "p. m. - Juanma Romano",
          "p. m. - Juanma Romano",
          "p. m. - Juanma Romano",
          "p. m. - Juanma Romano",
          "p. m. - Juanma Romano",
          "p. m. - Juanma Romano",
          "p. m. - Juanma Romano",
          "p. m. - Juanma Romano",
          "p. m. - Juanma Romano",
          "p. m. - Juanma Romano",
          "p. m. - Juanma Romano",
          "p. m. - Juanma Romano",
          "p. m. - Juanma Romano",
          "p. m. - Juanma Romano",
          "p. m. - Juanma Romano",
          "p. m. - Juanma Romano",
          "p. m. - Juanma Romano",
          "p. m. - Juanma Romano",
          "p. m. - Juanma Romano",
          "p. m. - Juanma Romano",
          "p. m. - Juanma Romano",
          "p. m. - Juanma Romano",
          "p. m. - Juanma Romano",
          "p. m. - Juanma Romano",
          "p. m. - Juanma Romano",
          "p. m. - Juanma Romano",
          "p. m. - Juanma Romano",
          "p. m. - Juanma Romano",
          "p. m. - Juanma Romano",
          "p. m. - Juanma Romano",
          "p. m. - Juanma Romano",
          "p. m. - Juanma Romano",
          "p. m. - Juanma Romano",
          "p. m. - Juanma Romano",
          "p. m. - Juanma Romano",
          "p. m. - Juanma Romano",
          "p. m. - Juanma Romano",
          "p. m. - Juanma Romano",
          "p. m. - Juanma Romano",
          "p. m. - Juanma Romano",
          "p. m. - Juanma Romano",
          "p. m. - Juanma Romano",
          "p. m. - Juanma Romano",
          "p. m. - Juanma Romano",
          "p. m. - Juanma Romano",
          "p. m. - Juanma Romano",
          "p. m. - Juanma Romano",
          "p. m. - Juanma Romano",
          "p. m. - Juanma Romano",
          "p. m. - Juanma Romano",
          "p. m. - Juanma Romano",
          "p. m. - Juanma Romano",
          "p. m. - Juanma Romano",
          "p. m. - Juanma Romano",
          "p. m. - Juanma Romano",
          "p. m. - Juanma Romano",
          "p. m. - Juanma Romano",
          "p. m. - Juanma Romano",
          "p. m. - Juanma Romano",
          "p. m. - Juanma Romano",
          "p. m. - Juanma Romano",
          "p. m. - Juanma Romano",
          "p. m. - Juanma Romano",
          "p. m. - Juanma Romano",
          "p. m. - Juanma Romano",
          "p. m. - Juanma Romano",
          "p. m. - Juanma Romano",
          "p. m. - Juanma Romano",
          "p. m. - Juanma Romano",
          "p. m. - Juanma Romano",
          "p. m. - Juanma Romano",
          "p. m. - Juanma Romano",
          "p. m. - Juanma Romano",
          "p. m. - Juanma Romano",
          "p. m. - Juanma Romano",
          "p. m. - Juanma Romano",
          "p. m. - Juanma Romano",
          "p. m. - Juanma Romano",
          "p. m. - Juanma Romano",
          "p. m. - Juanma Romano",
          "p. m. - Juanma Romano",
          "p. m. - Juanma Romano",
          "p. m. - Juanma Romano",
          "p. m. - Juanma Romano",
          "p. m. - Juanma Romano",
          "p. m. - Juanma Romano",
          "p. m. - Juanma Romano",
          "p. m. - Juanma Romano",
          "p. m. - Juanma Romano",
          "p. m. - Juanma Romano",
          "p. m. - Juanma Romano",
          "p. m. - Juanma Romano",
          "p. m. - Juanma Romano",
          "p. m. - Juanma Romano",
          "p. m. - Juanma Romano",
          "p. m. - Juanma Romano",
          "p. m. - Juanma Romano",
          "p. m. - Juanma Romano",
          "p. m. - Juanma Romano",
          "p. m. - Juanma Romano",
          "p. m. - Juanma Romano",
          "p. m. - Juanma Romano",
          "p. m. - Juanma Romano",
          "p. m. - Juanma Romano",
          "p. m. - Juanma Romano",
          "p. m. - Juanma Romano",
          "p. m. - Juanma Romano",
          "p. m. - Juanma Romano",
          "p. m. - Juanma Romano",
          "p. m. - Juanma Romano",
          "p. m. - Juanma Romano",
          "p. m. - Juanma Romano",
          "p. m. - Juanma Romano",
          "p. m. - Juanma Romano",
          "p. m. - Juanma Romano",
          "p. m. - Juanma Romano",
          "p. m. - Juanma Romano",
          "p. m. - Juanma Romano",
          "p. m. - Juanma Romano",
          "p. m. - Juanma Romano",
          "p. m. - Juanma Romano",
          "p. m. - Juanma Romano",
          "p. m. - Juanma Romano",
          "p. m. - Juanma Romano",
          "p. m. - Juanma Romano",
          "p. m. - Juanma Romano",
          "p. m. - Juanma Romano",
          "p. m. - Juanma Romano",
          "p. m. - Juanma Romano",
          "p. m. - Juanma Romano",
          "p. m. - Juanma Romano",
          "p. m. - Juanma Romano",
          "p. m. - Juanma Romano",
          "p. m. - Juanma Romano",
          "p. m. - Juanma Romano",
          "p. m. - Juanma Romano",
          "p. m. - Juanma Romano",
          "p. m. - Juanma Romano",
          "p. m. - Juanma Romano",
          "p. m. - Juanma Romano",
          "p. m. - Juanma Romano",
          "p. m. - Juanma Romano",
          "p. m. - Juanma Romano",
          "p. m. - Juanma Romano",
          "p. m. - Juanma Romano",
          "p. m. - Juanma Romano",
          "p. m. - Juanma Romano",
          "p. m. - Juanma Romano",
          "p. m. - Juanma Romano",
          "p. m. - Juanma Romano",
          "p. m. - Juanma Romano",
          "p. m. - Juanma Romano",
          "p. m. - Juanma Romano",
          "p. m. - Juanma Romano",
          "p. m. - Juanma Romano",
          "p. m. - Juanma Romano",
          "p. m. - Juanma Romano",
          "p. m. - Juanma Romano",
          "p. m. - Juanma Romano",
          "p. m. - Juanma Romano",
          "p. m. - Juanma Romano",
          "p. m. - Juanma Romano",
          "p. m. - Juanma Romano",
          "p. m. - Juanma Romano",
          "p. m. - Juanma Romano",
          "p. m. - Juanma Romano",
          "p. m. - Juanma Romano",
          "p. m. - Juanma Romano",
          "p. m. - Juanma Romano",
          "p. m. - Juanma Romano",
          "p. m. - Juanma Romano",
          "p. m. - Juanma Romano",
          "p. m. - Juanma Romano",
          "p. m. - Juanma Romano",
          "p. m. - Juanma Romano",
          "p. m. - Juanma Romano",
          "p. m. - Juanma Romano",
          "p. m. - Juanma Romano",
          "p. m. - Juanma Romano",
          "p. m. - Juanma Romano",
          "p. m. - Juanma Romano",
          "p. m. - Juanma Romano",
          "p. m. - Juanma Romano",
          "p. m. - Juanma Romano",
          "p. m. - Juanma Romano",
          "p. m. - Juanma Romano",
          "p. m. - Juanma Romano",
          "p. m. - Juanma Romano",
          "p. m. - Juanma Romano",
          "p. m. - Juanma Romano",
          "p. m. - Juanma Romano",
          "p. m. - Juanma Romano",
          "p. m. - Juanma Romano",
          "p. m. - Juanma Romano",
          "p. m. - Juanma Romano",
          "p. m. - Juanma Romano",
          "p. m. - Juanma Romano",
          "p. m. - Juanma Romano",
          "p. m. - Juanma Romano",
          "p. m. - Juanma Romano",
          "p. m. - Juanma Romano",
          "p. m. - Juanma Romano",
          "p. m. - Juanma Romano",
          "p. m. - Juanma Romano",
          "p. m. - Juanma Romano",
          "p. m. - Juanma Romano",
          "p. m. - Juanma Romano",
          "p. m. - Juanma Romano",
          "p. m. - Juanma Romano",
          "p. m. - Juanma Romano",
          "p. m. - Juanma Romano",
          "p. m. - Juanma Romano",
          "p. m. - Juanma Romano",
          "p. m. - Juanma Romano",
          "p. m. - Juanma Romano",
          "p. m. - Juanma Romano",
          "p. m. - Juanma Romano",
          "p. m. - Juanma Romano",
          "p. m. - Juanma Romano",
          "p. m. - Juanma Romano",
          "p. m. - Juanma Romano",
          "p. m. - Juanma Romano",
          "p. m. - Juanma Romano",
          "p. m. - Juanma Romano",
          "p. m. - Juanma Romano",
          "p. m. - Juanma Romano",
          "p. m. - Juanma Romano",
          "p. m. - Juanma Romano",
          "p. m. - Juanma Romano",
          "p. m. - Juanma Romano",
          "p. m. - Juanma Romano",
          "p. m. - Juanma Romano",
          "p. m. - Juanma Romano",
          "p. m. - Juanma Romano",
          "p. m. - Juanma Romano",
          "p. m. - Juanma Romano",
          "p. m. - Juanma Romano",
          "p. m. - Juanma Romano",
          "p. m. - Juanma Romano",
          "p. m. - Juanma Romano",
          "p. m. - Juanma Romano",
          "p. m. - Juanma Romano",
          "p. m. - Juanma Romano",
          "p. m. - Juanma Romano",
          "p. m. - Juanma Romano",
          "p. m. - Juanma Romano",
          "p. m. - Juanma Romano",
          "p. m. - Juanma Romano",
          "p. m. - Juanma Romano",
          "p. m. - Juanma Romano",
          "p. m. - Juanma Romano",
          "p. m. - Juanma Romano",
          "p. m. - Juanma Romano",
          "p. m. - Juanma Romano",
          "p. m. - Juanma Romano",
          "p. m. - Juanma Romano",
          "p. m. - Juanma Romano",
          "p. m. - Juanma Romano",
          "p. m. - Juanma Romano",
          "p. m. - Juanma Romano",
          "p. m. - Juanma Romano",
          "p. m. - Juanma Romano",
          "p. m. - Juanma Romano",
          "p. m. - Juanma Romano",
          "p. m. - Juanma Romano",
          "p. m. - Juanma Romano",
          "p. m. - Juanma Romano",
          "p. m. - Juanma Romano",
          "p. m. - Juanma Romano",
          "p. m. - Juanma Romano",
          "p. m. - Juanma Romano",
          "p. m. - Juanma Romano",
          "p. m. - Juanma Romano",
          "p. m. - Juanma Romano",
          "p. m. - Juanma Romano",
          "p. m. - Juanma Romano",
          "p. m. - Juanma Romano",
          "p. m. - Juanma Romano",
          "p. m. - Juanma Romano",
          "p. m. - Juanma Romano",
          "p. m. - Juanma Romano",
          "p. m. - Juanma Romano",
          "p. m. - Juanma Romano",
          "p. m. - Juanma Romano",
          "p. m. - Juanma Romano",
          "p. m. - Juanma Romano",
          "p. m. - Juanma Romano",
          "p. m. - Juanma Romano",
          "p. m. - Juanma Romano",
          "p. m. - Juanma Romano",
          "p. m. - Juanma Romano",
          "p. m. - Juanma Romano",
          "p. m. - Juanma Romano",
          "p. m. - Juanma Romano",
          "p. m. - Juanma Romano",
          "p. m. - Juanma Romano",
          "p. m. - Juanma Romano",
          "p. m. - Juanma Romano",
          "p. m. - Juanma Romano",
          "p. m. - Juanma Romano",
          "p. m. - Juanma Romano",
          "p. m. - Juanma Romano",
          "p. m. - Juanma Romano",
          "p. m. - Juanma Romano",
          "p. m. - Juanma Romano",
          "p. m. - Juanma Romano",
          "p. m. - Juanma Romano",
          "p. m. - Juanma Romano",
          "p. m. - Juanma Romano",
          "p. m. - Juanma Romano",
          "p. m. - Juanma Romano",
          "p. m. - Juanma Romano",
          "p. m. - Juanma Romano",
          "p. m. - Juanma Romano",
          "p. m. - Juanma Romano",
          "p. m. - Juanma Romano",
          "p. m. - Juanma Romano",
          "p. m. - Juanma Romano",
          "p. m. - Juanma Romano",
          "p. m. - Juanma Romano",
          "p. m. - Juanma Romano",
          "p. m. - Juanma Romano",
          "p. m. - Juanma Romano",
          "p. m. - Juanma Romano",
          "p. m. - Juanma Romano",
          "p. m. - Juanma Romano",
          "p. m. - Juanma Romano",
          "p. m. - Juanma Romano",
          "p. m. - Juanma Romano",
          "p. m. - Juanma Romano",
          "p. m. - Juanma Romano",
          "p. m. - Juanma Romano",
          "p. m. - Juanma Romano",
          "p. m. - Juanma Romano",
          "p. m. - Juanma Romano",
          "p. m. - Juanma Romano",
          "p. m. - Juanma Romano",
          "p. m. - Juanma Romano",
          "p. m. - Juanma Romano",
          "p. m. - Juanma Romano",
          "p. m. - Juanma Romano",
          "p. m. - Juanma Romano",
          "p. m. - Juanma Romano",
          "p. m. - Juanma Romano",
          "p. m. - Juanma Romano",
          "p. m. - Juanma Romano",
          "p. m. - Juanma Romano",
          "p. m. - Juanma Romano",
          "p. m. - Juanma Romano",
          "p. m. - Juanma Romano",
          "p. m. - Juanma Romano",
          "p. m. - Juanma Romano",
          "p. m. - Juanma Romano",
          "p. m. - Juanma Romano",
          "p. m. - Juanma Romano",
          "p. m. - Juanma Romano",
          "p. m. - Juanma Romano",
          "p. m. - Juanma Romano",
          "p. m. - Juanma Romano",
          "p. m. - Juanma Romano",
          "p. m. - Juanma Romano",
          "p. m. - Juanma Romano",
          "p. m. - Juanma Romano",
          "p. m. - Juanma Romano",
          "p. m. - Juanma Romano",
          "p. m. - Juanma Romano",
          "p. m. - Juanma Romano",
          "p. m. - Juanma Romano",
          "p. m. - Juanma Romano",
          "p. m. - Juanma Romano",
          "p. m. - Juanma Romano",
          "p. m. - Juanma Romano",
          "p. m. - Juanma Romano",
          "p. m. - Juanma Romano",
          "p. m. - Juanma Romano",
          "p. m. - Juanma Romano",
          "p. m. - Juanma Romano",
          "p. m. - Juanma Romano",
          "p. m. - Juanma Romano",
          "p. m. - Juanma Romano",
          "p. m. - Juanma Romano",
          "p. m. - Juanma Romano",
          "p. m. - Juanma Romano",
          "p. m. - Juanma Romano",
          "p. m. - Juanma Romano",
          "p. m. - Juanma Romano",
          "p. m. - Juanma Romano",
          "p. m. - Juanma Romano",
          "p. m. - Juanma Romano",
          "p. m. - Juanma Romano",
          "p. m. - Juanma Romano",
          "p. m. - Juanma Romano",
          "p. m. - Juanma Romano",
          "p. m. - Juanma Romano",
          "p. m. - Juanma Romano",
          "p. m. - Juanma Romano",
          "p. m. - Juanma Romano",
          "p. m. - Juanma Romano",
          "p. m. - Juanma Romano",
          "p. m. - Juanma Romano",
          "p. m. - Juanma Romano",
          "p. m. - Juanma Romano",
          "p. m. - Juanma Romano",
          "p. m. - Juanma Romano",
          "p. m. - Juanma Romano",
          "p. m. - Juanma Romano",
          "p. m. - Juanma Romano",
          "p. m. - Juanma Romano",
          "p. m. - Juanma Romano",
          "p. m. - Juanma Romano",
          "p. m. - Juanma Romano",
          "p. m. - Juanma Romano",
          "p. m. - Juanma Romano",
          "p. m. - Juanma Romano",
          "p. m. - Juanma Romano",
          "p. m. - Juanma Romano",
          "p. m. - Juanma Romano",
          "p. m. - Juanma Romano",
          "p. m. - Juanma Romano",
          "p. m. - Juanma Romano",
          "p. m. - Juanma Romano",
          "p. m. - Juanma Romano",
          "p. m. - Juanma Romano",
          "p. m. - Juanma Romano",
          "p. m. - Juanma Romano",
          "p. m. - Juanma Romano",
          "p. m. - Juanma Romano",
          "p. m. - Juanma Romano",
          "p. m. - Juanma Romano",
          "p. m. - Juanma Romano",
          "p. m. - Juanma Romano",
          "p. m. - Juanma Romano",
          "p. m. - Juanma Romano",
          "p. m. - Juanma Romano",
          "p. m. - Juanma Romano",
          "p. m. - Juanma Romano",
          "p. m. - Juanma Romano",
          "p. m. - Juanma Romano",
          "p. m. - Juanma Romano",
          "p. m. - Juanma Romano",
          "p. m. - Juanma Romano",
          "p. m. - Juanma Romano",
          "p. m. - Juanma Romano",
          "p. m. - Juanma Romano",
          "p. m. - Juanma Romano",
          "p. m. - Juanma Romano",
          "p. m. - Juanma Romano",
          "p. m. - Juanma Romano",
          "p. m. - Juanma Romano",
          "p. m. - Juanma Romano",
          "p. m. - Juanma Romano",
          "p. m. - Juanma Romano",
          "p. m. - Juanma Romano",
          "p. m. - Juanma Romano",
          "p. m. - Juanma Romano",
          "p. m. - Juanma Romano",
          "p. m. - Juanma Romano",
          "p. m. - Juanma Romano",
          "p. m. - Juanma Romano",
          "p. m. - Juanma Romano",
          "p. m. - Juanma Romano",
          "p. m. - Juanma Romano",
          "p. m. - Juanma Romano",
          "p. m. - Juanma Romano",
          "p. m. - Juanma Romano",
          "p. m. - Juanma Romano",
          "p. m. - Juanma Romano",
          "p. m. - Juanma Romano",
          "p. m. - Juanma Romano",
          "p. m. - Juanma Romano",
          "p. m. - Juanma Romano",
          "p. m. - Juanma Romano",
          "p. m. - Juanma Romano",
          "p. m. - Juanma Romano",
          "p. m. - Juanma Romano",
          "p. m. - Juanma Romano",
          "p. m. - Juanma Romano",
          "p. m. - Juanma Romano",
          "p. m. - Juanma Romano",
          "p. m. - Juanma Romano",
          "p. m. - Juanma Romano",
          "p. m. - Juanma Romano",
          "p. m. - Juanma Romano",
          "p. m. - Juanma Romano",
          "p. m. - Juanma Romano",
          "p. m. - Juanma Romano",
          "p. m. - Juanma Romano",
          "p. m. - Juanma Romano",
          "p. m. - Juanma Romano",
          "p. m. - Juanma Romano",
          "p. m. - Juanma Romano",
          "p. m. - Juanma Romano",
          "p. m. - Juanma Romano",
          "p. m. - Juanma Romano",
          "p. m. - Juanma Romano",
          "p. m. - Juanma Romano",
          "p. m. - Juanma Romano",
          "p. m. - Juanma Romano",
          "p. m. - Juanma Romano",
          "p. m. - Juanma Romano",
          "p. m. - Juanma Romano",
          "p. m. - Juanma Romano",
          "p. m. - Juanma Romano",
          "p. m. - Juanma Romano",
          "p. m. - Juanma Romano",
          "p. m. - Juanma Romano",
          "p. m. - Juanma Romano",
          "p. m. - Juanma Romano",
          "p. m. - Juanma Romano"
         ],
         "legendgroup": "p. m. - Juanma Romano",
         "marker": {
          "color": "#EF553B",
          "size": [
           5,
           18,
           27,
           34,
           41,
           29,
           51,
           11,
           13,
           47,
           49,
           64,
           60,
           46,
           25,
           67,
           46,
           4,
           75,
           21,
           53,
           12,
           14,
           20,
           47,
           12,
           53,
           18,
           24,
           42,
           79,
           58,
           50,
           32,
           26,
           18,
           31,
           37,
           47,
           17,
           41,
           29,
           11,
           26,
           32,
           24,
           8,
           7,
           43,
           63,
           48,
           42,
           23,
           12,
           107,
           68,
           14,
           37,
           18,
           13,
           37,
           60,
           75,
           58,
           45,
           5,
           65,
           4,
           24,
           62,
           25,
           46,
           21,
           43,
           22,
           18,
           41,
           52,
           88,
           85,
           26,
           5,
           28,
           4,
           85,
           60,
           30,
           14,
           32,
           81,
           53,
           21,
           78,
           13,
           12,
           9,
           16,
           23,
           4,
           13,
           42,
           6,
           65,
           1,
           39,
           7,
           8,
           17,
           4,
           94,
           23,
           25,
           10,
           9,
           7,
           9,
           1,
           45,
           86,
           8,
           36,
           1,
           21,
           22,
           10,
           60,
           8,
           33,
           17,
           9,
           6,
           27,
           18,
           7,
           27,
           44,
           23,
           35,
           22,
           43,
           32,
           29,
           73,
           17,
           17,
           25,
           21,
           12,
           20,
           12,
           14,
           31,
           98,
           25,
           91,
           28,
           28,
           59,
           98,
           30,
           23,
           71,
           71,
           13,
           32,
           19,
           38,
           23,
           15,
           22,
           10,
           39,
           32,
           12,
           8,
           10,
           10,
           8,
           52,
           39,
           14,
           8,
           9,
           9,
           13,
           16,
           4,
           15,
           29,
           14,
           9,
           59,
           38,
           47,
           10,
           4,
           29,
           64,
           32,
           77,
           22,
           4,
           4,
           25,
           22,
           29,
           33,
           28,
           7,
           17,
           14,
           33,
           34,
           35,
           9,
           30,
           66,
           23,
           4,
           9,
           21,
           40,
           25,
           35,
           32,
           44,
           107,
           31,
           8,
           48,
           7,
           22,
           11,
           31,
           57,
           19,
           30,
           36,
           73,
           38,
           3,
           19,
           18,
           65,
           13,
           4,
           5,
           14,
           24,
           4,
           27,
           35,
           4,
           24,
           47,
           13,
           30,
           14,
           22,
           40,
           28,
           42,
           51,
           4,
           10,
           24,
           14,
           29,
           64,
           29,
           14,
           25,
           12,
           4,
           6,
           10,
           29,
           25,
           22,
           57,
           37,
           81,
           81,
           15,
           49,
           14,
           14,
           53,
           38,
           42,
           57,
           112,
           37,
           29,
           48,
           21,
           52,
           15,
           35,
           10,
           39,
           49,
           36,
           42,
           50,
           9,
           11,
           5,
           8,
           47,
           14,
           79,
           15,
           7,
           4,
           34,
           6,
           43,
           18,
           17,
           20,
           16,
           4,
           4,
           33,
           7,
           66,
           24,
           34,
           17,
           68,
           4,
           73,
           39,
           3,
           32,
           31,
           17,
           16,
           15,
           63,
           35,
           41,
           59,
           12,
           6,
           24,
           38,
           41,
           48,
           13,
           45,
           19,
           30,
           36,
           7,
           2,
           8,
           31,
           19,
           11,
           21,
           33,
           4,
           27,
           56,
           29,
           47,
           26,
           37,
           9,
           20,
           12,
           19,
           4,
           32,
           64,
           58,
           18,
           21,
           71,
           11,
           15,
           10,
           8,
           47,
           40,
           72,
           10,
           10,
           21,
           67,
           23,
           21,
           5,
           32,
           19,
           8,
           6,
           15,
           5,
           36,
           28,
           23,
           55,
           13,
           30,
           18,
           78,
           5,
           5,
           28,
           9,
           26,
           25,
           22,
           6,
           9,
           45,
           4,
           29,
           65,
           61,
           43,
           117,
           4,
           10,
           4,
           19,
           77,
           63,
           95,
           28,
           206,
           161,
           102,
           26,
           138,
           96,
           42,
           37,
           43,
           66,
           6,
           35,
           18,
           32,
           17,
           112,
           20,
           44,
           34,
           76,
           22,
           103,
           14,
           13,
           8,
           12,
           7,
           96,
           38,
           55,
           35,
           17,
           53,
           35,
           57,
           43,
           25,
           20,
           28,
           5,
           79,
           33,
           55,
           20,
           1120,
           10,
           13,
           41,
           68,
           32,
           41,
           16,
           42,
           66,
           24,
           12,
           4,
           16,
           35,
           4,
           47,
           33,
           112,
           27,
           6,
           54,
           48,
           61,
           10,
           57,
           77,
           29,
           6,
           23,
           3,
           25,
           22,
           16,
           2,
           31,
           42,
           10,
           26,
           7,
           20,
           53,
           22,
           4,
           23,
           15,
           44,
           3,
           24,
           33,
           3,
           20,
           6,
           4,
           9,
           4,
           8,
           12,
           4,
           17,
           18,
           49,
           6,
           18,
           4,
           6,
           35,
           42,
           27,
           24,
           66,
           78,
           10,
           23,
           33,
           49,
           4,
           7,
           90,
           12,
           7,
           19,
           47,
           60,
           2,
           8,
           57,
           8,
           12,
           10,
           12,
           13,
           89,
           108,
           61,
           32,
           22,
           63,
           22,
           26,
           9,
           19,
           17,
           1,
           25,
           16,
           39,
           13,
           48,
           9,
           4,
           34,
           88,
           28,
           8,
           15,
           1,
           12,
           35,
           33,
           28,
           4,
           27,
           48,
           50,
           4,
           16,
           9,
           24,
           24,
           4,
           42,
           10,
           6,
           1,
           25,
           42,
           60,
           30,
           15,
           14,
           67,
           7,
           8,
           50,
           18,
           23,
           36,
           15,
           4,
           28,
           3,
           21,
           76,
           21,
           15,
           35,
           55,
           169,
           46,
           49,
           48,
           12,
           16,
           50,
           35,
           31,
           11,
           47,
           72,
           40,
           23,
           3,
           12,
           66,
           21,
           48,
           93,
           32,
           14,
           4,
           6,
           10,
           8
          ],
          "sizemode": "area",
          "sizeref": 2.8,
          "symbol": "circle"
         },
         "mode": "markers",
         "name": "p. m. - Juanma Romano",
         "showlegend": true,
         "type": "scattergl",
         "x": [
          1,
          3,
          5,
          6,
          8,
          7,
          10,
          2,
          3,
          10,
          7,
          11,
          12,
          9,
          4,
          13,
          10,
          1,
          14,
          4,
          10,
          2,
          4,
          3,
          12,
          2,
          9,
          2,
          6,
          7,
          15,
          9,
          9,
          6,
          5,
          5,
          8,
          6,
          8,
          3,
          6,
          6,
          1,
          4,
          7,
          4,
          2,
          1,
          8,
          12,
          8,
          8,
          4,
          1,
          19,
          12,
          2,
          8,
          4,
          3,
          8,
          10,
          14,
          10,
          7,
          2,
          15,
          1,
          4,
          10,
          7,
          9,
          3,
          9,
          4,
          3,
          8,
          8,
          15,
          16,
          5,
          1,
          6,
          1,
          14,
          12,
          6,
          3,
          6,
          15,
          11,
          4,
          14,
          1,
          2,
          1,
          4,
          4,
          1,
          2,
          8,
          2,
          12,
          1,
          9,
          2,
          3,
          4,
          1,
          1,
          4,
          5,
          1,
          2,
          2,
          1,
          1,
          6,
          20,
          2,
          7,
          1,
          5,
          6,
          1,
          12,
          2,
          5,
          3,
          1,
          1,
          4,
          4,
          1,
          7,
          10,
          5,
          7,
          6,
          6,
          1,
          5,
          13,
          2,
          4,
          4,
          4,
          3,
          3,
          3,
          3,
          7,
          19,
          4,
          18,
          5,
          6,
          9,
          18,
          5,
          5,
          13,
          14,
          2,
          8,
          3,
          8,
          4,
          2,
          4,
          2,
          7,
          1,
          2,
          1,
          2,
          2,
          2,
          10,
          9,
          2,
          1,
          2,
          2,
          3,
          2,
          1,
          3,
          6,
          3,
          2,
          13,
          8,
          10,
          2,
          1,
          5,
          14,
          8,
          14,
          5,
          1,
          1,
          6,
          5,
          5,
          8,
          5,
          2,
          3,
          2,
          8,
          10,
          6,
          2,
          5,
          14,
          5,
          1,
          2,
          4,
          8,
          4,
          5,
          5,
          6,
          19,
          8,
          1,
          9,
          1,
          5,
          1,
          7,
          12,
          4,
          7,
          7,
          11,
          7,
          1,
          4,
          3,
          12,
          2,
          1,
          1,
          3,
          5,
          1,
          3,
          5,
          1,
          5,
          11,
          2,
          6,
          3,
          4,
          8,
          4,
          10,
          9,
          1,
          2,
          4,
          3,
          5,
          11,
          4,
          3,
          5,
          2,
          1,
          1,
          3,
          6,
          5,
          4,
          12,
          7,
          16,
          16,
          3,
          8,
          1,
          2,
          11,
          9,
          7,
          10,
          23,
          6,
          5,
          9,
          3,
          9,
          4,
          6,
          3,
          7,
          9,
          5,
          7,
          7,
          1,
          2,
          1,
          2,
          9,
          3,
          17,
          3,
          1,
          1,
          5,
          2,
          10,
          4,
          3,
          3,
          4,
          1,
          1,
          7,
          1,
          12,
          6,
          8,
          3,
          13,
          1,
          15,
          7,
          1,
          5,
          7,
          3,
          3,
          3,
          13,
          7,
          5,
          10,
          3,
          1,
          3,
          9,
          8,
          9,
          3,
          11,
          3,
          7,
          8,
          1,
          1,
          1,
          4,
          3,
          2,
          5,
          6,
          1,
          5,
          12,
          6,
          10,
          5,
          8,
          1,
          3,
          3,
          3,
          1,
          6,
          10,
          10,
          3,
          4,
          13,
          3,
          3,
          2,
          2,
          10,
          9,
          15,
          2,
          2,
          4,
          12,
          4,
          4,
          1,
          6,
          4,
          2,
          1,
          2,
          2,
          6,
          6,
          4,
          12,
          2,
          6,
          3,
          15,
          1,
          1,
          7,
          1,
          4,
          5,
          6,
          2,
          2,
          8,
          1,
          6,
          12,
          12,
          7,
          21,
          1,
          2,
          1,
          4,
          13,
          12,
          16,
          6,
          34,
          32,
          16,
          5,
          26,
          15,
          9,
          5,
          1,
          13,
          1,
          7,
          4,
          5,
          3,
          21,
          3,
          8,
          6,
          14,
          4,
          16,
          3,
          2,
          1,
          3,
          2,
          17,
          8,
          11,
          7,
          3,
          11,
          7,
          12,
          7,
          5,
          5,
          5,
          1,
          20,
          6,
          13,
          3,
          199,
          1,
          2,
          9,
          14,
          6,
          8,
          3,
          7,
          14,
          5,
          2,
          1,
          3,
          5,
          1,
          9,
          7,
          21,
          7,
          1,
          9,
          10,
          11,
          2,
          10,
          15,
          5,
          1,
          3,
          1,
          6,
          4,
          2,
          1,
          6,
          6,
          2,
          5,
          1,
          5,
          10,
          5,
          1,
          4,
          3,
          8,
          1,
          3,
          6,
          1,
          4,
          2,
          1,
          2,
          1,
          2,
          2,
          1,
          4,
          4,
          9,
          2,
          4,
          1,
          1,
          7,
          9,
          5,
          6,
          12,
          15,
          3,
          6,
          6,
          9,
          1,
          2,
          10,
          2,
          1,
          3,
          8,
          13,
          1,
          2,
          11,
          2,
          3,
          1,
          3,
          2,
          17,
          20,
          13,
          8,
          5,
          12,
          4,
          5,
          2,
          4,
          4,
          1,
          6,
          3,
          8,
          2,
          11,
          2,
          1,
          5,
          15,
          5,
          1,
          3,
          1,
          3,
          5,
          6,
          6,
          1,
          5,
          1,
          11,
          1,
          2,
          1,
          4,
          5,
          1,
          9,
          3,
          1,
          1,
          6,
          8,
          13,
          6,
          3,
          3,
          15,
          2,
          1,
          9,
          3,
          5,
          8,
          4,
          1,
          5,
          1,
          3,
          13,
          4,
          4,
          6,
          11,
          31,
          11,
          11,
          9,
          3,
          3,
          10,
          8,
          7,
          3,
          8,
          16,
          8,
          5,
          1,
          2,
          17,
          4,
          10,
          18,
          5,
          3,
          1,
          1,
          2,
          1
         ],
         "xaxis": "x",
         "y": [
          "p. m. - Juanma Romano",
          "p. m. - Juanma Romano",
          "p. m. - Juanma Romano",
          "p. m. - Juanma Romano",
          "p. m. - Juanma Romano",
          "p. m. - Juanma Romano",
          "p. m. - Juanma Romano",
          "p. m. - Juanma Romano",
          "p. m. - Juanma Romano",
          "p. m. - Juanma Romano",
          "p. m. - Juanma Romano",
          "p. m. - Juanma Romano",
          "p. m. - Juanma Romano",
          "p. m. - Juanma Romano",
          "p. m. - Juanma Romano",
          "p. m. - Juanma Romano",
          "p. m. - Juanma Romano",
          "p. m. - Juanma Romano",
          "p. m. - Juanma Romano",
          "p. m. - Juanma Romano",
          "p. m. - Juanma Romano",
          "p. m. - Juanma Romano",
          "p. m. - Juanma Romano",
          "p. m. - Juanma Romano",
          "p. m. - Juanma Romano",
          "p. m. - Juanma Romano",
          "p. m. - Juanma Romano",
          "p. m. - Juanma Romano",
          "p. m. - Juanma Romano",
          "p. m. - Juanma Romano",
          "p. m. - Juanma Romano",
          "p. m. - Juanma Romano",
          "p. m. - Juanma Romano",
          "p. m. - Juanma Romano",
          "p. m. - Juanma Romano",
          "p. m. - Juanma Romano",
          "p. m. - Juanma Romano",
          "p. m. - Juanma Romano",
          "p. m. - Juanma Romano",
          "p. m. - Juanma Romano",
          "p. m. - Juanma Romano",
          "p. m. - Juanma Romano",
          "p. m. - Juanma Romano",
          "p. m. - Juanma Romano",
          "p. m. - Juanma Romano",
          "p. m. - Juanma Romano",
          "p. m. - Juanma Romano",
          "p. m. - Juanma Romano",
          "p. m. - Juanma Romano",
          "p. m. - Juanma Romano",
          "p. m. - Juanma Romano",
          "p. m. - Juanma Romano",
          "p. m. - Juanma Romano",
          "p. m. - Juanma Romano",
          "p. m. - Juanma Romano",
          "p. m. - Juanma Romano",
          "p. m. - Juanma Romano",
          "p. m. - Juanma Romano",
          "p. m. - Juanma Romano",
          "p. m. - Juanma Romano",
          "p. m. - Juanma Romano",
          "p. m. - Juanma Romano",
          "p. m. - Juanma Romano",
          "p. m. - Juanma Romano",
          "p. m. - Juanma Romano",
          "p. m. - Juanma Romano",
          "p. m. - Juanma Romano",
          "p. m. - Juanma Romano",
          "p. m. - Juanma Romano",
          "p. m. - Juanma Romano",
          "p. m. - Juanma Romano",
          "p. m. - Juanma Romano",
          "p. m. - Juanma Romano",
          "p. m. - Juanma Romano",
          "p. m. - Juanma Romano",
          "p. m. - Juanma Romano",
          "p. m. - Juanma Romano",
          "p. m. - Juanma Romano",
          "p. m. - Juanma Romano",
          "p. m. - Juanma Romano",
          "p. m. - Juanma Romano",
          "p. m. - Juanma Romano",
          "p. m. - Juanma Romano",
          "p. m. - Juanma Romano",
          "p. m. - Juanma Romano",
          "p. m. - Juanma Romano",
          "p. m. - Juanma Romano",
          "p. m. - Juanma Romano",
          "p. m. - Juanma Romano",
          "p. m. - Juanma Romano",
          "p. m. - Juanma Romano",
          "p. m. - Juanma Romano",
          "p. m. - Juanma Romano",
          "p. m. - Juanma Romano",
          "p. m. - Juanma Romano",
          "p. m. - Juanma Romano",
          "p. m. - Juanma Romano",
          "p. m. - Juanma Romano",
          "p. m. - Juanma Romano",
          "p. m. - Juanma Romano",
          "p. m. - Juanma Romano",
          "p. m. - Juanma Romano",
          "p. m. - Juanma Romano",
          "p. m. - Juanma Romano",
          "p. m. - Juanma Romano",
          "p. m. - Juanma Romano",
          "p. m. - Juanma Romano",
          "p. m. - Juanma Romano",
          "p. m. - Juanma Romano",
          "p. m. - Juanma Romano",
          "p. m. - Juanma Romano",
          "p. m. - Juanma Romano",
          "p. m. - Juanma Romano",
          "p. m. - Juanma Romano",
          "p. m. - Juanma Romano",
          "p. m. - Juanma Romano",
          "p. m. - Juanma Romano",
          "p. m. - Juanma Romano",
          "p. m. - Juanma Romano",
          "p. m. - Juanma Romano",
          "p. m. - Juanma Romano",
          "p. m. - Juanma Romano",
          "p. m. - Juanma Romano",
          "p. m. - Juanma Romano",
          "p. m. - Juanma Romano",
          "p. m. - Juanma Romano",
          "p. m. - Juanma Romano",
          "p. m. - Juanma Romano",
          "p. m. - Juanma Romano",
          "p. m. - Juanma Romano",
          "p. m. - Juanma Romano",
          "p. m. - Juanma Romano",
          "p. m. - Juanma Romano",
          "p. m. - Juanma Romano",
          "p. m. - Juanma Romano",
          "p. m. - Juanma Romano",
          "p. m. - Juanma Romano",
          "p. m. - Juanma Romano",
          "p. m. - Juanma Romano",
          "p. m. - Juanma Romano",
          "p. m. - Juanma Romano",
          "p. m. - Juanma Romano",
          "p. m. - Juanma Romano",
          "p. m. - Juanma Romano",
          "p. m. - Juanma Romano",
          "p. m. - Juanma Romano",
          "p. m. - Juanma Romano",
          "p. m. - Juanma Romano",
          "p. m. - Juanma Romano",
          "p. m. - Juanma Romano",
          "p. m. - Juanma Romano",
          "p. m. - Juanma Romano",
          "p. m. - Juanma Romano",
          "p. m. - Juanma Romano",
          "p. m. - Juanma Romano",
          "p. m. - Juanma Romano",
          "p. m. - Juanma Romano",
          "p. m. - Juanma Romano",
          "p. m. - Juanma Romano",
          "p. m. - Juanma Romano",
          "p. m. - Juanma Romano",
          "p. m. - Juanma Romano",
          "p. m. - Juanma Romano",
          "p. m. - Juanma Romano",
          "p. m. - Juanma Romano",
          "p. m. - Juanma Romano",
          "p. m. - Juanma Romano",
          "p. m. - Juanma Romano",
          "p. m. - Juanma Romano",
          "p. m. - Juanma Romano",
          "p. m. - Juanma Romano",
          "p. m. - Juanma Romano",
          "p. m. - Juanma Romano",
          "p. m. - Juanma Romano",
          "p. m. - Juanma Romano",
          "p. m. - Juanma Romano",
          "p. m. - Juanma Romano",
          "p. m. - Juanma Romano",
          "p. m. - Juanma Romano",
          "p. m. - Juanma Romano",
          "p. m. - Juanma Romano",
          "p. m. - Juanma Romano",
          "p. m. - Juanma Romano",
          "p. m. - Juanma Romano",
          "p. m. - Juanma Romano",
          "p. m. - Juanma Romano",
          "p. m. - Juanma Romano",
          "p. m. - Juanma Romano",
          "p. m. - Juanma Romano",
          "p. m. - Juanma Romano",
          "p. m. - Juanma Romano",
          "p. m. - Juanma Romano",
          "p. m. - Juanma Romano",
          "p. m. - Juanma Romano",
          "p. m. - Juanma Romano",
          "p. m. - Juanma Romano",
          "p. m. - Juanma Romano",
          "p. m. - Juanma Romano",
          "p. m. - Juanma Romano",
          "p. m. - Juanma Romano",
          "p. m. - Juanma Romano",
          "p. m. - Juanma Romano",
          "p. m. - Juanma Romano",
          "p. m. - Juanma Romano",
          "p. m. - Juanma Romano",
          "p. m. - Juanma Romano",
          "p. m. - Juanma Romano",
          "p. m. - Juanma Romano",
          "p. m. - Juanma Romano",
          "p. m. - Juanma Romano",
          "p. m. - Juanma Romano",
          "p. m. - Juanma Romano",
          "p. m. - Juanma Romano",
          "p. m. - Juanma Romano",
          "p. m. - Juanma Romano",
          "p. m. - Juanma Romano",
          "p. m. - Juanma Romano",
          "p. m. - Juanma Romano",
          "p. m. - Juanma Romano",
          "p. m. - Juanma Romano",
          "p. m. - Juanma Romano",
          "p. m. - Juanma Romano",
          "p. m. - Juanma Romano",
          "p. m. - Juanma Romano",
          "p. m. - Juanma Romano",
          "p. m. - Juanma Romano",
          "p. m. - Juanma Romano",
          "p. m. - Juanma Romano",
          "p. m. - Juanma Romano",
          "p. m. - Juanma Romano",
          "p. m. - Juanma Romano",
          "p. m. - Juanma Romano",
          "p. m. - Juanma Romano",
          "p. m. - Juanma Romano",
          "p. m. - Juanma Romano",
          "p. m. - Juanma Romano",
          "p. m. - Juanma Romano",
          "p. m. - Juanma Romano",
          "p. m. - Juanma Romano",
          "p. m. - Juanma Romano",
          "p. m. - Juanma Romano",
          "p. m. - Juanma Romano",
          "p. m. - Juanma Romano",
          "p. m. - Juanma Romano",
          "p. m. - Juanma Romano",
          "p. m. - Juanma Romano",
          "p. m. - Juanma Romano",
          "p. m. - Juanma Romano",
          "p. m. - Juanma Romano",
          "p. m. - Juanma Romano",
          "p. m. - Juanma Romano",
          "p. m. - Juanma Romano",
          "p. m. - Juanma Romano",
          "p. m. - Juanma Romano",
          "p. m. - Juanma Romano",
          "p. m. - Juanma Romano",
          "p. m. - Juanma Romano",
          "p. m. - Juanma Romano",
          "p. m. - Juanma Romano",
          "p. m. - Juanma Romano",
          "p. m. - Juanma Romano",
          "p. m. - Juanma Romano",
          "p. m. - Juanma Romano",
          "p. m. - Juanma Romano",
          "p. m. - Juanma Romano",
          "p. m. - Juanma Romano",
          "p. m. - Juanma Romano",
          "p. m. - Juanma Romano",
          "p. m. - Juanma Romano",
          "p. m. - Juanma Romano",
          "p. m. - Juanma Romano",
          "p. m. - Juanma Romano",
          "p. m. - Juanma Romano",
          "p. m. - Juanma Romano",
          "p. m. - Juanma Romano",
          "p. m. - Juanma Romano",
          "p. m. - Juanma Romano",
          "p. m. - Juanma Romano",
          "p. m. - Juanma Romano",
          "p. m. - Juanma Romano",
          "p. m. - Juanma Romano",
          "p. m. - Juanma Romano",
          "p. m. - Juanma Romano",
          "p. m. - Juanma Romano",
          "p. m. - Juanma Romano",
          "p. m. - Juanma Romano",
          "p. m. - Juanma Romano",
          "p. m. - Juanma Romano",
          "p. m. - Juanma Romano",
          "p. m. - Juanma Romano",
          "p. m. - Juanma Romano",
          "p. m. - Juanma Romano",
          "p. m. - Juanma Romano",
          "p. m. - Juanma Romano",
          "p. m. - Juanma Romano",
          "p. m. - Juanma Romano",
          "p. m. - Juanma Romano",
          "p. m. - Juanma Romano",
          "p. m. - Juanma Romano",
          "p. m. - Juanma Romano",
          "p. m. - Juanma Romano",
          "p. m. - Juanma Romano",
          "p. m. - Juanma Romano",
          "p. m. - Juanma Romano",
          "p. m. - Juanma Romano",
          "p. m. - Juanma Romano",
          "p. m. - Juanma Romano",
          "p. m. - Juanma Romano",
          "p. m. - Juanma Romano",
          "p. m. - Juanma Romano",
          "p. m. - Juanma Romano",
          "p. m. - Juanma Romano",
          "p. m. - Juanma Romano",
          "p. m. - Juanma Romano",
          "p. m. - Juanma Romano",
          "p. m. - Juanma Romano",
          "p. m. - Juanma Romano",
          "p. m. - Juanma Romano",
          "p. m. - Juanma Romano",
          "p. m. - Juanma Romano",
          "p. m. - Juanma Romano",
          "p. m. - Juanma Romano",
          "p. m. - Juanma Romano",
          "p. m. - Juanma Romano",
          "p. m. - Juanma Romano",
          "p. m. - Juanma Romano",
          "p. m. - Juanma Romano",
          "p. m. - Juanma Romano",
          "p. m. - Juanma Romano",
          "p. m. - Juanma Romano",
          "p. m. - Juanma Romano",
          "p. m. - Juanma Romano",
          "p. m. - Juanma Romano",
          "p. m. - Juanma Romano",
          "p. m. - Juanma Romano",
          "p. m. - Juanma Romano",
          "p. m. - Juanma Romano",
          "p. m. - Juanma Romano",
          "p. m. - Juanma Romano",
          "p. m. - Juanma Romano",
          "p. m. - Juanma Romano",
          "p. m. - Juanma Romano",
          "p. m. - Juanma Romano",
          "p. m. - Juanma Romano",
          "p. m. - Juanma Romano",
          "p. m. - Juanma Romano",
          "p. m. - Juanma Romano",
          "p. m. - Juanma Romano",
          "p. m. - Juanma Romano",
          "p. m. - Juanma Romano",
          "p. m. - Juanma Romano",
          "p. m. - Juanma Romano",
          "p. m. - Juanma Romano",
          "p. m. - Juanma Romano",
          "p. m. - Juanma Romano",
          "p. m. - Juanma Romano",
          "p. m. - Juanma Romano",
          "p. m. - Juanma Romano",
          "p. m. - Juanma Romano",
          "p. m. - Juanma Romano",
          "p. m. - Juanma Romano",
          "p. m. - Juanma Romano",
          "p. m. - Juanma Romano",
          "p. m. - Juanma Romano",
          "p. m. - Juanma Romano",
          "p. m. - Juanma Romano",
          "p. m. - Juanma Romano",
          "p. m. - Juanma Romano",
          "p. m. - Juanma Romano",
          "p. m. - Juanma Romano",
          "p. m. - Juanma Romano",
          "p. m. - Juanma Romano",
          "p. m. - Juanma Romano",
          "p. m. - Juanma Romano",
          "p. m. - Juanma Romano",
          "p. m. - Juanma Romano",
          "p. m. - Juanma Romano",
          "p. m. - Juanma Romano",
          "p. m. - Juanma Romano",
          "p. m. - Juanma Romano",
          "p. m. - Juanma Romano",
          "p. m. - Juanma Romano",
          "p. m. - Juanma Romano",
          "p. m. - Juanma Romano",
          "p. m. - Juanma Romano",
          "p. m. - Juanma Romano",
          "p. m. - Juanma Romano",
          "p. m. - Juanma Romano",
          "p. m. - Juanma Romano",
          "p. m. - Juanma Romano",
          "p. m. - Juanma Romano",
          "p. m. - Juanma Romano",
          "p. m. - Juanma Romano",
          "p. m. - Juanma Romano",
          "p. m. - Juanma Romano",
          "p. m. - Juanma Romano",
          "p. m. - Juanma Romano",
          "p. m. - Juanma Romano",
          "p. m. - Juanma Romano",
          "p. m. - Juanma Romano",
          "p. m. - Juanma Romano",
          "p. m. - Juanma Romano",
          "p. m. - Juanma Romano",
          "p. m. - Juanma Romano",
          "p. m. - Juanma Romano",
          "p. m. - Juanma Romano",
          "p. m. - Juanma Romano",
          "p. m. - Juanma Romano",
          "p. m. - Juanma Romano",
          "p. m. - Juanma Romano",
          "p. m. - Juanma Romano",
          "p. m. - Juanma Romano",
          "p. m. - Juanma Romano",
          "p. m. - Juanma Romano",
          "p. m. - Juanma Romano",
          "p. m. - Juanma Romano",
          "p. m. - Juanma Romano",
          "p. m. - Juanma Romano",
          "p. m. - Juanma Romano",
          "p. m. - Juanma Romano",
          "p. m. - Juanma Romano",
          "p. m. - Juanma Romano",
          "p. m. - Juanma Romano",
          "p. m. - Juanma Romano",
          "p. m. - Juanma Romano",
          "p. m. - Juanma Romano",
          "p. m. - Juanma Romano",
          "p. m. - Juanma Romano",
          "p. m. - Juanma Romano",
          "p. m. - Juanma Romano",
          "p. m. - Juanma Romano",
          "p. m. - Juanma Romano",
          "p. m. - Juanma Romano",
          "p. m. - Juanma Romano",
          "p. m. - Juanma Romano",
          "p. m. - Juanma Romano",
          "p. m. - Juanma Romano",
          "p. m. - Juanma Romano",
          "p. m. - Juanma Romano",
          "p. m. - Juanma Romano",
          "p. m. - Juanma Romano",
          "p. m. - Juanma Romano",
          "p. m. - Juanma Romano",
          "p. m. - Juanma Romano",
          "p. m. - Juanma Romano",
          "p. m. - Juanma Romano",
          "p. m. - Juanma Romano",
          "p. m. - Juanma Romano",
          "p. m. - Juanma Romano",
          "p. m. - Juanma Romano",
          "p. m. - Juanma Romano",
          "p. m. - Juanma Romano",
          "p. m. - Juanma Romano",
          "p. m. - Juanma Romano",
          "p. m. - Juanma Romano",
          "p. m. - Juanma Romano",
          "p. m. - Juanma Romano",
          "p. m. - Juanma Romano",
          "p. m. - Juanma Romano",
          "p. m. - Juanma Romano",
          "p. m. - Juanma Romano",
          "p. m. - Juanma Romano",
          "p. m. - Juanma Romano",
          "p. m. - Juanma Romano",
          "p. m. - Juanma Romano",
          "p. m. - Juanma Romano",
          "p. m. - Juanma Romano",
          "p. m. - Juanma Romano",
          "p. m. - Juanma Romano",
          "p. m. - Juanma Romano",
          "p. m. - Juanma Romano",
          "p. m. - Juanma Romano",
          "p. m. - Juanma Romano",
          "p. m. - Juanma Romano",
          "p. m. - Juanma Romano",
          "p. m. - Juanma Romano",
          "p. m. - Juanma Romano",
          "p. m. - Juanma Romano",
          "p. m. - Juanma Romano",
          "p. m. - Juanma Romano",
          "p. m. - Juanma Romano",
          "p. m. - Juanma Romano",
          "p. m. - Juanma Romano",
          "p. m. - Juanma Romano",
          "p. m. - Juanma Romano",
          "p. m. - Juanma Romano",
          "p. m. - Juanma Romano",
          "p. m. - Juanma Romano",
          "p. m. - Juanma Romano",
          "p. m. - Juanma Romano",
          "p. m. - Juanma Romano",
          "p. m. - Juanma Romano",
          "p. m. - Juanma Romano",
          "p. m. - Juanma Romano",
          "p. m. - Juanma Romano",
          "p. m. - Juanma Romano",
          "p. m. - Juanma Romano",
          "p. m. - Juanma Romano",
          "p. m. - Juanma Romano",
          "p. m. - Juanma Romano",
          "p. m. - Juanma Romano",
          "p. m. - Juanma Romano",
          "p. m. - Juanma Romano",
          "p. m. - Juanma Romano",
          "p. m. - Juanma Romano",
          "p. m. - Juanma Romano",
          "p. m. - Juanma Romano",
          "p. m. - Juanma Romano",
          "p. m. - Juanma Romano",
          "p. m. - Juanma Romano",
          "p. m. - Juanma Romano",
          "p. m. - Juanma Romano",
          "p. m. - Juanma Romano",
          "p. m. - Juanma Romano",
          "p. m. - Juanma Romano",
          "p. m. - Juanma Romano",
          "p. m. - Juanma Romano",
          "p. m. - Juanma Romano",
          "p. m. - Juanma Romano",
          "p. m. - Juanma Romano",
          "p. m. - Juanma Romano",
          "p. m. - Juanma Romano",
          "p. m. - Juanma Romano",
          "p. m. - Juanma Romano",
          "p. m. - Juanma Romano",
          "p. m. - Juanma Romano",
          "p. m. - Juanma Romano",
          "p. m. - Juanma Romano",
          "p. m. - Juanma Romano",
          "p. m. - Juanma Romano",
          "p. m. - Juanma Romano",
          "p. m. - Juanma Romano",
          "p. m. - Juanma Romano",
          "p. m. - Juanma Romano",
          "p. m. - Juanma Romano",
          "p. m. - Juanma Romano",
          "p. m. - Juanma Romano",
          "p. m. - Juanma Romano",
          "p. m. - Juanma Romano",
          "p. m. - Juanma Romano",
          "p. m. - Juanma Romano",
          "p. m. - Juanma Romano",
          "p. m. - Juanma Romano",
          "p. m. - Juanma Romano",
          "p. m. - Juanma Romano",
          "p. m. - Juanma Romano",
          "p. m. - Juanma Romano",
          "p. m. - Juanma Romano",
          "p. m. - Juanma Romano",
          "p. m. - Juanma Romano",
          "p. m. - Juanma Romano",
          "p. m. - Juanma Romano",
          "p. m. - Juanma Romano",
          "p. m. - Juanma Romano",
          "p. m. - Juanma Romano",
          "p. m. - Juanma Romano",
          "p. m. - Juanma Romano",
          "p. m. - Juanma Romano",
          "p. m. - Juanma Romano",
          "p. m. - Juanma Romano",
          "p. m. - Juanma Romano",
          "p. m. - Juanma Romano",
          "p. m. - Juanma Romano",
          "p. m. - Juanma Romano",
          "p. m. - Juanma Romano",
          "p. m. - Juanma Romano",
          "p. m. - Juanma Romano",
          "p. m. - Juanma Romano",
          "p. m. - Juanma Romano",
          "p. m. - Juanma Romano",
          "p. m. - Juanma Romano",
          "p. m. - Juanma Romano",
          "p. m. - Juanma Romano",
          "p. m. - Juanma Romano",
          "p. m. - Juanma Romano",
          "p. m. - Juanma Romano",
          "p. m. - Juanma Romano",
          "p. m. - Juanma Romano",
          "p. m. - Juanma Romano",
          "p. m. - Juanma Romano",
          "p. m. - Juanma Romano",
          "p. m. - Juanma Romano",
          "p. m. - Juanma Romano",
          "p. m. - Juanma Romano",
          "p. m. - Juanma Romano",
          "p. m. - Juanma Romano",
          "p. m. - Juanma Romano",
          "p. m. - Juanma Romano",
          "p. m. - Juanma Romano",
          "p. m. - Juanma Romano",
          "p. m. - Juanma Romano",
          "p. m. - Juanma Romano",
          "p. m. - Juanma Romano",
          "p. m. - Juanma Romano",
          "p. m. - Juanma Romano",
          "p. m. - Juanma Romano",
          "p. m. - Juanma Romano",
          "p. m. - Juanma Romano",
          "p. m. - Juanma Romano",
          "p. m. - Juanma Romano",
          "p. m. - Juanma Romano",
          "p. m. - Juanma Romano",
          "p. m. - Juanma Romano",
          "p. m. - Juanma Romano",
          "p. m. - Juanma Romano",
          "p. m. - Juanma Romano",
          "p. m. - Juanma Romano",
          "p. m. - Juanma Romano",
          "p. m. - Juanma Romano",
          "p. m. - Juanma Romano",
          "p. m. - Juanma Romano",
          "p. m. - Juanma Romano",
          "p. m. - Juanma Romano",
          "p. m. - Juanma Romano",
          "p. m. - Juanma Romano",
          "p. m. - Juanma Romano",
          "p. m. - Juanma Romano",
          "p. m. - Juanma Romano",
          "p. m. - Juanma Romano",
          "p. m. - Juanma Romano",
          "p. m. - Juanma Romano",
          "p. m. - Juanma Romano",
          "p. m. - Juanma Romano",
          "p. m. - Juanma Romano",
          "p. m. - Juanma Romano",
          "p. m. - Juanma Romano",
          "p. m. - Juanma Romano",
          "p. m. - Juanma Romano",
          "p. m. - Juanma Romano",
          "p. m. - Juanma Romano",
          "p. m. - Juanma Romano",
          "p. m. - Juanma Romano",
          "p. m. - Juanma Romano",
          "p. m. - Juanma Romano",
          "p. m. - Juanma Romano",
          "p. m. - Juanma Romano",
          "p. m. - Juanma Romano",
          "p. m. - Juanma Romano",
          "p. m. - Juanma Romano",
          "p. m. - Juanma Romano",
          "p. m. - Juanma Romano",
          "p. m. - Juanma Romano",
          "p. m. - Juanma Romano",
          "p. m. - Juanma Romano",
          "p. m. - Juanma Romano",
          "p. m. - Juanma Romano",
          "p. m. - Juanma Romano",
          "p. m. - Juanma Romano",
          "p. m. - Juanma Romano",
          "p. m. - Juanma Romano",
          "p. m. - Juanma Romano",
          "p. m. - Juanma Romano",
          "p. m. - Juanma Romano",
          "p. m. - Juanma Romano",
          "p. m. - Juanma Romano",
          "p. m. - Juanma Romano",
          "p. m. - Juanma Romano",
          "p. m. - Juanma Romano",
          "p. m. - Juanma Romano",
          "p. m. - Juanma Romano",
          "p. m. - Juanma Romano"
         ],
         "yaxis": "y"
        },
        {
         "hovertemplate": "<b>%{hovertext}</b><br><br>Miembro=%{y}<br>Palabras=%{x}<br>Letras=%{marker.size}<extra></extra>",
         "hovertext": [
          "a. m. - Juanma Romano",
          "a. m. - Juanma Romano",
          "a. m. - Juanma Romano",
          "a. m. - Juanma Romano",
          "a. m. - Juanma Romano",
          "a. m. - Juanma Romano",
          "a. m. - Juanma Romano",
          "a. m. - Juanma Romano",
          "a. m. - Juanma Romano",
          "a. m. - Juanma Romano",
          "a. m. - Juanma Romano",
          "a. m. - Juanma Romano",
          "a. m. - Juanma Romano",
          "a. m. - Juanma Romano",
          "a. m. - Juanma Romano",
          "a. m. - Juanma Romano",
          "a. m. - Juanma Romano",
          "a. m. - Juanma Romano",
          "a. m. - Juanma Romano",
          "a. m. - Juanma Romano",
          "a. m. - Juanma Romano",
          "a. m. - Juanma Romano",
          "a. m. - Juanma Romano",
          "a. m. - Juanma Romano",
          "a. m. - Juanma Romano",
          "a. m. - Juanma Romano",
          "a. m. - Juanma Romano",
          "a. m. - Juanma Romano",
          "a. m. - Juanma Romano",
          "a. m. - Juanma Romano",
          "a. m. - Juanma Romano",
          "a. m. - Juanma Romano",
          "a. m. - Juanma Romano",
          "a. m. - Juanma Romano",
          "a. m. - Juanma Romano",
          "a. m. - Juanma Romano",
          "a. m. - Juanma Romano",
          "a. m. - Juanma Romano",
          "a. m. - Juanma Romano",
          "a. m. - Juanma Romano",
          "a. m. - Juanma Romano",
          "a. m. - Juanma Romano",
          "a. m. - Juanma Romano",
          "a. m. - Juanma Romano",
          "a. m. - Juanma Romano",
          "a. m. - Juanma Romano",
          "a. m. - Juanma Romano",
          "a. m. - Juanma Romano",
          "a. m. - Juanma Romano",
          "a. m. - Juanma Romano",
          "a. m. - Juanma Romano",
          "a. m. - Juanma Romano",
          "a. m. - Juanma Romano",
          "a. m. - Juanma Romano",
          "a. m. - Juanma Romano",
          "a. m. - Juanma Romano",
          "a. m. - Juanma Romano",
          "a. m. - Juanma Romano",
          "a. m. - Juanma Romano",
          "a. m. - Juanma Romano",
          "a. m. - Juanma Romano",
          "a. m. - Juanma Romano",
          "a. m. - Juanma Romano",
          "a. m. - Juanma Romano",
          "a. m. - Juanma Romano",
          "a. m. - Juanma Romano",
          "a. m. - Juanma Romano",
          "a. m. - Juanma Romano",
          "a. m. - Juanma Romano",
          "a. m. - Juanma Romano",
          "a. m. - Juanma Romano",
          "a. m. - Juanma Romano",
          "a. m. - Juanma Romano",
          "a. m. - Juanma Romano",
          "a. m. - Juanma Romano",
          "a. m. - Juanma Romano",
          "a. m. - Juanma Romano",
          "a. m. - Juanma Romano",
          "a. m. - Juanma Romano",
          "a. m. - Juanma Romano",
          "a. m. - Juanma Romano",
          "a. m. - Juanma Romano",
          "a. m. - Juanma Romano",
          "a. m. - Juanma Romano",
          "a. m. - Juanma Romano",
          "a. m. - Juanma Romano",
          "a. m. - Juanma Romano",
          "a. m. - Juanma Romano",
          "a. m. - Juanma Romano",
          "a. m. - Juanma Romano",
          "a. m. - Juanma Romano",
          "a. m. - Juanma Romano",
          "a. m. - Juanma Romano",
          "a. m. - Juanma Romano",
          "a. m. - Juanma Romano",
          "a. m. - Juanma Romano",
          "a. m. - Juanma Romano",
          "a. m. - Juanma Romano",
          "a. m. - Juanma Romano",
          "a. m. - Juanma Romano",
          "a. m. - Juanma Romano",
          "a. m. - Juanma Romano",
          "a. m. - Juanma Romano",
          "a. m. - Juanma Romano",
          "a. m. - Juanma Romano",
          "a. m. - Juanma Romano",
          "a. m. - Juanma Romano",
          "a. m. - Juanma Romano",
          "a. m. - Juanma Romano",
          "a. m. - Juanma Romano",
          "a. m. - Juanma Romano",
          "a. m. - Juanma Romano",
          "a. m. - Juanma Romano",
          "a. m. - Juanma Romano",
          "a. m. - Juanma Romano",
          "a. m. - Juanma Romano",
          "a. m. - Juanma Romano",
          "a. m. - Juanma Romano",
          "a. m. - Juanma Romano",
          "a. m. - Juanma Romano",
          "a. m. - Juanma Romano",
          "a. m. - Juanma Romano",
          "a. m. - Juanma Romano",
          "a. m. - Juanma Romano",
          "a. m. - Juanma Romano",
          "a. m. - Juanma Romano",
          "a. m. - Juanma Romano",
          "a. m. - Juanma Romano",
          "a. m. - Juanma Romano",
          "a. m. - Juanma Romano",
          "a. m. - Juanma Romano",
          "a. m. - Juanma Romano",
          "a. m. - Juanma Romano",
          "a. m. - Juanma Romano",
          "a. m. - Juanma Romano",
          "a. m. - Juanma Romano",
          "a. m. - Juanma Romano",
          "a. m. - Juanma Romano",
          "a. m. - Juanma Romano",
          "a. m. - Juanma Romano",
          "a. m. - Juanma Romano",
          "a. m. - Juanma Romano",
          "a. m. - Juanma Romano",
          "a. m. - Juanma Romano",
          "a. m. - Juanma Romano",
          "a. m. - Juanma Romano",
          "a. m. - Juanma Romano",
          "a. m. - Juanma Romano",
          "a. m. - Juanma Romano",
          "a. m. - Juanma Romano",
          "a. m. - Juanma Romano",
          "a. m. - Juanma Romano",
          "a. m. - Juanma Romano",
          "a. m. - Juanma Romano",
          "a. m. - Juanma Romano",
          "a. m. - Juanma Romano",
          "a. m. - Juanma Romano",
          "a. m. - Juanma Romano",
          "a. m. - Juanma Romano",
          "a. m. - Juanma Romano",
          "a. m. - Juanma Romano",
          "a. m. - Juanma Romano",
          "a. m. - Juanma Romano",
          "a. m. - Juanma Romano",
          "a. m. - Juanma Romano",
          "a. m. - Juanma Romano",
          "a. m. - Juanma Romano",
          "a. m. - Juanma Romano",
          "a. m. - Juanma Romano",
          "a. m. - Juanma Romano",
          "a. m. - Juanma Romano",
          "a. m. - Juanma Romano",
          "a. m. - Juanma Romano",
          "a. m. - Juanma Romano",
          "a. m. - Juanma Romano",
          "a. m. - Juanma Romano",
          "a. m. - Juanma Romano",
          "a. m. - Juanma Romano",
          "a. m. - Juanma Romano",
          "a. m. - Juanma Romano",
          "a. m. - Juanma Romano",
          "a. m. - Juanma Romano",
          "a. m. - Juanma Romano",
          "a. m. - Juanma Romano",
          "a. m. - Juanma Romano",
          "a. m. - Juanma Romano",
          "a. m. - Juanma Romano",
          "a. m. - Juanma Romano",
          "a. m. - Juanma Romano",
          "a. m. - Juanma Romano",
          "a. m. - Juanma Romano",
          "a. m. - Juanma Romano",
          "a. m. - Juanma Romano",
          "a. m. - Juanma Romano",
          "a. m. - Juanma Romano",
          "a. m. - Juanma Romano",
          "a. m. - Juanma Romano",
          "a. m. - Juanma Romano",
          "a. m. - Juanma Romano",
          "a. m. - Juanma Romano",
          "a. m. - Juanma Romano",
          "a. m. - Juanma Romano",
          "a. m. - Juanma Romano",
          "a. m. - Juanma Romano",
          "a. m. - Juanma Romano",
          "a. m. - Juanma Romano",
          "a. m. - Juanma Romano",
          "a. m. - Juanma Romano",
          "a. m. - Juanma Romano",
          "a. m. - Juanma Romano",
          "a. m. - Juanma Romano",
          "a. m. - Juanma Romano",
          "a. m. - Juanma Romano",
          "a. m. - Juanma Romano",
          "a. m. - Juanma Romano",
          "a. m. - Juanma Romano",
          "a. m. - Juanma Romano",
          "a. m. - Juanma Romano",
          "a. m. - Juanma Romano",
          "a. m. - Juanma Romano",
          "a. m. - Juanma Romano",
          "a. m. - Juanma Romano",
          "a. m. - Juanma Romano",
          "a. m. - Juanma Romano",
          "a. m. - Juanma Romano",
          "a. m. - Juanma Romano",
          "a. m. - Juanma Romano",
          "a. m. - Juanma Romano",
          "a. m. - Juanma Romano",
          "a. m. - Juanma Romano",
          "a. m. - Juanma Romano",
          "a. m. - Juanma Romano",
          "a. m. - Juanma Romano",
          "a. m. - Juanma Romano",
          "a. m. - Juanma Romano",
          "a. m. - Juanma Romano",
          "a. m. - Juanma Romano",
          "a. m. - Juanma Romano",
          "a. m. - Juanma Romano",
          "a. m. - Juanma Romano",
          "a. m. - Juanma Romano",
          "a. m. - Juanma Romano",
          "a. m. - Juanma Romano",
          "a. m. - Juanma Romano",
          "a. m. - Juanma Romano",
          "a. m. - Juanma Romano",
          "a. m. - Juanma Romano",
          "a. m. - Juanma Romano",
          "a. m. - Juanma Romano",
          "a. m. - Juanma Romano",
          "a. m. - Juanma Romano",
          "a. m. - Juanma Romano",
          "a. m. - Juanma Romano",
          "a. m. - Juanma Romano",
          "a. m. - Juanma Romano",
          "a. m. - Juanma Romano",
          "a. m. - Juanma Romano",
          "a. m. - Juanma Romano",
          "a. m. - Juanma Romano",
          "a. m. - Juanma Romano",
          "a. m. - Juanma Romano",
          "a. m. - Juanma Romano",
          "a. m. - Juanma Romano",
          "a. m. - Juanma Romano",
          "a. m. - Juanma Romano",
          "a. m. - Juanma Romano",
          "a. m. - Juanma Romano",
          "a. m. - Juanma Romano",
          "a. m. - Juanma Romano",
          "a. m. - Juanma Romano",
          "a. m. - Juanma Romano",
          "a. m. - Juanma Romano",
          "a. m. - Juanma Romano",
          "a. m. - Juanma Romano",
          "a. m. - Juanma Romano",
          "a. m. - Juanma Romano",
          "a. m. - Juanma Romano",
          "a. m. - Juanma Romano",
          "a. m. - Juanma Romano",
          "a. m. - Juanma Romano",
          "a. m. - Juanma Romano",
          "a. m. - Juanma Romano",
          "a. m. - Juanma Romano",
          "a. m. - Juanma Romano",
          "a. m. - Juanma Romano",
          "a. m. - Juanma Romano",
          "a. m. - Juanma Romano",
          "a. m. - Juanma Romano",
          "a. m. - Juanma Romano",
          "a. m. - Juanma Romano",
          "a. m. - Juanma Romano",
          "a. m. - Juanma Romano",
          "a. m. - Juanma Romano",
          "a. m. - Juanma Romano",
          "a. m. - Juanma Romano",
          "a. m. - Juanma Romano",
          "a. m. - Juanma Romano",
          "a. m. - Juanma Romano",
          "a. m. - Juanma Romano",
          "a. m. - Juanma Romano",
          "a. m. - Juanma Romano",
          "a. m. - Juanma Romano",
          "a. m. - Juanma Romano",
          "a. m. - Juanma Romano",
          "a. m. - Juanma Romano",
          "a. m. - Juanma Romano",
          "a. m. - Juanma Romano",
          "a. m. - Juanma Romano",
          "a. m. - Juanma Romano",
          "a. m. - Juanma Romano",
          "a. m. - Juanma Romano",
          "a. m. - Juanma Romano",
          "a. m. - Juanma Romano",
          "a. m. - Juanma Romano",
          "a. m. - Juanma Romano",
          "a. m. - Juanma Romano",
          "a. m. - Juanma Romano",
          "a. m. - Juanma Romano",
          "a. m. - Juanma Romano",
          "a. m. - Juanma Romano",
          "a. m. - Juanma Romano",
          "a. m. - Juanma Romano",
          "a. m. - Juanma Romano",
          "a. m. - Juanma Romano",
          "a. m. - Juanma Romano",
          "a. m. - Juanma Romano",
          "a. m. - Juanma Romano",
          "a. m. - Juanma Romano",
          "a. m. - Juanma Romano",
          "a. m. - Juanma Romano",
          "a. m. - Juanma Romano",
          "a. m. - Juanma Romano",
          "a. m. - Juanma Romano",
          "a. m. - Juanma Romano",
          "a. m. - Juanma Romano",
          "a. m. - Juanma Romano",
          "a. m. - Juanma Romano",
          "a. m. - Juanma Romano",
          "a. m. - Juanma Romano",
          "a. m. - Juanma Romano",
          "a. m. - Juanma Romano",
          "a. m. - Juanma Romano",
          "a. m. - Juanma Romano",
          "a. m. - Juanma Romano",
          "a. m. - Juanma Romano",
          "a. m. - Juanma Romano",
          "a. m. - Juanma Romano",
          "a. m. - Juanma Romano",
          "a. m. - Juanma Romano",
          "a. m. - Juanma Romano",
          "a. m. - Juanma Romano",
          "a. m. - Juanma Romano",
          "a. m. - Juanma Romano",
          "a. m. - Juanma Romano",
          "a. m. - Juanma Romano",
          "a. m. - Juanma Romano",
          "a. m. - Juanma Romano",
          "a. m. - Juanma Romano"
         ],
         "legendgroup": "a. m. - Juanma Romano",
         "marker": {
          "color": "#00cc96",
          "size": [
           12,
           45,
           64,
           11,
           43,
           3,
           15,
           56,
           29,
           24,
           28,
           9,
           81,
           50,
           9,
           31,
           29,
           5,
           23,
           30,
           21,
           28,
           14,
           20,
           21,
           35,
           53,
           25,
           90,
           49,
           28,
           28,
           30,
           15,
           14,
           29,
           32,
           15,
           9,
           26,
           41,
           18,
           16,
           72,
           15,
           42,
           20,
           25,
           32,
           47,
           17,
           31,
           17,
           39,
           51,
           18,
           11,
           30,
           8,
           23,
           156,
           16,
           48,
           35,
           24,
           49,
           31,
           28,
           24,
           63,
           69,
           19,
           6,
           37,
           73,
           58,
           22,
           52,
           28,
           16,
           17,
           13,
           8,
           9,
           46,
           43,
           22,
           14,
           26,
           49,
           44,
           12,
           11,
           37,
           37,
           48,
           1,
           57,
           41,
           77,
           7,
           21,
           32,
           17,
           40,
           49,
           4,
           17,
           21,
           28,
           16,
           33,
           4,
           6,
           11,
           9,
           35,
           11,
           14,
           15,
           26,
           66,
           10,
           18,
           19,
           92,
           50,
           44,
           58,
           12,
           17,
           4,
           36,
           4,
           15,
           1,
           44,
           4,
           12,
           11,
           22,
           127,
           8,
           88,
           10,
           4,
           51,
           7,
           60,
           58,
           77,
           39,
           39,
           106,
           15,
           19,
           20,
           33,
           35,
           47,
           1,
           20,
           17,
           25,
           43,
           81,
           3,
           4,
           27,
           32,
           33,
           26,
           27,
           45,
           28,
           42,
           75,
           15,
           18,
           53,
           19,
           21,
           14,
           11,
           26,
           14,
           55,
           46,
           15,
           18,
           43,
           37,
           69,
           29,
           12,
           4,
           17,
           3,
           11,
           56,
           42,
           13,
           42,
           4,
           3,
           18,
           4,
           9,
           16,
           6,
           4,
           26,
           43,
           24,
           35,
           4,
           4,
           15,
           69,
           32,
           3,
           8,
           1,
           3,
           10,
           7,
           5,
           27,
           26,
           4,
           31,
           14,
           14,
           40,
           21,
           1,
           29,
           35,
           11,
           36,
           35,
           36,
           83,
           8,
           20,
           12,
           34,
           15,
           25,
           10,
           46,
           17,
           8,
           12,
           54,
           24,
           3,
           40,
           70,
           63,
           69,
           21,
           4,
           22,
           20,
           10,
           18,
           27,
           8,
           2,
           15,
           8,
           52,
           29,
           22,
           168,
           88,
           45,
           36,
           4,
           4,
           5,
           56,
           9,
           49,
           22,
           47,
           26,
           15,
           7,
           34,
           20,
           15,
           21,
           8,
           40,
           21,
           33,
           20,
           55,
           59,
           49,
           9,
           8,
           17,
           29,
           8,
           24,
           27,
           26,
           26,
           14,
           12,
           20,
           73,
           6,
           18,
           18,
           67,
           52,
           176,
           27,
           7,
           8,
           5,
           17,
           4,
           17,
           26,
           30,
           12,
           26,
           48,
           44,
           8,
           24,
           27,
           15,
           33,
           5,
           3,
           1,
           8,
           25,
           46,
           14,
           85,
           34,
           6,
           17,
           8,
           6,
           21,
           18,
           8,
           12,
           8,
           8
          ],
          "sizemode": "area",
          "sizeref": 2.8,
          "symbol": "circle"
         },
         "mode": "markers",
         "name": "a. m. - Juanma Romano",
         "showlegend": true,
         "type": "scattergl",
         "x": [
          1,
          10,
          13,
          2,
          7,
          1,
          3,
          9,
          6,
          5,
          6,
          2,
          17,
          10,
          1,
          6,
          5,
          1,
          5,
          7,
          6,
          7,
          2,
          4,
          5,
          5,
          8,
          4,
          16,
          10,
          7,
          4,
          7,
          3,
          2,
          4,
          7,
          3,
          2,
          5,
          8,
          4,
          3,
          12,
          4,
          7,
          4,
          5,
          7,
          11,
          2,
          7,
          3,
          10,
          10,
          4,
          2,
          5,
          2,
          5,
          28,
          3,
          8,
          6,
          5,
          9,
          6,
          5,
          5,
          13,
          14,
          5,
          1,
          6,
          15,
          11,
          3,
          8,
          5,
          2,
          3,
          4,
          1,
          2,
          8,
          8,
          3,
          2,
          5,
          9,
          6,
          3,
          3,
          8,
          7,
          7,
          1,
          12,
          7,
          13,
          1,
          1,
          5,
          3,
          8,
          9,
          1,
          3,
          4,
          5,
          3,
          6,
          1,
          1,
          2,
          2,
          7,
          2,
          3,
          3,
          4,
          15,
          3,
          3,
          4,
          21,
          8,
          9,
          10,
          1,
          3,
          1,
          7,
          1,
          3,
          1,
          11,
          1,
          2,
          3,
          4,
          24,
          2,
          15,
          2,
          1,
          9,
          1,
          12,
          10,
          18,
          7,
          7,
          21,
          3,
          5,
          4,
          8,
          5,
          9,
          1,
          4,
          3,
          4,
          7,
          15,
          1,
          1,
          6,
          6,
          7,
          5,
          5,
          11,
          4,
          9,
          13,
          4,
          3,
          8,
          4,
          5,
          2,
          2,
          4,
          1,
          13,
          8,
          3,
          4,
          9,
          9,
          11,
          5,
          3,
          1,
          4,
          1,
          2,
          10,
          8,
          4,
          11,
          1,
          1,
          5,
          1,
          2,
          3,
          1,
          1,
          5,
          9,
          6,
          6,
          1,
          1,
          3,
          13,
          6,
          1,
          1,
          1,
          2,
          2,
          1,
          2,
          5,
          5,
          1,
          6,
          3,
          3,
          10,
          5,
          1,
          5,
          6,
          2,
          7,
          6,
          8,
          19,
          1,
          4,
          2,
          6,
          2,
          5,
          3,
          11,
          3,
          1,
          2,
          11,
          5,
          1,
          6,
          13,
          12,
          13,
          5,
          1,
          5,
          4,
          2,
          4,
          6,
          1,
          1,
          4,
          1,
          8,
          7,
          4,
          32,
          20,
          10,
          5,
          1,
          1,
          1,
          12,
          1,
          10,
          4,
          9,
          5,
          3,
          1,
          7,
          5,
          3,
          3,
          1,
          6,
          4,
          8,
          4,
          13,
          9,
          9,
          1,
          2,
          3,
          6,
          2,
          5,
          6,
          5,
          4,
          5,
          2,
          4,
          16,
          2,
          3,
          3,
          12,
          10,
          36,
          5,
          1,
          2,
          1,
          2,
          1,
          3,
          4,
          7,
          3,
          5,
          1,
          7,
          1,
          5,
          4,
          3,
          7,
          1,
          1,
          1,
          2,
          5,
          8,
          2,
          16,
          5,
          2,
          4,
          2,
          1,
          4,
          4,
          2,
          2,
          1,
          2
         ],
         "xaxis": "x",
         "y": [
          "a. m. - Juanma Romano",
          "a. m. - Juanma Romano",
          "a. m. - Juanma Romano",
          "a. m. - Juanma Romano",
          "a. m. - Juanma Romano",
          "a. m. - Juanma Romano",
          "a. m. - Juanma Romano",
          "a. m. - Juanma Romano",
          "a. m. - Juanma Romano",
          "a. m. - Juanma Romano",
          "a. m. - Juanma Romano",
          "a. m. - Juanma Romano",
          "a. m. - Juanma Romano",
          "a. m. - Juanma Romano",
          "a. m. - Juanma Romano",
          "a. m. - Juanma Romano",
          "a. m. - Juanma Romano",
          "a. m. - Juanma Romano",
          "a. m. - Juanma Romano",
          "a. m. - Juanma Romano",
          "a. m. - Juanma Romano",
          "a. m. - Juanma Romano",
          "a. m. - Juanma Romano",
          "a. m. - Juanma Romano",
          "a. m. - Juanma Romano",
          "a. m. - Juanma Romano",
          "a. m. - Juanma Romano",
          "a. m. - Juanma Romano",
          "a. m. - Juanma Romano",
          "a. m. - Juanma Romano",
          "a. m. - Juanma Romano",
          "a. m. - Juanma Romano",
          "a. m. - Juanma Romano",
          "a. m. - Juanma Romano",
          "a. m. - Juanma Romano",
          "a. m. - Juanma Romano",
          "a. m. - Juanma Romano",
          "a. m. - Juanma Romano",
          "a. m. - Juanma Romano",
          "a. m. - Juanma Romano",
          "a. m. - Juanma Romano",
          "a. m. - Juanma Romano",
          "a. m. - Juanma Romano",
          "a. m. - Juanma Romano",
          "a. m. - Juanma Romano",
          "a. m. - Juanma Romano",
          "a. m. - Juanma Romano",
          "a. m. - Juanma Romano",
          "a. m. - Juanma Romano",
          "a. m. - Juanma Romano",
          "a. m. - Juanma Romano",
          "a. m. - Juanma Romano",
          "a. m. - Juanma Romano",
          "a. m. - Juanma Romano",
          "a. m. - Juanma Romano",
          "a. m. - Juanma Romano",
          "a. m. - Juanma Romano",
          "a. m. - Juanma Romano",
          "a. m. - Juanma Romano",
          "a. m. - Juanma Romano",
          "a. m. - Juanma Romano",
          "a. m. - Juanma Romano",
          "a. m. - Juanma Romano",
          "a. m. - Juanma Romano",
          "a. m. - Juanma Romano",
          "a. m. - Juanma Romano",
          "a. m. - Juanma Romano",
          "a. m. - Juanma Romano",
          "a. m. - Juanma Romano",
          "a. m. - Juanma Romano",
          "a. m. - Juanma Romano",
          "a. m. - Juanma Romano",
          "a. m. - Juanma Romano",
          "a. m. - Juanma Romano",
          "a. m. - Juanma Romano",
          "a. m. - Juanma Romano",
          "a. m. - Juanma Romano",
          "a. m. - Juanma Romano",
          "a. m. - Juanma Romano",
          "a. m. - Juanma Romano",
          "a. m. - Juanma Romano",
          "a. m. - Juanma Romano",
          "a. m. - Juanma Romano",
          "a. m. - Juanma Romano",
          "a. m. - Juanma Romano",
          "a. m. - Juanma Romano",
          "a. m. - Juanma Romano",
          "a. m. - Juanma Romano",
          "a. m. - Juanma Romano",
          "a. m. - Juanma Romano",
          "a. m. - Juanma Romano",
          "a. m. - Juanma Romano",
          "a. m. - Juanma Romano",
          "a. m. - Juanma Romano",
          "a. m. - Juanma Romano",
          "a. m. - Juanma Romano",
          "a. m. - Juanma Romano",
          "a. m. - Juanma Romano",
          "a. m. - Juanma Romano",
          "a. m. - Juanma Romano",
          "a. m. - Juanma Romano",
          "a. m. - Juanma Romano",
          "a. m. - Juanma Romano",
          "a. m. - Juanma Romano",
          "a. m. - Juanma Romano",
          "a. m. - Juanma Romano",
          "a. m. - Juanma Romano",
          "a. m. - Juanma Romano",
          "a. m. - Juanma Romano",
          "a. m. - Juanma Romano",
          "a. m. - Juanma Romano",
          "a. m. - Juanma Romano",
          "a. m. - Juanma Romano",
          "a. m. - Juanma Romano",
          "a. m. - Juanma Romano",
          "a. m. - Juanma Romano",
          "a. m. - Juanma Romano",
          "a. m. - Juanma Romano",
          "a. m. - Juanma Romano",
          "a. m. - Juanma Romano",
          "a. m. - Juanma Romano",
          "a. m. - Juanma Romano",
          "a. m. - Juanma Romano",
          "a. m. - Juanma Romano",
          "a. m. - Juanma Romano",
          "a. m. - Juanma Romano",
          "a. m. - Juanma Romano",
          "a. m. - Juanma Romano",
          "a. m. - Juanma Romano",
          "a. m. - Juanma Romano",
          "a. m. - Juanma Romano",
          "a. m. - Juanma Romano",
          "a. m. - Juanma Romano",
          "a. m. - Juanma Romano",
          "a. m. - Juanma Romano",
          "a. m. - Juanma Romano",
          "a. m. - Juanma Romano",
          "a. m. - Juanma Romano",
          "a. m. - Juanma Romano",
          "a. m. - Juanma Romano",
          "a. m. - Juanma Romano",
          "a. m. - Juanma Romano",
          "a. m. - Juanma Romano",
          "a. m. - Juanma Romano",
          "a. m. - Juanma Romano",
          "a. m. - Juanma Romano",
          "a. m. - Juanma Romano",
          "a. m. - Juanma Romano",
          "a. m. - Juanma Romano",
          "a. m. - Juanma Romano",
          "a. m. - Juanma Romano",
          "a. m. - Juanma Romano",
          "a. m. - Juanma Romano",
          "a. m. - Juanma Romano",
          "a. m. - Juanma Romano",
          "a. m. - Juanma Romano",
          "a. m. - Juanma Romano",
          "a. m. - Juanma Romano",
          "a. m. - Juanma Romano",
          "a. m. - Juanma Romano",
          "a. m. - Juanma Romano",
          "a. m. - Juanma Romano",
          "a. m. - Juanma Romano",
          "a. m. - Juanma Romano",
          "a. m. - Juanma Romano",
          "a. m. - Juanma Romano",
          "a. m. - Juanma Romano",
          "a. m. - Juanma Romano",
          "a. m. - Juanma Romano",
          "a. m. - Juanma Romano",
          "a. m. - Juanma Romano",
          "a. m. - Juanma Romano",
          "a. m. - Juanma Romano",
          "a. m. - Juanma Romano",
          "a. m. - Juanma Romano",
          "a. m. - Juanma Romano",
          "a. m. - Juanma Romano",
          "a. m. - Juanma Romano",
          "a. m. - Juanma Romano",
          "a. m. - Juanma Romano",
          "a. m. - Juanma Romano",
          "a. m. - Juanma Romano",
          "a. m. - Juanma Romano",
          "a. m. - Juanma Romano",
          "a. m. - Juanma Romano",
          "a. m. - Juanma Romano",
          "a. m. - Juanma Romano",
          "a. m. - Juanma Romano",
          "a. m. - Juanma Romano",
          "a. m. - Juanma Romano",
          "a. m. - Juanma Romano",
          "a. m. - Juanma Romano",
          "a. m. - Juanma Romano",
          "a. m. - Juanma Romano",
          "a. m. - Juanma Romano",
          "a. m. - Juanma Romano",
          "a. m. - Juanma Romano",
          "a. m. - Juanma Romano",
          "a. m. - Juanma Romano",
          "a. m. - Juanma Romano",
          "a. m. - Juanma Romano",
          "a. m. - Juanma Romano",
          "a. m. - Juanma Romano",
          "a. m. - Juanma Romano",
          "a. m. - Juanma Romano",
          "a. m. - Juanma Romano",
          "a. m. - Juanma Romano",
          "a. m. - Juanma Romano",
          "a. m. - Juanma Romano",
          "a. m. - Juanma Romano",
          "a. m. - Juanma Romano",
          "a. m. - Juanma Romano",
          "a. m. - Juanma Romano",
          "a. m. - Juanma Romano",
          "a. m. - Juanma Romano",
          "a. m. - Juanma Romano",
          "a. m. - Juanma Romano",
          "a. m. - Juanma Romano",
          "a. m. - Juanma Romano",
          "a. m. - Juanma Romano",
          "a. m. - Juanma Romano",
          "a. m. - Juanma Romano",
          "a. m. - Juanma Romano",
          "a. m. - Juanma Romano",
          "a. m. - Juanma Romano",
          "a. m. - Juanma Romano",
          "a. m. - Juanma Romano",
          "a. m. - Juanma Romano",
          "a. m. - Juanma Romano",
          "a. m. - Juanma Romano",
          "a. m. - Juanma Romano",
          "a. m. - Juanma Romano",
          "a. m. - Juanma Romano",
          "a. m. - Juanma Romano",
          "a. m. - Juanma Romano",
          "a. m. - Juanma Romano",
          "a. m. - Juanma Romano",
          "a. m. - Juanma Romano",
          "a. m. - Juanma Romano",
          "a. m. - Juanma Romano",
          "a. m. - Juanma Romano",
          "a. m. - Juanma Romano",
          "a. m. - Juanma Romano",
          "a. m. - Juanma Romano",
          "a. m. - Juanma Romano",
          "a. m. - Juanma Romano",
          "a. m. - Juanma Romano",
          "a. m. - Juanma Romano",
          "a. m. - Juanma Romano",
          "a. m. - Juanma Romano",
          "a. m. - Juanma Romano",
          "a. m. - Juanma Romano",
          "a. m. - Juanma Romano",
          "a. m. - Juanma Romano",
          "a. m. - Juanma Romano",
          "a. m. - Juanma Romano",
          "a. m. - Juanma Romano",
          "a. m. - Juanma Romano",
          "a. m. - Juanma Romano",
          "a. m. - Juanma Romano",
          "a. m. - Juanma Romano",
          "a. m. - Juanma Romano",
          "a. m. - Juanma Romano",
          "a. m. - Juanma Romano",
          "a. m. - Juanma Romano",
          "a. m. - Juanma Romano",
          "a. m. - Juanma Romano",
          "a. m. - Juanma Romano",
          "a. m. - Juanma Romano",
          "a. m. - Juanma Romano",
          "a. m. - Juanma Romano",
          "a. m. - Juanma Romano",
          "a. m. - Juanma Romano",
          "a. m. - Juanma Romano",
          "a. m. - Juanma Romano",
          "a. m. - Juanma Romano",
          "a. m. - Juanma Romano",
          "a. m. - Juanma Romano",
          "a. m. - Juanma Romano",
          "a. m. - Juanma Romano",
          "a. m. - Juanma Romano",
          "a. m. - Juanma Romano",
          "a. m. - Juanma Romano",
          "a. m. - Juanma Romano",
          "a. m. - Juanma Romano",
          "a. m. - Juanma Romano",
          "a. m. - Juanma Romano",
          "a. m. - Juanma Romano",
          "a. m. - Juanma Romano",
          "a. m. - Juanma Romano",
          "a. m. - Juanma Romano",
          "a. m. - Juanma Romano",
          "a. m. - Juanma Romano",
          "a. m. - Juanma Romano",
          "a. m. - Juanma Romano",
          "a. m. - Juanma Romano",
          "a. m. - Juanma Romano",
          "a. m. - Juanma Romano",
          "a. m. - Juanma Romano",
          "a. m. - Juanma Romano",
          "a. m. - Juanma Romano",
          "a. m. - Juanma Romano",
          "a. m. - Juanma Romano",
          "a. m. - Juanma Romano",
          "a. m. - Juanma Romano",
          "a. m. - Juanma Romano",
          "a. m. - Juanma Romano",
          "a. m. - Juanma Romano",
          "a. m. - Juanma Romano",
          "a. m. - Juanma Romano",
          "a. m. - Juanma Romano",
          "a. m. - Juanma Romano",
          "a. m. - Juanma Romano",
          "a. m. - Juanma Romano",
          "a. m. - Juanma Romano",
          "a. m. - Juanma Romano",
          "a. m. - Juanma Romano",
          "a. m. - Juanma Romano",
          "a. m. - Juanma Romano",
          "a. m. - Juanma Romano",
          "a. m. - Juanma Romano",
          "a. m. - Juanma Romano",
          "a. m. - Juanma Romano",
          "a. m. - Juanma Romano",
          "a. m. - Juanma Romano",
          "a. m. - Juanma Romano",
          "a. m. - Juanma Romano",
          "a. m. - Juanma Romano",
          "a. m. - Juanma Romano",
          "a. m. - Juanma Romano",
          "a. m. - Juanma Romano",
          "a. m. - Juanma Romano",
          "a. m. - Juanma Romano",
          "a. m. - Juanma Romano",
          "a. m. - Juanma Romano",
          "a. m. - Juanma Romano",
          "a. m. - Juanma Romano",
          "a. m. - Juanma Romano",
          "a. m. - Juanma Romano",
          "a. m. - Juanma Romano",
          "a. m. - Juanma Romano",
          "a. m. - Juanma Romano",
          "a. m. - Juanma Romano",
          "a. m. - Juanma Romano",
          "a. m. - Juanma Romano",
          "a. m. - Juanma Romano",
          "a. m. - Juanma Romano",
          "a. m. - Juanma Romano",
          "a. m. - Juanma Romano",
          "a. m. - Juanma Romano",
          "a. m. - Juanma Romano",
          "a. m. - Juanma Romano",
          "a. m. - Juanma Romano",
          "a. m. - Juanma Romano",
          "a. m. - Juanma Romano",
          "a. m. - Juanma Romano",
          "a. m. - Juanma Romano",
          "a. m. - Juanma Romano"
         ],
         "yaxis": "y"
        },
        {
         "hovertemplate": "<b>%{hovertext}</b><br><br>Miembro=%{y}<br>Palabras=%{x}<br>Letras=%{marker.size}<extra></extra>",
         "hovertext": [
          "a. m. - Anabel 🌷",
          "a. m. - Anabel 🌷",
          "a. m. - Anabel 🌷",
          "a. m. - Anabel 🌷",
          "a. m. - Anabel 🌷",
          "a. m. - Anabel 🌷",
          "a. m. - Anabel 🌷",
          "a. m. - Anabel 🌷",
          "a. m. - Anabel 🌷",
          "a. m. - Anabel 🌷",
          "a. m. - Anabel 🌷",
          "a. m. - Anabel 🌷",
          "a. m. - Anabel 🌷",
          "a. m. - Anabel 🌷",
          "a. m. - Anabel 🌷",
          "a. m. - Anabel 🌷",
          "a. m. - Anabel 🌷",
          "a. m. - Anabel 🌷",
          "a. m. - Anabel 🌷",
          "a. m. - Anabel 🌷",
          "a. m. - Anabel 🌷",
          "a. m. - Anabel 🌷",
          "a. m. - Anabel 🌷",
          "a. m. - Anabel 🌷",
          "a. m. - Anabel 🌷",
          "a. m. - Anabel 🌷",
          "a. m. - Anabel 🌷",
          "a. m. - Anabel 🌷",
          "a. m. - Anabel 🌷",
          "a. m. - Anabel 🌷",
          "a. m. - Anabel 🌷",
          "a. m. - Anabel 🌷",
          "a. m. - Anabel 🌷",
          "a. m. - Anabel 🌷",
          "a. m. - Anabel 🌷",
          "a. m. - Anabel 🌷",
          "a. m. - Anabel 🌷",
          "a. m. - Anabel 🌷",
          "a. m. - Anabel 🌷",
          "a. m. - Anabel 🌷",
          "a. m. - Anabel 🌷",
          "a. m. - Anabel 🌷",
          "a. m. - Anabel 🌷",
          "a. m. - Anabel 🌷",
          "a. m. - Anabel 🌷",
          "a. m. - Anabel 🌷",
          "a. m. - Anabel 🌷",
          "a. m. - Anabel 🌷",
          "a. m. - Anabel 🌷",
          "a. m. - Anabel 🌷",
          "a. m. - Anabel 🌷",
          "a. m. - Anabel 🌷",
          "a. m. - Anabel 🌷",
          "a. m. - Anabel 🌷",
          "a. m. - Anabel 🌷",
          "a. m. - Anabel 🌷",
          "a. m. - Anabel 🌷",
          "a. m. - Anabel 🌷",
          "a. m. - Anabel 🌷",
          "a. m. - Anabel 🌷",
          "a. m. - Anabel 🌷",
          "a. m. - Anabel 🌷",
          "a. m. - Anabel 🌷",
          "a. m. - Anabel 🌷",
          "a. m. - Anabel 🌷",
          "a. m. - Anabel 🌷",
          "a. m. - Anabel 🌷",
          "a. m. - Anabel 🌷",
          "a. m. - Anabel 🌷",
          "a. m. - Anabel 🌷",
          "a. m. - Anabel 🌷",
          "a. m. - Anabel 🌷",
          "a. m. - Anabel 🌷",
          "a. m. - Anabel 🌷",
          "a. m. - Anabel 🌷",
          "a. m. - Anabel 🌷",
          "a. m. - Anabel 🌷",
          "a. m. - Anabel 🌷",
          "a. m. - Anabel 🌷",
          "a. m. - Anabel 🌷",
          "a. m. - Anabel 🌷",
          "a. m. - Anabel 🌷",
          "a. m. - Anabel 🌷",
          "a. m. - Anabel 🌷",
          "a. m. - Anabel 🌷",
          "a. m. - Anabel 🌷",
          "a. m. - Anabel 🌷",
          "a. m. - Anabel 🌷",
          "a. m. - Anabel 🌷",
          "a. m. - Anabel 🌷",
          "a. m. - Anabel 🌷",
          "a. m. - Anabel 🌷",
          "a. m. - Anabel 🌷",
          "a. m. - Anabel 🌷",
          "a. m. - Anabel 🌷",
          "a. m. - Anabel 🌷",
          "a. m. - Anabel 🌷",
          "a. m. - Anabel 🌷",
          "a. m. - Anabel 🌷",
          "a. m. - Anabel 🌷",
          "a. m. - Anabel 🌷",
          "a. m. - Anabel 🌷",
          "a. m. - Anabel 🌷",
          "a. m. - Anabel 🌷",
          "a. m. - Anabel 🌷",
          "a. m. - Anabel 🌷",
          "a. m. - Anabel 🌷",
          "a. m. - Anabel 🌷",
          "a. m. - Anabel 🌷",
          "a. m. - Anabel 🌷",
          "a. m. - Anabel 🌷",
          "a. m. - Anabel 🌷",
          "a. m. - Anabel 🌷",
          "a. m. - Anabel 🌷",
          "a. m. - Anabel 🌷",
          "a. m. - Anabel 🌷",
          "a. m. - Anabel 🌷",
          "a. m. - Anabel 🌷",
          "a. m. - Anabel 🌷",
          "a. m. - Anabel 🌷",
          "a. m. - Anabel 🌷",
          "a. m. - Anabel 🌷",
          "a. m. - Anabel 🌷",
          "a. m. - Anabel 🌷",
          "a. m. - Anabel 🌷",
          "a. m. - Anabel 🌷",
          "a. m. - Anabel 🌷",
          "a. m. - Anabel 🌷",
          "a. m. - Anabel 🌷",
          "a. m. - Anabel 🌷",
          "a. m. - Anabel 🌷",
          "a. m. - Anabel 🌷",
          "a. m. - Anabel 🌷",
          "a. m. - Anabel 🌷",
          "a. m. - Anabel 🌷",
          "a. m. - Anabel 🌷",
          "a. m. - Anabel 🌷",
          "a. m. - Anabel 🌷",
          "a. m. - Anabel 🌷",
          "a. m. - Anabel 🌷",
          "a. m. - Anabel 🌷",
          "a. m. - Anabel 🌷",
          "a. m. - Anabel 🌷",
          "a. m. - Anabel 🌷",
          "a. m. - Anabel 🌷",
          "a. m. - Anabel 🌷",
          "a. m. - Anabel 🌷",
          "a. m. - Anabel 🌷",
          "a. m. - Anabel 🌷",
          "a. m. - Anabel 🌷",
          "a. m. - Anabel 🌷",
          "a. m. - Anabel 🌷",
          "a. m. - Anabel 🌷",
          "a. m. - Anabel 🌷",
          "a. m. - Anabel 🌷",
          "a. m. - Anabel 🌷",
          "a. m. - Anabel 🌷",
          "a. m. - Anabel 🌷",
          "a. m. - Anabel 🌷",
          "a. m. - Anabel 🌷",
          "a. m. - Anabel 🌷",
          "a. m. - Anabel 🌷",
          "a. m. - Anabel 🌷",
          "a. m. - Anabel 🌷",
          "a. m. - Anabel 🌷",
          "a. m. - Anabel 🌷",
          "a. m. - Anabel 🌷",
          "a. m. - Anabel 🌷",
          "a. m. - Anabel 🌷",
          "a. m. - Anabel 🌷",
          "a. m. - Anabel 🌷",
          "a. m. - Anabel 🌷",
          "a. m. - Anabel 🌷",
          "a. m. - Anabel 🌷",
          "a. m. - Anabel 🌷",
          "a. m. - Anabel 🌷",
          "a. m. - Anabel 🌷",
          "a. m. - Anabel 🌷",
          "a. m. - Anabel 🌷",
          "a. m. - Anabel 🌷",
          "a. m. - Anabel 🌷",
          "a. m. - Anabel 🌷",
          "a. m. - Anabel 🌷",
          "a. m. - Anabel 🌷",
          "a. m. - Anabel 🌷",
          "a. m. - Anabel 🌷",
          "a. m. - Anabel 🌷",
          "a. m. - Anabel 🌷",
          "a. m. - Anabel 🌷",
          "a. m. - Anabel 🌷",
          "a. m. - Anabel 🌷",
          "a. m. - Anabel 🌷",
          "a. m. - Anabel 🌷",
          "a. m. - Anabel 🌷",
          "a. m. - Anabel 🌷",
          "a. m. - Anabel 🌷",
          "a. m. - Anabel 🌷",
          "a. m. - Anabel 🌷",
          "a. m. - Anabel 🌷",
          "a. m. - Anabel 🌷",
          "a. m. - Anabel 🌷",
          "a. m. - Anabel 🌷",
          "a. m. - Anabel 🌷",
          "a. m. - Anabel 🌷",
          "a. m. - Anabel 🌷",
          "a. m. - Anabel 🌷",
          "a. m. - Anabel 🌷",
          "a. m. - Anabel 🌷",
          "a. m. - Anabel 🌷",
          "a. m. - Anabel 🌷",
          "a. m. - Anabel 🌷",
          "a. m. - Anabel 🌷",
          "a. m. - Anabel 🌷",
          "a. m. - Anabel 🌷",
          "a. m. - Anabel 🌷",
          "a. m. - Anabel 🌷",
          "a. m. - Anabel 🌷",
          "a. m. - Anabel 🌷",
          "a. m. - Anabel 🌷",
          "a. m. - Anabel 🌷",
          "a. m. - Anabel 🌷",
          "a. m. - Anabel 🌷",
          "a. m. - Anabel 🌷",
          "a. m. - Anabel 🌷",
          "a. m. - Anabel 🌷",
          "a. m. - Anabel 🌷",
          "a. m. - Anabel 🌷",
          "a. m. - Anabel 🌷",
          "a. m. - Anabel 🌷",
          "a. m. - Anabel 🌷",
          "a. m. - Anabel 🌷",
          "a. m. - Anabel 🌷",
          "a. m. - Anabel 🌷",
          "a. m. - Anabel 🌷",
          "a. m. - Anabel 🌷",
          "a. m. - Anabel 🌷",
          "a. m. - Anabel 🌷",
          "a. m. - Anabel 🌷",
          "a. m. - Anabel 🌷",
          "a. m. - Anabel 🌷",
          "a. m. - Anabel 🌷",
          "a. m. - Anabel 🌷",
          "a. m. - Anabel 🌷",
          "a. m. - Anabel 🌷",
          "a. m. - Anabel 🌷",
          "a. m. - Anabel 🌷",
          "a. m. - Anabel 🌷",
          "a. m. - Anabel 🌷",
          "a. m. - Anabel 🌷",
          "a. m. - Anabel 🌷",
          "a. m. - Anabel 🌷",
          "a. m. - Anabel 🌷",
          "a. m. - Anabel 🌷",
          "a. m. - Anabel 🌷",
          "a. m. - Anabel 🌷",
          "a. m. - Anabel 🌷",
          "a. m. - Anabel 🌷",
          "a. m. - Anabel 🌷",
          "a. m. - Anabel 🌷",
          "a. m. - Anabel 🌷",
          "a. m. - Anabel 🌷",
          "a. m. - Anabel 🌷",
          "a. m. - Anabel 🌷",
          "a. m. - Anabel 🌷",
          "a. m. - Anabel 🌷",
          "a. m. - Anabel 🌷",
          "a. m. - Anabel 🌷",
          "a. m. - Anabel 🌷",
          "a. m. - Anabel 🌷",
          "a. m. - Anabel 🌷",
          "a. m. - Anabel 🌷",
          "a. m. - Anabel 🌷",
          "a. m. - Anabel 🌷",
          "a. m. - Anabel 🌷",
          "a. m. - Anabel 🌷",
          "a. m. - Anabel 🌷",
          "a. m. - Anabel 🌷",
          "a. m. - Anabel 🌷",
          "a. m. - Anabel 🌷",
          "a. m. - Anabel 🌷",
          "a. m. - Anabel 🌷",
          "a. m. - Anabel 🌷",
          "a. m. - Anabel 🌷",
          "a. m. - Anabel 🌷",
          "a. m. - Anabel 🌷",
          "a. m. - Anabel 🌷",
          "a. m. - Anabel 🌷",
          "a. m. - Anabel 🌷",
          "a. m. - Anabel 🌷",
          "a. m. - Anabel 🌷",
          "a. m. - Anabel 🌷",
          "a. m. - Anabel 🌷",
          "a. m. - Anabel 🌷",
          "a. m. - Anabel 🌷",
          "a. m. - Anabel 🌷",
          "a. m. - Anabel 🌷",
          "a. m. - Anabel 🌷",
          "a. m. - Anabel 🌷",
          "a. m. - Anabel 🌷",
          "a. m. - Anabel 🌷",
          "a. m. - Anabel 🌷",
          "a. m. - Anabel 🌷",
          "a. m. - Anabel 🌷",
          "a. m. - Anabel 🌷",
          "a. m. - Anabel 🌷",
          "a. m. - Anabel 🌷",
          "a. m. - Anabel 🌷",
          "a. m. - Anabel 🌷",
          "a. m. - Anabel 🌷",
          "a. m. - Anabel 🌷",
          "a. m. - Anabel 🌷",
          "a. m. - Anabel 🌷",
          "a. m. - Anabel 🌷",
          "a. m. - Anabel 🌷",
          "a. m. - Anabel 🌷",
          "a. m. - Anabel 🌷",
          "a. m. - Anabel 🌷",
          "a. m. - Anabel 🌷",
          "a. m. - Anabel 🌷",
          "a. m. - Anabel 🌷",
          "a. m. - Anabel 🌷",
          "a. m. - Anabel 🌷",
          "a. m. - Anabel 🌷",
          "a. m. - Anabel 🌷",
          "a. m. - Anabel 🌷",
          "a. m. - Anabel 🌷",
          "a. m. - Anabel 🌷",
          "a. m. - Anabel 🌷",
          "a. m. - Anabel 🌷",
          "a. m. - Anabel 🌷",
          "a. m. - Anabel 🌷",
          "a. m. - Anabel 🌷",
          "a. m. - Anabel 🌷",
          "a. m. - Anabel 🌷",
          "a. m. - Anabel 🌷",
          "a. m. - Anabel 🌷",
          "a. m. - Anabel 🌷"
         ],
         "legendgroup": "a. m. - Anabel 🌷",
         "marker": {
          "color": "#ab63fa",
          "size": [
           52,
           45,
           11,
           11,
           35,
           54,
           10,
           14,
           12,
           13,
           2,
           32,
           15,
           10,
           46,
           5,
           29,
           4,
           18,
           95,
           2,
           12,
           27,
           8,
           23,
           20,
           3,
           15,
           21,
           5,
           54,
           18,
           6,
           7,
           5,
           15,
           7,
           19,
           4,
           3,
           19,
           20,
           20,
           33,
           18,
           12,
           66,
           35,
           73,
           15,
           65,
           13,
           32,
           23,
           21,
           21,
           22,
           23,
           21,
           63,
           13,
           25,
           20,
           49,
           4,
           5,
           25,
           10,
           34,
           81,
           36,
           22,
           93,
           17,
           58,
           15,
           5,
           20,
           50,
           51,
           39,
           37,
           33,
           26,
           22,
           13,
           8,
           16,
           14,
           16,
           24,
           42,
           40,
           41,
           18,
           14,
           33,
           13,
           16,
           62,
           18,
           5,
           10,
           2,
           3,
           26,
           19,
           72,
           20,
           3,
           60,
           13,
           5,
           31,
           33,
           51,
           5,
           5,
           34,
           48,
           30,
           22,
           18,
           4,
           7,
           2,
           23,
           3,
           4,
           11,
           9,
           66,
           5,
           2,
           24,
           29,
           27,
           4,
           63,
           21,
           19,
           64,
           10,
           30,
           8,
           39,
           14,
           2,
           83,
           27,
           25,
           34,
           33,
           6,
           27,
           8,
           21,
           7,
           30,
           38,
           29,
           15,
           45,
           12,
           14,
           24,
           7,
           7,
           41,
           20,
           44,
           9,
           19,
           11,
           18,
           16,
           45,
           14,
           23,
           18,
           11,
           13,
           18,
           8,
           8,
           18,
           19,
           12,
           19,
           11,
           23,
           17,
           8,
           9,
           14,
           24,
           45,
           27,
           6,
           29,
           25,
           24,
           45,
           6,
           15,
           33,
           18,
           10,
           13,
           6,
           3,
           22,
           33,
           13,
           16,
           7,
           6,
           8,
           42,
           23,
           30,
           23,
           6,
           25,
           13,
           10,
           27,
           14,
           24,
           21,
           28,
           17,
           2,
           26,
           16,
           12,
           6,
           9,
           23,
           12,
           10,
           14,
           19,
           18,
           6,
           31,
           2,
           15,
           50,
           9,
           67,
           47,
           3,
           9,
           5,
           35,
           37,
           63,
           30,
           34,
           103,
           36,
           60,
           36,
           11,
           23,
           19,
           21,
           26,
           22,
           23,
           10,
           16,
           8,
           5,
           25,
           24,
           7,
           27,
           6,
           13,
           40,
           18,
           28,
           103,
           9,
           9,
           28,
           3,
           17,
           10,
           31,
           12,
           21,
           12,
           54,
           16,
           33,
           17,
           98,
           10,
           15,
           26,
           30,
           43,
           19,
           4,
           24,
           44,
           30,
           20,
           41,
           41,
           20,
           9,
           30,
           4,
           19,
           10,
           4,
           86,
           5,
           7,
           31,
           55,
           21,
           3,
           14,
           5,
           5,
           10,
           24,
           14,
           6,
           5,
           17,
           24
          ],
          "sizemode": "area",
          "sizeref": 2.8,
          "symbol": "circle"
         },
         "mode": "markers",
         "name": "a. m. - Anabel 🌷",
         "showlegend": true,
         "type": "scattergl",
         "x": [
          12,
          7,
          3,
          3,
          8,
          10,
          3,
          4,
          2,
          3,
          1,
          6,
          3,
          1,
          8,
          1,
          6,
          1,
          4,
          18,
          1,
          3,
          6,
          2,
          6,
          4,
          1,
          3,
          3,
          2,
          11,
          3,
          1,
          1,
          1,
          3,
          2,
          3,
          1,
          1,
          4,
          6,
          6,
          6,
          3,
          3,
          15,
          8,
          16,
          5,
          13,
          2,
          6,
          4,
          4,
          4,
          5,
          3,
          4,
          14,
          3,
          3,
          5,
          8,
          1,
          1,
          5,
          2,
          7,
          15,
          6,
          4,
          19,
          4,
          13,
          4,
          1,
          4,
          11,
          11,
          6,
          7,
          8,
          5,
          5,
          3,
          2,
          3,
          3,
          3,
          5,
          6,
          9,
          8,
          4,
          3,
          5,
          1,
          3,
          14,
          3,
          1,
          3,
          1,
          1,
          6,
          4,
          12,
          5,
          1,
          12,
          2,
          1,
          8,
          7,
          11,
          2,
          2,
          8,
          9,
          6,
          5,
          4,
          1,
          1,
          1,
          4,
          1,
          1,
          3,
          2,
          14,
          1,
          1,
          5,
          7,
          7,
          1,
          11,
          5,
          4,
          12,
          2,
          6,
          2,
          8,
          3,
          1,
          16,
          8,
          7,
          8,
          6,
          1,
          4,
          3,
          4,
          2,
          8,
          10,
          6,
          4,
          8,
          2,
          4,
          4,
          1,
          1,
          1,
          5,
          10,
          3,
          4,
          3,
          3,
          3,
          8,
          3,
          4,
          4,
          3,
          3,
          3,
          2,
          2,
          3,
          5,
          3,
          4,
          3,
          4,
          4,
          2,
          2,
          2,
          5,
          10,
          5,
          1,
          6,
          6,
          4,
          7,
          1,
          3,
          5,
          3,
          2,
          3,
          2,
          1,
          5,
          7,
          2,
          3,
          1,
          1,
          2,
          6,
          4,
          6,
          5,
          1,
          5,
          2,
          2,
          5,
          3,
          6,
          4,
          5,
          3,
          1,
          8,
          4,
          3,
          1,
          2,
          5,
          2,
          1,
          3,
          5,
          4,
          1,
          6,
          1,
          3,
          8,
          3,
          17,
          8,
          1,
          1,
          2,
          6,
          7,
          12,
          7,
          7,
          19,
          9,
          13,
          8,
          3,
          6,
          5,
          5,
          5,
          4,
          5,
          2,
          4,
          2,
          2,
          4,
          6,
          2,
          7,
          2,
          3,
          8,
          4,
          6,
          22,
          2,
          2,
          7,
          1,
          4,
          2,
          6,
          3,
          5,
          3,
          9,
          5,
          6,
          4,
          22,
          2,
          3,
          7,
          7,
          10,
          4,
          1,
          5,
          7,
          6,
          4,
          8,
          8,
          4,
          2,
          8,
          1,
          4,
          3,
          1,
          1,
          1,
          2,
          7,
          11,
          5,
          1,
          3,
          1,
          1,
          2,
          4,
          2,
          1,
          1,
          2,
          3
         ],
         "xaxis": "x",
         "y": [
          "a. m. - Anabel 🌷",
          "a. m. - Anabel 🌷",
          "a. m. - Anabel 🌷",
          "a. m. - Anabel 🌷",
          "a. m. - Anabel 🌷",
          "a. m. - Anabel 🌷",
          "a. m. - Anabel 🌷",
          "a. m. - Anabel 🌷",
          "a. m. - Anabel 🌷",
          "a. m. - Anabel 🌷",
          "a. m. - Anabel 🌷",
          "a. m. - Anabel 🌷",
          "a. m. - Anabel 🌷",
          "a. m. - Anabel 🌷",
          "a. m. - Anabel 🌷",
          "a. m. - Anabel 🌷",
          "a. m. - Anabel 🌷",
          "a. m. - Anabel 🌷",
          "a. m. - Anabel 🌷",
          "a. m. - Anabel 🌷",
          "a. m. - Anabel 🌷",
          "a. m. - Anabel 🌷",
          "a. m. - Anabel 🌷",
          "a. m. - Anabel 🌷",
          "a. m. - Anabel 🌷",
          "a. m. - Anabel 🌷",
          "a. m. - Anabel 🌷",
          "a. m. - Anabel 🌷",
          "a. m. - Anabel 🌷",
          "a. m. - Anabel 🌷",
          "a. m. - Anabel 🌷",
          "a. m. - Anabel 🌷",
          "a. m. - Anabel 🌷",
          "a. m. - Anabel 🌷",
          "a. m. - Anabel 🌷",
          "a. m. - Anabel 🌷",
          "a. m. - Anabel 🌷",
          "a. m. - Anabel 🌷",
          "a. m. - Anabel 🌷",
          "a. m. - Anabel 🌷",
          "a. m. - Anabel 🌷",
          "a. m. - Anabel 🌷",
          "a. m. - Anabel 🌷",
          "a. m. - Anabel 🌷",
          "a. m. - Anabel 🌷",
          "a. m. - Anabel 🌷",
          "a. m. - Anabel 🌷",
          "a. m. - Anabel 🌷",
          "a. m. - Anabel 🌷",
          "a. m. - Anabel 🌷",
          "a. m. - Anabel 🌷",
          "a. m. - Anabel 🌷",
          "a. m. - Anabel 🌷",
          "a. m. - Anabel 🌷",
          "a. m. - Anabel 🌷",
          "a. m. - Anabel 🌷",
          "a. m. - Anabel 🌷",
          "a. m. - Anabel 🌷",
          "a. m. - Anabel 🌷",
          "a. m. - Anabel 🌷",
          "a. m. - Anabel 🌷",
          "a. m. - Anabel 🌷",
          "a. m. - Anabel 🌷",
          "a. m. - Anabel 🌷",
          "a. m. - Anabel 🌷",
          "a. m. - Anabel 🌷",
          "a. m. - Anabel 🌷",
          "a. m. - Anabel 🌷",
          "a. m. - Anabel 🌷",
          "a. m. - Anabel 🌷",
          "a. m. - Anabel 🌷",
          "a. m. - Anabel 🌷",
          "a. m. - Anabel 🌷",
          "a. m. - Anabel 🌷",
          "a. m. - Anabel 🌷",
          "a. m. - Anabel 🌷",
          "a. m. - Anabel 🌷",
          "a. m. - Anabel 🌷",
          "a. m. - Anabel 🌷",
          "a. m. - Anabel 🌷",
          "a. m. - Anabel 🌷",
          "a. m. - Anabel 🌷",
          "a. m. - Anabel 🌷",
          "a. m. - Anabel 🌷",
          "a. m. - Anabel 🌷",
          "a. m. - Anabel 🌷",
          "a. m. - Anabel 🌷",
          "a. m. - Anabel 🌷",
          "a. m. - Anabel 🌷",
          "a. m. - Anabel 🌷",
          "a. m. - Anabel 🌷",
          "a. m. - Anabel 🌷",
          "a. m. - Anabel 🌷",
          "a. m. - Anabel 🌷",
          "a. m. - Anabel 🌷",
          "a. m. - Anabel 🌷",
          "a. m. - Anabel 🌷",
          "a. m. - Anabel 🌷",
          "a. m. - Anabel 🌷",
          "a. m. - Anabel 🌷",
          "a. m. - Anabel 🌷",
          "a. m. - Anabel 🌷",
          "a. m. - Anabel 🌷",
          "a. m. - Anabel 🌷",
          "a. m. - Anabel 🌷",
          "a. m. - Anabel 🌷",
          "a. m. - Anabel 🌷",
          "a. m. - Anabel 🌷",
          "a. m. - Anabel 🌷",
          "a. m. - Anabel 🌷",
          "a. m. - Anabel 🌷",
          "a. m. - Anabel 🌷",
          "a. m. - Anabel 🌷",
          "a. m. - Anabel 🌷",
          "a. m. - Anabel 🌷",
          "a. m. - Anabel 🌷",
          "a. m. - Anabel 🌷",
          "a. m. - Anabel 🌷",
          "a. m. - Anabel 🌷",
          "a. m. - Anabel 🌷",
          "a. m. - Anabel 🌷",
          "a. m. - Anabel 🌷",
          "a. m. - Anabel 🌷",
          "a. m. - Anabel 🌷",
          "a. m. - Anabel 🌷",
          "a. m. - Anabel 🌷",
          "a. m. - Anabel 🌷",
          "a. m. - Anabel 🌷",
          "a. m. - Anabel 🌷",
          "a. m. - Anabel 🌷",
          "a. m. - Anabel 🌷",
          "a. m. - Anabel 🌷",
          "a. m. - Anabel 🌷",
          "a. m. - Anabel 🌷",
          "a. m. - Anabel 🌷",
          "a. m. - Anabel 🌷",
          "a. m. - Anabel 🌷",
          "a. m. - Anabel 🌷",
          "a. m. - Anabel 🌷",
          "a. m. - Anabel 🌷",
          "a. m. - Anabel 🌷",
          "a. m. - Anabel 🌷",
          "a. m. - Anabel 🌷",
          "a. m. - Anabel 🌷",
          "a. m. - Anabel 🌷",
          "a. m. - Anabel 🌷",
          "a. m. - Anabel 🌷",
          "a. m. - Anabel 🌷",
          "a. m. - Anabel 🌷",
          "a. m. - Anabel 🌷",
          "a. m. - Anabel 🌷",
          "a. m. - Anabel 🌷",
          "a. m. - Anabel 🌷",
          "a. m. - Anabel 🌷",
          "a. m. - Anabel 🌷",
          "a. m. - Anabel 🌷",
          "a. m. - Anabel 🌷",
          "a. m. - Anabel 🌷",
          "a. m. - Anabel 🌷",
          "a. m. - Anabel 🌷",
          "a. m. - Anabel 🌷",
          "a. m. - Anabel 🌷",
          "a. m. - Anabel 🌷",
          "a. m. - Anabel 🌷",
          "a. m. - Anabel 🌷",
          "a. m. - Anabel 🌷",
          "a. m. - Anabel 🌷",
          "a. m. - Anabel 🌷",
          "a. m. - Anabel 🌷",
          "a. m. - Anabel 🌷",
          "a. m. - Anabel 🌷",
          "a. m. - Anabel 🌷",
          "a. m. - Anabel 🌷",
          "a. m. - Anabel 🌷",
          "a. m. - Anabel 🌷",
          "a. m. - Anabel 🌷",
          "a. m. - Anabel 🌷",
          "a. m. - Anabel 🌷",
          "a. m. - Anabel 🌷",
          "a. m. - Anabel 🌷",
          "a. m. - Anabel 🌷",
          "a. m. - Anabel 🌷",
          "a. m. - Anabel 🌷",
          "a. m. - Anabel 🌷",
          "a. m. - Anabel 🌷",
          "a. m. - Anabel 🌷",
          "a. m. - Anabel 🌷",
          "a. m. - Anabel 🌷",
          "a. m. - Anabel 🌷",
          "a. m. - Anabel 🌷",
          "a. m. - Anabel 🌷",
          "a. m. - Anabel 🌷",
          "a. m. - Anabel 🌷",
          "a. m. - Anabel 🌷",
          "a. m. - Anabel 🌷",
          "a. m. - Anabel 🌷",
          "a. m. - Anabel 🌷",
          "a. m. - Anabel 🌷",
          "a. m. - Anabel 🌷",
          "a. m. - Anabel 🌷",
          "a. m. - Anabel 🌷",
          "a. m. - Anabel 🌷",
          "a. m. - Anabel 🌷",
          "a. m. - Anabel 🌷",
          "a. m. - Anabel 🌷",
          "a. m. - Anabel 🌷",
          "a. m. - Anabel 🌷",
          "a. m. - Anabel 🌷",
          "a. m. - Anabel 🌷",
          "a. m. - Anabel 🌷",
          "a. m. - Anabel 🌷",
          "a. m. - Anabel 🌷",
          "a. m. - Anabel 🌷",
          "a. m. - Anabel 🌷",
          "a. m. - Anabel 🌷",
          "a. m. - Anabel 🌷",
          "a. m. - Anabel 🌷",
          "a. m. - Anabel 🌷",
          "a. m. - Anabel 🌷",
          "a. m. - Anabel 🌷",
          "a. m. - Anabel 🌷",
          "a. m. - Anabel 🌷",
          "a. m. - Anabel 🌷",
          "a. m. - Anabel 🌷",
          "a. m. - Anabel 🌷",
          "a. m. - Anabel 🌷",
          "a. m. - Anabel 🌷",
          "a. m. - Anabel 🌷",
          "a. m. - Anabel 🌷",
          "a. m. - Anabel 🌷",
          "a. m. - Anabel 🌷",
          "a. m. - Anabel 🌷",
          "a. m. - Anabel 🌷",
          "a. m. - Anabel 🌷",
          "a. m. - Anabel 🌷",
          "a. m. - Anabel 🌷",
          "a. m. - Anabel 🌷",
          "a. m. - Anabel 🌷",
          "a. m. - Anabel 🌷",
          "a. m. - Anabel 🌷",
          "a. m. - Anabel 🌷",
          "a. m. - Anabel 🌷",
          "a. m. - Anabel 🌷",
          "a. m. - Anabel 🌷",
          "a. m. - Anabel 🌷",
          "a. m. - Anabel 🌷",
          "a. m. - Anabel 🌷",
          "a. m. - Anabel 🌷",
          "a. m. - Anabel 🌷",
          "a. m. - Anabel 🌷",
          "a. m. - Anabel 🌷",
          "a. m. - Anabel 🌷",
          "a. m. - Anabel 🌷",
          "a. m. - Anabel 🌷",
          "a. m. - Anabel 🌷",
          "a. m. - Anabel 🌷",
          "a. m. - Anabel 🌷",
          "a. m. - Anabel 🌷",
          "a. m. - Anabel 🌷",
          "a. m. - Anabel 🌷",
          "a. m. - Anabel 🌷",
          "a. m. - Anabel 🌷",
          "a. m. - Anabel 🌷",
          "a. m. - Anabel 🌷",
          "a. m. - Anabel 🌷",
          "a. m. - Anabel 🌷",
          "a. m. - Anabel 🌷",
          "a. m. - Anabel 🌷",
          "a. m. - Anabel 🌷",
          "a. m. - Anabel 🌷",
          "a. m. - Anabel 🌷",
          "a. m. - Anabel 🌷",
          "a. m. - Anabel 🌷",
          "a. m. - Anabel 🌷",
          "a. m. - Anabel 🌷",
          "a. m. - Anabel 🌷",
          "a. m. - Anabel 🌷",
          "a. m. - Anabel 🌷",
          "a. m. - Anabel 🌷",
          "a. m. - Anabel 🌷",
          "a. m. - Anabel 🌷",
          "a. m. - Anabel 🌷",
          "a. m. - Anabel 🌷",
          "a. m. - Anabel 🌷",
          "a. m. - Anabel 🌷",
          "a. m. - Anabel 🌷",
          "a. m. - Anabel 🌷",
          "a. m. - Anabel 🌷",
          "a. m. - Anabel 🌷",
          "a. m. - Anabel 🌷",
          "a. m. - Anabel 🌷",
          "a. m. - Anabel 🌷",
          "a. m. - Anabel 🌷",
          "a. m. - Anabel 🌷",
          "a. m. - Anabel 🌷",
          "a. m. - Anabel 🌷",
          "a. m. - Anabel 🌷",
          "a. m. - Anabel 🌷",
          "a. m. - Anabel 🌷",
          "a. m. - Anabel 🌷",
          "a. m. - Anabel 🌷",
          "a. m. - Anabel 🌷",
          "a. m. - Anabel 🌷",
          "a. m. - Anabel 🌷",
          "a. m. - Anabel 🌷",
          "a. m. - Anabel 🌷",
          "a. m. - Anabel 🌷",
          "a. m. - Anabel 🌷",
          "a. m. - Anabel 🌷",
          "a. m. - Anabel 🌷",
          "a. m. - Anabel 🌷",
          "a. m. - Anabel 🌷",
          "a. m. - Anabel 🌷",
          "a. m. - Anabel 🌷",
          "a. m. - Anabel 🌷",
          "a. m. - Anabel 🌷",
          "a. m. - Anabel 🌷",
          "a. m. - Anabel 🌷",
          "a. m. - Anabel 🌷",
          "a. m. - Anabel 🌷",
          "a. m. - Anabel 🌷",
          "a. m. - Anabel 🌷",
          "a. m. - Anabel 🌷",
          "a. m. - Anabel 🌷",
          "a. m. - Anabel 🌷",
          "a. m. - Anabel 🌷",
          "a. m. - Anabel 🌷",
          "a. m. - Anabel 🌷",
          "a. m. - Anabel 🌷",
          "a. m. - Anabel 🌷",
          "a. m. - Anabel 🌷",
          "a. m. - Anabel 🌷",
          "a. m. - Anabel 🌷",
          "a. m. - Anabel 🌷",
          "a. m. - Anabel 🌷",
          "a. m. - Anabel 🌷",
          "a. m. - Anabel 🌷"
         ],
         "yaxis": "y"
        }
       ],
       "layout": {
        "legend": {
         "itemsizing": "constant",
         "title": {
          "text": "Miembro"
         },
         "tracegroupgap": 0
        },
        "template": {
         "data": {
          "bar": [
           {
            "error_x": {
             "color": "#2a3f5f"
            },
            "error_y": {
             "color": "#2a3f5f"
            },
            "marker": {
             "line": {
              "color": "#E5ECF6",
              "width": 0.5
             },
             "pattern": {
              "fillmode": "overlay",
              "size": 10,
              "solidity": 0.2
             }
            },
            "type": "bar"
           }
          ],
          "barpolar": [
           {
            "marker": {
             "line": {
              "color": "#E5ECF6",
              "width": 0.5
             },
             "pattern": {
              "fillmode": "overlay",
              "size": 10,
              "solidity": 0.2
             }
            },
            "type": "barpolar"
           }
          ],
          "carpet": [
           {
            "aaxis": {
             "endlinecolor": "#2a3f5f",
             "gridcolor": "white",
             "linecolor": "white",
             "minorgridcolor": "white",
             "startlinecolor": "#2a3f5f"
            },
            "baxis": {
             "endlinecolor": "#2a3f5f",
             "gridcolor": "white",
             "linecolor": "white",
             "minorgridcolor": "white",
             "startlinecolor": "#2a3f5f"
            },
            "type": "carpet"
           }
          ],
          "choropleth": [
           {
            "colorbar": {
             "outlinewidth": 0,
             "ticks": ""
            },
            "type": "choropleth"
           }
          ],
          "contour": [
           {
            "colorbar": {
             "outlinewidth": 0,
             "ticks": ""
            },
            "colorscale": [
             [
              0,
              "#0d0887"
             ],
             [
              0.1111111111111111,
              "#46039f"
             ],
             [
              0.2222222222222222,
              "#7201a8"
             ],
             [
              0.3333333333333333,
              "#9c179e"
             ],
             [
              0.4444444444444444,
              "#bd3786"
             ],
             [
              0.5555555555555556,
              "#d8576b"
             ],
             [
              0.6666666666666666,
              "#ed7953"
             ],
             [
              0.7777777777777778,
              "#fb9f3a"
             ],
             [
              0.8888888888888888,
              "#fdca26"
             ],
             [
              1,
              "#f0f921"
             ]
            ],
            "type": "contour"
           }
          ],
          "contourcarpet": [
           {
            "colorbar": {
             "outlinewidth": 0,
             "ticks": ""
            },
            "type": "contourcarpet"
           }
          ],
          "heatmap": [
           {
            "colorbar": {
             "outlinewidth": 0,
             "ticks": ""
            },
            "colorscale": [
             [
              0,
              "#0d0887"
             ],
             [
              0.1111111111111111,
              "#46039f"
             ],
             [
              0.2222222222222222,
              "#7201a8"
             ],
             [
              0.3333333333333333,
              "#9c179e"
             ],
             [
              0.4444444444444444,
              "#bd3786"
             ],
             [
              0.5555555555555556,
              "#d8576b"
             ],
             [
              0.6666666666666666,
              "#ed7953"
             ],
             [
              0.7777777777777778,
              "#fb9f3a"
             ],
             [
              0.8888888888888888,
              "#fdca26"
             ],
             [
              1,
              "#f0f921"
             ]
            ],
            "type": "heatmap"
           }
          ],
          "heatmapgl": [
           {
            "colorbar": {
             "outlinewidth": 0,
             "ticks": ""
            },
            "colorscale": [
             [
              0,
              "#0d0887"
             ],
             [
              0.1111111111111111,
              "#46039f"
             ],
             [
              0.2222222222222222,
              "#7201a8"
             ],
             [
              0.3333333333333333,
              "#9c179e"
             ],
             [
              0.4444444444444444,
              "#bd3786"
             ],
             [
              0.5555555555555556,
              "#d8576b"
             ],
             [
              0.6666666666666666,
              "#ed7953"
             ],
             [
              0.7777777777777778,
              "#fb9f3a"
             ],
             [
              0.8888888888888888,
              "#fdca26"
             ],
             [
              1,
              "#f0f921"
             ]
            ],
            "type": "heatmapgl"
           }
          ],
          "histogram": [
           {
            "marker": {
             "pattern": {
              "fillmode": "overlay",
              "size": 10,
              "solidity": 0.2
             }
            },
            "type": "histogram"
           }
          ],
          "histogram2d": [
           {
            "colorbar": {
             "outlinewidth": 0,
             "ticks": ""
            },
            "colorscale": [
             [
              0,
              "#0d0887"
             ],
             [
              0.1111111111111111,
              "#46039f"
             ],
             [
              0.2222222222222222,
              "#7201a8"
             ],
             [
              0.3333333333333333,
              "#9c179e"
             ],
             [
              0.4444444444444444,
              "#bd3786"
             ],
             [
              0.5555555555555556,
              "#d8576b"
             ],
             [
              0.6666666666666666,
              "#ed7953"
             ],
             [
              0.7777777777777778,
              "#fb9f3a"
             ],
             [
              0.8888888888888888,
              "#fdca26"
             ],
             [
              1,
              "#f0f921"
             ]
            ],
            "type": "histogram2d"
           }
          ],
          "histogram2dcontour": [
           {
            "colorbar": {
             "outlinewidth": 0,
             "ticks": ""
            },
            "colorscale": [
             [
              0,
              "#0d0887"
             ],
             [
              0.1111111111111111,
              "#46039f"
             ],
             [
              0.2222222222222222,
              "#7201a8"
             ],
             [
              0.3333333333333333,
              "#9c179e"
             ],
             [
              0.4444444444444444,
              "#bd3786"
             ],
             [
              0.5555555555555556,
              "#d8576b"
             ],
             [
              0.6666666666666666,
              "#ed7953"
             ],
             [
              0.7777777777777778,
              "#fb9f3a"
             ],
             [
              0.8888888888888888,
              "#fdca26"
             ],
             [
              1,
              "#f0f921"
             ]
            ],
            "type": "histogram2dcontour"
           }
          ],
          "mesh3d": [
           {
            "colorbar": {
             "outlinewidth": 0,
             "ticks": ""
            },
            "type": "mesh3d"
           }
          ],
          "parcoords": [
           {
            "line": {
             "colorbar": {
              "outlinewidth": 0,
              "ticks": ""
             }
            },
            "type": "parcoords"
           }
          ],
          "pie": [
           {
            "automargin": true,
            "type": "pie"
           }
          ],
          "scatter": [
           {
            "fillpattern": {
             "fillmode": "overlay",
             "size": 10,
             "solidity": 0.2
            },
            "type": "scatter"
           }
          ],
          "scatter3d": [
           {
            "line": {
             "colorbar": {
              "outlinewidth": 0,
              "ticks": ""
             }
            },
            "marker": {
             "colorbar": {
              "outlinewidth": 0,
              "ticks": ""
             }
            },
            "type": "scatter3d"
           }
          ],
          "scattercarpet": [
           {
            "marker": {
             "colorbar": {
              "outlinewidth": 0,
              "ticks": ""
             }
            },
            "type": "scattercarpet"
           }
          ],
          "scattergeo": [
           {
            "marker": {
             "colorbar": {
              "outlinewidth": 0,
              "ticks": ""
             }
            },
            "type": "scattergeo"
           }
          ],
          "scattergl": [
           {
            "marker": {
             "colorbar": {
              "outlinewidth": 0,
              "ticks": ""
             }
            },
            "type": "scattergl"
           }
          ],
          "scattermapbox": [
           {
            "marker": {
             "colorbar": {
              "outlinewidth": 0,
              "ticks": ""
             }
            },
            "type": "scattermapbox"
           }
          ],
          "scatterpolar": [
           {
            "marker": {
             "colorbar": {
              "outlinewidth": 0,
              "ticks": ""
             }
            },
            "type": "scatterpolar"
           }
          ],
          "scatterpolargl": [
           {
            "marker": {
             "colorbar": {
              "outlinewidth": 0,
              "ticks": ""
             }
            },
            "type": "scatterpolargl"
           }
          ],
          "scatterternary": [
           {
            "marker": {
             "colorbar": {
              "outlinewidth": 0,
              "ticks": ""
             }
            },
            "type": "scatterternary"
           }
          ],
          "surface": [
           {
            "colorbar": {
             "outlinewidth": 0,
             "ticks": ""
            },
            "colorscale": [
             [
              0,
              "#0d0887"
             ],
             [
              0.1111111111111111,
              "#46039f"
             ],
             [
              0.2222222222222222,
              "#7201a8"
             ],
             [
              0.3333333333333333,
              "#9c179e"
             ],
             [
              0.4444444444444444,
              "#bd3786"
             ],
             [
              0.5555555555555556,
              "#d8576b"
             ],
             [
              0.6666666666666666,
              "#ed7953"
             ],
             [
              0.7777777777777778,
              "#fb9f3a"
             ],
             [
              0.8888888888888888,
              "#fdca26"
             ],
             [
              1,
              "#f0f921"
             ]
            ],
            "type": "surface"
           }
          ],
          "table": [
           {
            "cells": {
             "fill": {
              "color": "#EBF0F8"
             },
             "line": {
              "color": "white"
             }
            },
            "header": {
             "fill": {
              "color": "#C8D4E3"
             },
             "line": {
              "color": "white"
             }
            },
            "type": "table"
           }
          ]
         },
         "layout": {
          "annotationdefaults": {
           "arrowcolor": "#2a3f5f",
           "arrowhead": 0,
           "arrowwidth": 1
          },
          "autotypenumbers": "strict",
          "coloraxis": {
           "colorbar": {
            "outlinewidth": 0,
            "ticks": ""
           }
          },
          "colorscale": {
           "diverging": [
            [
             0,
             "#8e0152"
            ],
            [
             0.1,
             "#c51b7d"
            ],
            [
             0.2,
             "#de77ae"
            ],
            [
             0.3,
             "#f1b6da"
            ],
            [
             0.4,
             "#fde0ef"
            ],
            [
             0.5,
             "#f7f7f7"
            ],
            [
             0.6,
             "#e6f5d0"
            ],
            [
             0.7,
             "#b8e186"
            ],
            [
             0.8,
             "#7fbc41"
            ],
            [
             0.9,
             "#4d9221"
            ],
            [
             1,
             "#276419"
            ]
           ],
           "sequential": [
            [
             0,
             "#0d0887"
            ],
            [
             0.1111111111111111,
             "#46039f"
            ],
            [
             0.2222222222222222,
             "#7201a8"
            ],
            [
             0.3333333333333333,
             "#9c179e"
            ],
            [
             0.4444444444444444,
             "#bd3786"
            ],
            [
             0.5555555555555556,
             "#d8576b"
            ],
            [
             0.6666666666666666,
             "#ed7953"
            ],
            [
             0.7777777777777778,
             "#fb9f3a"
            ],
            [
             0.8888888888888888,
             "#fdca26"
            ],
            [
             1,
             "#f0f921"
            ]
           ],
           "sequentialminus": [
            [
             0,
             "#0d0887"
            ],
            [
             0.1111111111111111,
             "#46039f"
            ],
            [
             0.2222222222222222,
             "#7201a8"
            ],
            [
             0.3333333333333333,
             "#9c179e"
            ],
            [
             0.4444444444444444,
             "#bd3786"
            ],
            [
             0.5555555555555556,
             "#d8576b"
            ],
            [
             0.6666666666666666,
             "#ed7953"
            ],
            [
             0.7777777777777778,
             "#fb9f3a"
            ],
            [
             0.8888888888888888,
             "#fdca26"
            ],
            [
             1,
             "#f0f921"
            ]
           ]
          },
          "colorway": [
           "#636efa",
           "#EF553B",
           "#00cc96",
           "#ab63fa",
           "#FFA15A",
           "#19d3f3",
           "#FF6692",
           "#B6E880",
           "#FF97FF",
           "#FECB52"
          ],
          "font": {
           "color": "#2a3f5f"
          },
          "geo": {
           "bgcolor": "white",
           "lakecolor": "white",
           "landcolor": "#E5ECF6",
           "showlakes": true,
           "showland": true,
           "subunitcolor": "white"
          },
          "hoverlabel": {
           "align": "left"
          },
          "hovermode": "closest",
          "mapbox": {
           "style": "light"
          },
          "paper_bgcolor": "white",
          "plot_bgcolor": "#E5ECF6",
          "polar": {
           "angularaxis": {
            "gridcolor": "white",
            "linecolor": "white",
            "ticks": ""
           },
           "bgcolor": "#E5ECF6",
           "radialaxis": {
            "gridcolor": "white",
            "linecolor": "white",
            "ticks": ""
           }
          },
          "scene": {
           "xaxis": {
            "backgroundcolor": "#E5ECF6",
            "gridcolor": "white",
            "gridwidth": 2,
            "linecolor": "white",
            "showbackground": true,
            "ticks": "",
            "zerolinecolor": "white"
           },
           "yaxis": {
            "backgroundcolor": "#E5ECF6",
            "gridcolor": "white",
            "gridwidth": 2,
            "linecolor": "white",
            "showbackground": true,
            "ticks": "",
            "zerolinecolor": "white"
           },
           "zaxis": {
            "backgroundcolor": "#E5ECF6",
            "gridcolor": "white",
            "gridwidth": 2,
            "linecolor": "white",
            "showbackground": true,
            "ticks": "",
            "zerolinecolor": "white"
           }
          },
          "shapedefaults": {
           "line": {
            "color": "#2a3f5f"
           }
          },
          "ternary": {
           "aaxis": {
            "gridcolor": "white",
            "linecolor": "white",
            "ticks": ""
           },
           "baxis": {
            "gridcolor": "white",
            "linecolor": "white",
            "ticks": ""
           },
           "bgcolor": "#E5ECF6",
           "caxis": {
            "gridcolor": "white",
            "linecolor": "white",
            "ticks": ""
           }
          },
          "title": {
           "x": 0.05
          },
          "xaxis": {
           "automargin": true,
           "gridcolor": "white",
           "linecolor": "white",
           "ticks": "",
           "title": {
            "standoff": 15
           },
           "zerolinecolor": "white",
           "zerolinewidth": 2
          },
          "yaxis": {
           "automargin": true,
           "gridcolor": "white",
           "linecolor": "white",
           "ticks": "",
           "title": {
            "standoff": 15
           },
           "zerolinecolor": "white",
           "zerolinewidth": 2
          }
         }
        },
        "title": {
         "text": "Relación entre cantidad de palabras y longitud de palabras por miembro"
        },
        "xaxis": {
         "anchor": "y",
         "domain": [
          0,
          1
         ],
         "title": {
          "text": "Palabras"
         }
        },
        "yaxis": {
         "anchor": "x",
         "categoryarray": [
          "a. m. - Anabel 🌷",
          "a. m. - Juanma Romano",
          "p. m. - Juanma Romano",
          "p. m. - Anabel 🌷"
         ],
         "categoryorder": "array",
         "domain": [
          0,
          1
         ],
         "title": {
          "text": "Miembro"
         }
        }
       }
      }
     },
     "metadata": {},
     "output_type": "display_data"
    }
   ],
   "source": [
    "# Separate messages (without multimedia) and multimedia (stickers, photos, videos)\n",
    "options = [\n",
    "    'imagen omitida', \n",
    "    'Video omitido', \n",
    "    'audio omitido', \n",
    "    'sticker omitido', \n",
    "    'Tarjeta de contacto omitida', \n",
    "    'Se eliminó este mensaje.', \n",
    "    'GIF omitido', \n",
    "    'Ubicación: https://maps.', \n",
    "    'ENCUESTA:', \n",
    "    'POOL:', \n",
    "    '<Media omitted>', \n",
    "    '<Multimedia omitido>', \n",
    "    '<This message was edited>', \n",
    "    '<Este mensaje fue editado>', \n",
    "    '<View once voice message omitted>', \n",
    "    '<Ver una vez omitido el mensaje de voz>', \n",
    "    'You deleted this message', \n",
    "    'Eliminaste este mensaje.', \n",
    "    'This message was deleted', \n",
    "    'Se eliminó este mensaje.'\n",
    "]\n",
    "\n",
    "\n",
    "multimedia_df = df[df['Mensaje'].isin(options)]\n",
    "messages_df = df.drop(multimedia_df.index)\n",
    "\n",
    "# Count the number of words and letters per message\n",
    "messages_df['Letras'] = messages_df['Mensaje'].apply(lambda s : len(s))\n",
    "messages_df['Palabras'] = messages_df['Mensaje'].apply(lambda s : len(s.split(' ')))\n",
    "messages_df\n",
    "\n",
    "fig_messages_data = px.scatter(\n",
    "    messages_df, \n",
    "    x='Palabras', \n",
    "    y='Miembro', \n",
    "    size='Letras', \n",
    "    color='Miembro',  # Optional, to differentiate members by color\n",
    "    hover_name='Miembro',  # Optional, to display the member's name when hovering over the bubble\n",
    "    title='Relación entre cantidad de palabras y longitud de palabras por miembro'\n",
    ")\n",
    "\n",
    "fig_messages_data.write_image(get_save_path(save_path, f'{chat_name}-word-frecuency.png'))\n",
    "fig_messages_data.show()"
   ]
  },
  {
   "cell_type": "markdown",
   "metadata": {},
   "source": [
    "### Create a JSON objet with the members data\n",
    "{\n",
    "    member: [\n",
    "        messages,\n",
    "        words,\n",
    "        multimedia,\n",
    "        emojies,\n",
    "        links\n",
    "    ]\n",
    "}"
   ]
  },
  {
   "cell_type": "code",
   "execution_count": 15,
   "metadata": {},
   "outputs": [
    {
     "name": "stdout",
     "output_type": "stream",
     "text": [
      "{'p.\\u202fm. - Anabel 🌷': [465, 5.318279569892473, 217, 3, 2], 'p.\\u202fm. - Juanma Romano': [661, 6.178517397881997, 185, 54, 6], 'a.\\u202fm. - Juanma Romano': [358, 5.4860335195530725, 92, 31, 1], 'a.\\u202fm. - Anabel 🌷': [337, 4.732937685459941, 115, 3, 2]}\n"
     ]
    }
   ],
   "source": [
    "miembros = messages_df.Miembro.unique()\n",
    "\n",
    "dictionary = {}\n",
    "\n",
    "for i in range(len(miembros)):\n",
    "    list_counts = []\n",
    "\n",
    "    # Filter messages from a specific member\n",
    "    member_df= messages_df[messages_df['Miembro'] == miembros[i]]\n",
    "\n",
    "    # Add messages count\n",
    "    list_counts.append(member_df.shape[0])\n",
    "    \n",
    "    # Words per message\n",
    "    words_per_message = (np.sum(member_df['Palabras']))/member_df.shape[0]\n",
    "    list_counts.append(words_per_message)\n",
    "\n",
    "    # Multimedia messages\n",
    "    multimedia = multimedia_df[multimedia_df['Miembro'] == miembros[i]].shape[0]\n",
    "    list_counts.append(multimedia)\n",
    "\n",
    "    # Count emojies\n",
    "    emojis = sum(member_df['Emojis'].str.len())\n",
    "    list_counts.append(emojis)\n",
    "\n",
    "    # Count links\n",
    "    links = sum(member_df['URLs'])\n",
    "    list_counts.append(links)\n",
    "\n",
    "    # Create the key/pair values for the member on the dictionary.\n",
    "    dictionary[miembros[i]] = list_counts\n",
    "    \n",
    "print(dictionary)"
   ]
  },
  {
   "cell_type": "markdown",
   "metadata": {},
   "source": [
    "###  Show the number of words and letters per message for each member (includes multimedia messages)"
   ]
  },
  {
   "cell_type": "code",
   "execution_count": 16,
   "metadata": {},
   "outputs": [
    {
     "data": {
      "application/vnd.plotly.v1+json": {
       "config": {
        "plotlyServerURL": "https://plot.ly"
       },
       "data": [
        {
         "hovertemplate": "<b>%{hovertext}</b><br><br>Palabras por mensaje=%{x}<br>Mensajes=%{y}<br>Emojis=%{marker.size}<br>Miembro=%{text}<br>Multimedia=%{marker.color}<extra></extra>",
         "hovertext": [
          465,
          661,
          358,
          337
         ],
         "legendgroup": "",
         "marker": {
          "color": [
           217,
           185,
           92,
           115
          ],
          "coloraxis": "coloraxis",
          "size": [
           3,
           54,
           31,
           3
          ],
          "sizemode": "area",
          "sizeref": 0.135,
          "symbol": "circle"
         },
         "mode": "markers+text",
         "name": "",
         "orientation": "v",
         "showlegend": false,
         "text": [
          "p. m. - Anabel 🌷",
          "p. m. - Juanma Romano",
          "a. m. - Juanma Romano",
          "a. m. - Anabel 🌷"
         ],
         "type": "scatter",
         "x": [
          5.318279569892473,
          6.178517397881997,
          5.4860335195530725,
          4.732937685459941
         ],
         "xaxis": "x",
         "y": [
          465,
          661,
          358,
          337
         ],
         "yaxis": "y"
        }
       ],
       "layout": {
        "coloraxis": {
         "colorbar": {
          "title": {
           "text": "Multimedia"
          }
         },
         "colorscale": [
          [
           0,
           "#0d0887"
          ],
          [
           0.1111111111111111,
           "#46039f"
          ],
          [
           0.2222222222222222,
           "#7201a8"
          ],
          [
           0.3333333333333333,
           "#9c179e"
          ],
          [
           0.4444444444444444,
           "#bd3786"
          ],
          [
           0.5555555555555556,
           "#d8576b"
          ],
          [
           0.6666666666666666,
           "#ed7953"
          ],
          [
           0.7777777777777778,
           "#fb9f3a"
          ],
          [
           0.8888888888888888,
           "#fdca26"
          ],
          [
           1,
           "#f0f921"
          ]
         ]
        },
        "legend": {
         "itemsizing": "constant",
         "tracegroupgap": 0
        },
        "template": {
         "data": {
          "bar": [
           {
            "error_x": {
             "color": "#2a3f5f"
            },
            "error_y": {
             "color": "#2a3f5f"
            },
            "marker": {
             "line": {
              "color": "#E5ECF6",
              "width": 0.5
             },
             "pattern": {
              "fillmode": "overlay",
              "size": 10,
              "solidity": 0.2
             }
            },
            "type": "bar"
           }
          ],
          "barpolar": [
           {
            "marker": {
             "line": {
              "color": "#E5ECF6",
              "width": 0.5
             },
             "pattern": {
              "fillmode": "overlay",
              "size": 10,
              "solidity": 0.2
             }
            },
            "type": "barpolar"
           }
          ],
          "carpet": [
           {
            "aaxis": {
             "endlinecolor": "#2a3f5f",
             "gridcolor": "white",
             "linecolor": "white",
             "minorgridcolor": "white",
             "startlinecolor": "#2a3f5f"
            },
            "baxis": {
             "endlinecolor": "#2a3f5f",
             "gridcolor": "white",
             "linecolor": "white",
             "minorgridcolor": "white",
             "startlinecolor": "#2a3f5f"
            },
            "type": "carpet"
           }
          ],
          "choropleth": [
           {
            "colorbar": {
             "outlinewidth": 0,
             "ticks": ""
            },
            "type": "choropleth"
           }
          ],
          "contour": [
           {
            "colorbar": {
             "outlinewidth": 0,
             "ticks": ""
            },
            "colorscale": [
             [
              0,
              "#0d0887"
             ],
             [
              0.1111111111111111,
              "#46039f"
             ],
             [
              0.2222222222222222,
              "#7201a8"
             ],
             [
              0.3333333333333333,
              "#9c179e"
             ],
             [
              0.4444444444444444,
              "#bd3786"
             ],
             [
              0.5555555555555556,
              "#d8576b"
             ],
             [
              0.6666666666666666,
              "#ed7953"
             ],
             [
              0.7777777777777778,
              "#fb9f3a"
             ],
             [
              0.8888888888888888,
              "#fdca26"
             ],
             [
              1,
              "#f0f921"
             ]
            ],
            "type": "contour"
           }
          ],
          "contourcarpet": [
           {
            "colorbar": {
             "outlinewidth": 0,
             "ticks": ""
            },
            "type": "contourcarpet"
           }
          ],
          "heatmap": [
           {
            "colorbar": {
             "outlinewidth": 0,
             "ticks": ""
            },
            "colorscale": [
             [
              0,
              "#0d0887"
             ],
             [
              0.1111111111111111,
              "#46039f"
             ],
             [
              0.2222222222222222,
              "#7201a8"
             ],
             [
              0.3333333333333333,
              "#9c179e"
             ],
             [
              0.4444444444444444,
              "#bd3786"
             ],
             [
              0.5555555555555556,
              "#d8576b"
             ],
             [
              0.6666666666666666,
              "#ed7953"
             ],
             [
              0.7777777777777778,
              "#fb9f3a"
             ],
             [
              0.8888888888888888,
              "#fdca26"
             ],
             [
              1,
              "#f0f921"
             ]
            ],
            "type": "heatmap"
           }
          ],
          "heatmapgl": [
           {
            "colorbar": {
             "outlinewidth": 0,
             "ticks": ""
            },
            "colorscale": [
             [
              0,
              "#0d0887"
             ],
             [
              0.1111111111111111,
              "#46039f"
             ],
             [
              0.2222222222222222,
              "#7201a8"
             ],
             [
              0.3333333333333333,
              "#9c179e"
             ],
             [
              0.4444444444444444,
              "#bd3786"
             ],
             [
              0.5555555555555556,
              "#d8576b"
             ],
             [
              0.6666666666666666,
              "#ed7953"
             ],
             [
              0.7777777777777778,
              "#fb9f3a"
             ],
             [
              0.8888888888888888,
              "#fdca26"
             ],
             [
              1,
              "#f0f921"
             ]
            ],
            "type": "heatmapgl"
           }
          ],
          "histogram": [
           {
            "marker": {
             "pattern": {
              "fillmode": "overlay",
              "size": 10,
              "solidity": 0.2
             }
            },
            "type": "histogram"
           }
          ],
          "histogram2d": [
           {
            "colorbar": {
             "outlinewidth": 0,
             "ticks": ""
            },
            "colorscale": [
             [
              0,
              "#0d0887"
             ],
             [
              0.1111111111111111,
              "#46039f"
             ],
             [
              0.2222222222222222,
              "#7201a8"
             ],
             [
              0.3333333333333333,
              "#9c179e"
             ],
             [
              0.4444444444444444,
              "#bd3786"
             ],
             [
              0.5555555555555556,
              "#d8576b"
             ],
             [
              0.6666666666666666,
              "#ed7953"
             ],
             [
              0.7777777777777778,
              "#fb9f3a"
             ],
             [
              0.8888888888888888,
              "#fdca26"
             ],
             [
              1,
              "#f0f921"
             ]
            ],
            "type": "histogram2d"
           }
          ],
          "histogram2dcontour": [
           {
            "colorbar": {
             "outlinewidth": 0,
             "ticks": ""
            },
            "colorscale": [
             [
              0,
              "#0d0887"
             ],
             [
              0.1111111111111111,
              "#46039f"
             ],
             [
              0.2222222222222222,
              "#7201a8"
             ],
             [
              0.3333333333333333,
              "#9c179e"
             ],
             [
              0.4444444444444444,
              "#bd3786"
             ],
             [
              0.5555555555555556,
              "#d8576b"
             ],
             [
              0.6666666666666666,
              "#ed7953"
             ],
             [
              0.7777777777777778,
              "#fb9f3a"
             ],
             [
              0.8888888888888888,
              "#fdca26"
             ],
             [
              1,
              "#f0f921"
             ]
            ],
            "type": "histogram2dcontour"
           }
          ],
          "mesh3d": [
           {
            "colorbar": {
             "outlinewidth": 0,
             "ticks": ""
            },
            "type": "mesh3d"
           }
          ],
          "parcoords": [
           {
            "line": {
             "colorbar": {
              "outlinewidth": 0,
              "ticks": ""
             }
            },
            "type": "parcoords"
           }
          ],
          "pie": [
           {
            "automargin": true,
            "type": "pie"
           }
          ],
          "scatter": [
           {
            "fillpattern": {
             "fillmode": "overlay",
             "size": 10,
             "solidity": 0.2
            },
            "type": "scatter"
           }
          ],
          "scatter3d": [
           {
            "line": {
             "colorbar": {
              "outlinewidth": 0,
              "ticks": ""
             }
            },
            "marker": {
             "colorbar": {
              "outlinewidth": 0,
              "ticks": ""
             }
            },
            "type": "scatter3d"
           }
          ],
          "scattercarpet": [
           {
            "marker": {
             "colorbar": {
              "outlinewidth": 0,
              "ticks": ""
             }
            },
            "type": "scattercarpet"
           }
          ],
          "scattergeo": [
           {
            "marker": {
             "colorbar": {
              "outlinewidth": 0,
              "ticks": ""
             }
            },
            "type": "scattergeo"
           }
          ],
          "scattergl": [
           {
            "marker": {
             "colorbar": {
              "outlinewidth": 0,
              "ticks": ""
             }
            },
            "type": "scattergl"
           }
          ],
          "scattermapbox": [
           {
            "marker": {
             "colorbar": {
              "outlinewidth": 0,
              "ticks": ""
             }
            },
            "type": "scattermapbox"
           }
          ],
          "scatterpolar": [
           {
            "marker": {
             "colorbar": {
              "outlinewidth": 0,
              "ticks": ""
             }
            },
            "type": "scatterpolar"
           }
          ],
          "scatterpolargl": [
           {
            "marker": {
             "colorbar": {
              "outlinewidth": 0,
              "ticks": ""
             }
            },
            "type": "scatterpolargl"
           }
          ],
          "scatterternary": [
           {
            "marker": {
             "colorbar": {
              "outlinewidth": 0,
              "ticks": ""
             }
            },
            "type": "scatterternary"
           }
          ],
          "surface": [
           {
            "colorbar": {
             "outlinewidth": 0,
             "ticks": ""
            },
            "colorscale": [
             [
              0,
              "#0d0887"
             ],
             [
              0.1111111111111111,
              "#46039f"
             ],
             [
              0.2222222222222222,
              "#7201a8"
             ],
             [
              0.3333333333333333,
              "#9c179e"
             ],
             [
              0.4444444444444444,
              "#bd3786"
             ],
             [
              0.5555555555555556,
              "#d8576b"
             ],
             [
              0.6666666666666666,
              "#ed7953"
             ],
             [
              0.7777777777777778,
              "#fb9f3a"
             ],
             [
              0.8888888888888888,
              "#fdca26"
             ],
             [
              1,
              "#f0f921"
             ]
            ],
            "type": "surface"
           }
          ],
          "table": [
           {
            "cells": {
             "fill": {
              "color": "#EBF0F8"
             },
             "line": {
              "color": "white"
             }
            },
            "header": {
             "fill": {
              "color": "#C8D4E3"
             },
             "line": {
              "color": "white"
             }
            },
            "type": "table"
           }
          ]
         },
         "layout": {
          "annotationdefaults": {
           "arrowcolor": "#2a3f5f",
           "arrowhead": 0,
           "arrowwidth": 1
          },
          "autotypenumbers": "strict",
          "coloraxis": {
           "colorbar": {
            "outlinewidth": 0,
            "ticks": ""
           }
          },
          "colorscale": {
           "diverging": [
            [
             0,
             "#8e0152"
            ],
            [
             0.1,
             "#c51b7d"
            ],
            [
             0.2,
             "#de77ae"
            ],
            [
             0.3,
             "#f1b6da"
            ],
            [
             0.4,
             "#fde0ef"
            ],
            [
             0.5,
             "#f7f7f7"
            ],
            [
             0.6,
             "#e6f5d0"
            ],
            [
             0.7,
             "#b8e186"
            ],
            [
             0.8,
             "#7fbc41"
            ],
            [
             0.9,
             "#4d9221"
            ],
            [
             1,
             "#276419"
            ]
           ],
           "sequential": [
            [
             0,
             "#0d0887"
            ],
            [
             0.1111111111111111,
             "#46039f"
            ],
            [
             0.2222222222222222,
             "#7201a8"
            ],
            [
             0.3333333333333333,
             "#9c179e"
            ],
            [
             0.4444444444444444,
             "#bd3786"
            ],
            [
             0.5555555555555556,
             "#d8576b"
            ],
            [
             0.6666666666666666,
             "#ed7953"
            ],
            [
             0.7777777777777778,
             "#fb9f3a"
            ],
            [
             0.8888888888888888,
             "#fdca26"
            ],
            [
             1,
             "#f0f921"
            ]
           ],
           "sequentialminus": [
            [
             0,
             "#0d0887"
            ],
            [
             0.1111111111111111,
             "#46039f"
            ],
            [
             0.2222222222222222,
             "#7201a8"
            ],
            [
             0.3333333333333333,
             "#9c179e"
            ],
            [
             0.4444444444444444,
             "#bd3786"
            ],
            [
             0.5555555555555556,
             "#d8576b"
            ],
            [
             0.6666666666666666,
             "#ed7953"
            ],
            [
             0.7777777777777778,
             "#fb9f3a"
            ],
            [
             0.8888888888888888,
             "#fdca26"
            ],
            [
             1,
             "#f0f921"
            ]
           ]
          },
          "colorway": [
           "#636efa",
           "#EF553B",
           "#00cc96",
           "#ab63fa",
           "#FFA15A",
           "#19d3f3",
           "#FF6692",
           "#B6E880",
           "#FF97FF",
           "#FECB52"
          ],
          "font": {
           "color": "#2a3f5f"
          },
          "geo": {
           "bgcolor": "white",
           "lakecolor": "white",
           "landcolor": "#E5ECF6",
           "showlakes": true,
           "showland": true,
           "subunitcolor": "white"
          },
          "hoverlabel": {
           "align": "left"
          },
          "hovermode": "closest",
          "mapbox": {
           "style": "light"
          },
          "paper_bgcolor": "white",
          "plot_bgcolor": "#E5ECF6",
          "polar": {
           "angularaxis": {
            "gridcolor": "white",
            "linecolor": "white",
            "ticks": ""
           },
           "bgcolor": "#E5ECF6",
           "radialaxis": {
            "gridcolor": "white",
            "linecolor": "white",
            "ticks": ""
           }
          },
          "scene": {
           "xaxis": {
            "backgroundcolor": "#E5ECF6",
            "gridcolor": "white",
            "gridwidth": 2,
            "linecolor": "white",
            "showbackground": true,
            "ticks": "",
            "zerolinecolor": "white"
           },
           "yaxis": {
            "backgroundcolor": "#E5ECF6",
            "gridcolor": "white",
            "gridwidth": 2,
            "linecolor": "white",
            "showbackground": true,
            "ticks": "",
            "zerolinecolor": "white"
           },
           "zaxis": {
            "backgroundcolor": "#E5ECF6",
            "gridcolor": "white",
            "gridwidth": 2,
            "linecolor": "white",
            "showbackground": true,
            "ticks": "",
            "zerolinecolor": "white"
           }
          },
          "shapedefaults": {
           "line": {
            "color": "#2a3f5f"
           }
          },
          "ternary": {
           "aaxis": {
            "gridcolor": "white",
            "linecolor": "white",
            "ticks": ""
           },
           "baxis": {
            "gridcolor": "white",
            "linecolor": "white",
            "ticks": ""
           },
           "bgcolor": "#E5ECF6",
           "caxis": {
            "gridcolor": "white",
            "linecolor": "white",
            "ticks": ""
           }
          },
          "title": {
           "x": 0.05
          },
          "xaxis": {
           "automargin": true,
           "gridcolor": "white",
           "linecolor": "white",
           "ticks": "",
           "title": {
            "standoff": 15
           },
           "zerolinecolor": "white",
           "zerolinewidth": 2
          },
          "yaxis": {
           "automargin": true,
           "gridcolor": "white",
           "linecolor": "white",
           "ticks": "",
           "title": {
            "standoff": 15
           },
           "zerolinecolor": "white",
           "zerolinewidth": 2
          }
         }
        },
        "title": {
         "text": "Frecuencia y tipos de mensajes (con tamaño en emojies)"
        },
        "xaxis": {
         "anchor": "y",
         "domain": [
          0,
          1
         ],
         "title": {
          "text": "Palabras por mensaje"
         }
        },
        "yaxis": {
         "anchor": "x",
         "domain": [
          0,
          1
         ],
         "title": {
          "text": "Mensajes"
         }
        }
       }
      }
     },
     "metadata": {},
     "output_type": "display_data"
    }
   ],
   "source": [
    "# Convert from dictionary to dataframe\n",
    "member_stats = pd.DataFrame.from_dict(dictionary)\n",
    "\n",
    "# Change the index for the aggregate column 'Statistics'\n",
    "stats = ['Mensajes', 'Palabras por mensaje', 'Multimedia', 'Emojis', 'Links']\n",
    "member_stats['Estadísticas'] = stats\n",
    "member_stats.set_index('Estadísticas', inplace=True)\n",
    "\n",
    "# Transpose the dataframe\n",
    "member_stats = member_stats.T\n",
    "\n",
    "# Reset index to Member\n",
    "member_stats.reset_index(inplace=True)\n",
    "member_stats.rename(columns={'index': 'Miembro'}, inplace=True)\n",
    "\n",
    "# Convert to integrate the Messages, Multimedia Emojis and Links columns\n",
    "member_stats['Mensajes'] = member_stats['Mensajes'].apply(int)\n",
    "member_stats['Multimedia'] = member_stats['Multimedia'].apply(int)\n",
    "member_stats['Emojis'] = member_stats['Emojis'].apply(int)\n",
    "member_stats['Links'] = member_stats['Links'].apply(int)\n",
    "member_stats.sort_values(by=['Mensajes'], ascending=False)\n",
    "\n",
    "fig_messages_data = px.scatter(\n",
    "    member_stats, \n",
    "    x='Palabras por mensaje', \n",
    "    y='Mensajes', \n",
    "    size='Emojis', \n",
    "    color='Multimedia',  # Optional, to differentiate members by color\n",
    "    hover_name='Mensajes',  # Optional, to display the member's name when hovering over the bubble\n",
    "    title='Frecuencia y tipos de mensajes (con tamaño en emojies)',\n",
    "    text='Miembro'\n",
    ")\n",
    "\n",
    "\n",
    "fig_messages_data.write_image(get_save_path(save_path, f'{chat_name}-total-word-frecuency.png'))\n",
    "fig_messages_data.show()"
   ]
  },
  {
   "cell_type": "markdown",
   "metadata": {},
   "source": [
    "### Generates a range_per_hour column"
   ]
  },
  {
   "cell_type": "code",
   "execution_count": 17,
   "metadata": {},
   "outputs": [
    {
     "ename": "ValueError",
     "evalue": "time data \"8:01\" doesn't match format \"%H:%M:%S\", at position 0. You might want to try:\n    - passing `format` if your strings have a consistent format;\n    - passing `format='ISO8601'` if your strings are all ISO8601 but not necessarily in exactly the same format;\n    - passing `format='mixed'`, and the format will be inferred for each element individually. You might want to use `dayfirst` alongside this.",
     "output_type": "error",
     "traceback": [
      "\u001b[0;31m---------------------------------------------------------------------------\u001b[0m",
      "\u001b[0;31mValueError\u001b[0m                                Traceback (most recent call last)",
      "Cell \u001b[0;32mIn[17], line 1\u001b[0m\n\u001b[0;32m----> 1\u001b[0m df[\u001b[38;5;124m'\u001b[39m\u001b[38;5;124mrangoHora\u001b[39m\u001b[38;5;124m'\u001b[39m] \u001b[38;5;241m=\u001b[39m \u001b[43mpd\u001b[49m\u001b[38;5;241;43m.\u001b[39;49m\u001b[43mto_datetime\u001b[49m\u001b[43m(\u001b[49m\u001b[43mdf\u001b[49m\u001b[43m[\u001b[49m\u001b[38;5;124;43m'\u001b[39;49m\u001b[38;5;124;43mHora\u001b[39;49m\u001b[38;5;124;43m'\u001b[39;49m\u001b[43m]\u001b[49m\u001b[43m,\u001b[49m\u001b[43m \u001b[49m\u001b[38;5;28;43mformat\u001b[39;49m\u001b[38;5;241;43m=\u001b[39;49m\u001b[38;5;124;43m'\u001b[39;49m\u001b[38;5;124;43m%\u001b[39;49m\u001b[38;5;124;43mH:\u001b[39;49m\u001b[38;5;124;43m%\u001b[39;49m\u001b[38;5;124;43mM:\u001b[39;49m\u001b[38;5;124;43m%\u001b[39;49m\u001b[38;5;124;43mS\u001b[39;49m\u001b[38;5;124;43m'\u001b[39;49m\u001b[43m)\u001b[49m \u001b[38;5;66;03m# TODO check\u001b[39;00m\n\u001b[1;32m      3\u001b[0m \u001b[38;5;66;03m# Define a function to create the \"Range Hour\" column\u001b[39;00m\n\u001b[1;32m      4\u001b[0m \u001b[38;5;28;01mdef\u001b[39;00m \u001b[38;5;21mcreate_range_hour\u001b[39m(hour):\n",
      "File \u001b[0;32m~/dev/wpp-visualization/venv/lib/python3.12/site-packages/pandas/core/tools/datetimes.py:1063\u001b[0m, in \u001b[0;36mto_datetime\u001b[0;34m(arg, errors, dayfirst, yearfirst, utc, format, exact, unit, infer_datetime_format, origin, cache)\u001b[0m\n\u001b[1;32m   1061\u001b[0m             result \u001b[38;5;241m=\u001b[39m arg\u001b[38;5;241m.\u001b[39mtz_localize(\u001b[38;5;124m\"\u001b[39m\u001b[38;5;124mutc\u001b[39m\u001b[38;5;124m\"\u001b[39m)\n\u001b[1;32m   1062\u001b[0m \u001b[38;5;28;01melif\u001b[39;00m \u001b[38;5;28misinstance\u001b[39m(arg, ABCSeries):\n\u001b[0;32m-> 1063\u001b[0m     cache_array \u001b[38;5;241m=\u001b[39m \u001b[43m_maybe_cache\u001b[49m\u001b[43m(\u001b[49m\u001b[43marg\u001b[49m\u001b[43m,\u001b[49m\u001b[43m \u001b[49m\u001b[38;5;28;43mformat\u001b[39;49m\u001b[43m,\u001b[49m\u001b[43m \u001b[49m\u001b[43mcache\u001b[49m\u001b[43m,\u001b[49m\u001b[43m \u001b[49m\u001b[43mconvert_listlike\u001b[49m\u001b[43m)\u001b[49m\n\u001b[1;32m   1064\u001b[0m     \u001b[38;5;28;01mif\u001b[39;00m \u001b[38;5;129;01mnot\u001b[39;00m cache_array\u001b[38;5;241m.\u001b[39mempty:\n\u001b[1;32m   1065\u001b[0m         result \u001b[38;5;241m=\u001b[39m arg\u001b[38;5;241m.\u001b[39mmap(cache_array)\n",
      "File \u001b[0;32m~/dev/wpp-visualization/venv/lib/python3.12/site-packages/pandas/core/tools/datetimes.py:247\u001b[0m, in \u001b[0;36m_maybe_cache\u001b[0;34m(arg, format, cache, convert_listlike)\u001b[0m\n\u001b[1;32m    245\u001b[0m unique_dates \u001b[38;5;241m=\u001b[39m unique(arg)\n\u001b[1;32m    246\u001b[0m \u001b[38;5;28;01mif\u001b[39;00m \u001b[38;5;28mlen\u001b[39m(unique_dates) \u001b[38;5;241m<\u001b[39m \u001b[38;5;28mlen\u001b[39m(arg):\n\u001b[0;32m--> 247\u001b[0m     cache_dates \u001b[38;5;241m=\u001b[39m \u001b[43mconvert_listlike\u001b[49m\u001b[43m(\u001b[49m\u001b[43munique_dates\u001b[49m\u001b[43m,\u001b[49m\u001b[43m \u001b[49m\u001b[38;5;28;43mformat\u001b[39;49m\u001b[43m)\u001b[49m\n\u001b[1;32m    248\u001b[0m     \u001b[38;5;66;03m# GH#45319\u001b[39;00m\n\u001b[1;32m    249\u001b[0m     \u001b[38;5;28;01mtry\u001b[39;00m:\n",
      "File \u001b[0;32m~/dev/wpp-visualization/venv/lib/python3.12/site-packages/pandas/core/tools/datetimes.py:433\u001b[0m, in \u001b[0;36m_convert_listlike_datetimes\u001b[0;34m(arg, format, name, utc, unit, errors, dayfirst, yearfirst, exact)\u001b[0m\n\u001b[1;32m    431\u001b[0m \u001b[38;5;66;03m# `format` could be inferred, or user didn't ask for mixed-format parsing.\u001b[39;00m\n\u001b[1;32m    432\u001b[0m \u001b[38;5;28;01mif\u001b[39;00m \u001b[38;5;28mformat\u001b[39m \u001b[38;5;129;01mis\u001b[39;00m \u001b[38;5;129;01mnot\u001b[39;00m \u001b[38;5;28;01mNone\u001b[39;00m \u001b[38;5;129;01mand\u001b[39;00m \u001b[38;5;28mformat\u001b[39m \u001b[38;5;241m!=\u001b[39m \u001b[38;5;124m\"\u001b[39m\u001b[38;5;124mmixed\u001b[39m\u001b[38;5;124m\"\u001b[39m:\n\u001b[0;32m--> 433\u001b[0m     \u001b[38;5;28;01mreturn\u001b[39;00m \u001b[43m_array_strptime_with_fallback\u001b[49m\u001b[43m(\u001b[49m\u001b[43marg\u001b[49m\u001b[43m,\u001b[49m\u001b[43m \u001b[49m\u001b[43mname\u001b[49m\u001b[43m,\u001b[49m\u001b[43m \u001b[49m\u001b[43mutc\u001b[49m\u001b[43m,\u001b[49m\u001b[43m \u001b[49m\u001b[38;5;28;43mformat\u001b[39;49m\u001b[43m,\u001b[49m\u001b[43m \u001b[49m\u001b[43mexact\u001b[49m\u001b[43m,\u001b[49m\u001b[43m \u001b[49m\u001b[43merrors\u001b[49m\u001b[43m)\u001b[49m\n\u001b[1;32m    435\u001b[0m result, tz_parsed \u001b[38;5;241m=\u001b[39m objects_to_datetime64(\n\u001b[1;32m    436\u001b[0m     arg,\n\u001b[1;32m    437\u001b[0m     dayfirst\u001b[38;5;241m=\u001b[39mdayfirst,\n\u001b[0;32m   (...)\u001b[0m\n\u001b[1;32m    441\u001b[0m     allow_object\u001b[38;5;241m=\u001b[39m\u001b[38;5;28;01mTrue\u001b[39;00m,\n\u001b[1;32m    442\u001b[0m )\n\u001b[1;32m    444\u001b[0m \u001b[38;5;28;01mif\u001b[39;00m tz_parsed \u001b[38;5;129;01mis\u001b[39;00m \u001b[38;5;129;01mnot\u001b[39;00m \u001b[38;5;28;01mNone\u001b[39;00m:\n\u001b[1;32m    445\u001b[0m     \u001b[38;5;66;03m# We can take a shortcut since the datetime64 numpy array\u001b[39;00m\n\u001b[1;32m    446\u001b[0m     \u001b[38;5;66;03m# is in UTC\u001b[39;00m\n",
      "File \u001b[0;32m~/dev/wpp-visualization/venv/lib/python3.12/site-packages/pandas/core/tools/datetimes.py:467\u001b[0m, in \u001b[0;36m_array_strptime_with_fallback\u001b[0;34m(arg, name, utc, fmt, exact, errors)\u001b[0m\n\u001b[1;32m    456\u001b[0m \u001b[38;5;28;01mdef\u001b[39;00m \u001b[38;5;21m_array_strptime_with_fallback\u001b[39m(\n\u001b[1;32m    457\u001b[0m     arg,\n\u001b[1;32m    458\u001b[0m     name,\n\u001b[0;32m   (...)\u001b[0m\n\u001b[1;32m    462\u001b[0m     errors: \u001b[38;5;28mstr\u001b[39m,\n\u001b[1;32m    463\u001b[0m ) \u001b[38;5;241m-\u001b[39m\u001b[38;5;241m>\u001b[39m Index:\n\u001b[1;32m    464\u001b[0m \u001b[38;5;250m    \u001b[39m\u001b[38;5;124;03m\"\"\"\u001b[39;00m\n\u001b[1;32m    465\u001b[0m \u001b[38;5;124;03m    Call array_strptime, with fallback behavior depending on 'errors'.\u001b[39;00m\n\u001b[1;32m    466\u001b[0m \u001b[38;5;124;03m    \"\"\"\u001b[39;00m\n\u001b[0;32m--> 467\u001b[0m     result, tz_out \u001b[38;5;241m=\u001b[39m \u001b[43marray_strptime\u001b[49m\u001b[43m(\u001b[49m\u001b[43marg\u001b[49m\u001b[43m,\u001b[49m\u001b[43m \u001b[49m\u001b[43mfmt\u001b[49m\u001b[43m,\u001b[49m\u001b[43m \u001b[49m\u001b[43mexact\u001b[49m\u001b[38;5;241;43m=\u001b[39;49m\u001b[43mexact\u001b[49m\u001b[43m,\u001b[49m\u001b[43m \u001b[49m\u001b[43merrors\u001b[49m\u001b[38;5;241;43m=\u001b[39;49m\u001b[43merrors\u001b[49m\u001b[43m,\u001b[49m\u001b[43m \u001b[49m\u001b[43mutc\u001b[49m\u001b[38;5;241;43m=\u001b[39;49m\u001b[43mutc\u001b[49m\u001b[43m)\u001b[49m\n\u001b[1;32m    468\u001b[0m     \u001b[38;5;28;01mif\u001b[39;00m tz_out \u001b[38;5;129;01mis\u001b[39;00m \u001b[38;5;129;01mnot\u001b[39;00m \u001b[38;5;28;01mNone\u001b[39;00m:\n\u001b[1;32m    469\u001b[0m         unit \u001b[38;5;241m=\u001b[39m np\u001b[38;5;241m.\u001b[39mdatetime_data(result\u001b[38;5;241m.\u001b[39mdtype)[\u001b[38;5;241m0\u001b[39m]\n",
      "File \u001b[0;32mstrptime.pyx:501\u001b[0m, in \u001b[0;36mpandas._libs.tslibs.strptime.array_strptime\u001b[0;34m()\u001b[0m\n",
      "File \u001b[0;32mstrptime.pyx:451\u001b[0m, in \u001b[0;36mpandas._libs.tslibs.strptime.array_strptime\u001b[0;34m()\u001b[0m\n",
      "File \u001b[0;32mstrptime.pyx:583\u001b[0m, in \u001b[0;36mpandas._libs.tslibs.strptime._parse_with_format\u001b[0;34m()\u001b[0m\n",
      "\u001b[0;31mValueError\u001b[0m: time data \"8:01\" doesn't match format \"%H:%M:%S\", at position 0. You might want to try:\n    - passing `format` if your strings have a consistent format;\n    - passing `format='ISO8601'` if your strings are all ISO8601 but not necessarily in exactly the same format;\n    - passing `format='mixed'`, and the format will be inferred for each element individually. You might want to use `dayfirst` alongside this."
     ]
    }
   ],
   "source": [
    "df['rangoHora'] = pd.to_datetime(df['Hora'], format='%H:%M:%S') # TODO check\n",
    "\n",
    "# Define a function to create the \"Range Hour\" column\n",
    "def create_range_hour(hour):\n",
    "    start_hour = hour.hour\n",
    "    end_hour = (hour + pd.Timedelta(hours=1)).hour\n",
    "    return f'{start_hour:02d} - {end_hour:02d} h'\n",
    "\n",
    "# # Apply the function to create the \"Range Hour\" column\n",
    "df['rangoHora'] = df['rangoHora'].apply(create_range_hour)\n",
    "df"
   ]
  },
  {
   "cell_type": "markdown",
   "metadata": {},
   "source": [
    "### Plot the \"range per hour\" messages"
   ]
  },
  {
   "cell_type": "code",
   "execution_count": 18,
   "metadata": {},
   "outputs": [
    {
     "ename": "KeyError",
     "evalue": "'rangoHora'",
     "output_type": "error",
     "traceback": [
      "\u001b[0;31m---------------------------------------------------------------------------\u001b[0m",
      "\u001b[0;31mKeyError\u001b[0m                                  Traceback (most recent call last)",
      "Cell \u001b[0;32mIn[18], line 2\u001b[0m\n\u001b[1;32m      1\u001b[0m \u001b[38;5;66;03m# Group by 'rangoHora' and count occurrences\u001b[39;00m\n\u001b[0;32m----> 2\u001b[0m date_df \u001b[38;5;241m=\u001b[39m \u001b[43mdf\u001b[49m\u001b[38;5;241;43m.\u001b[39;49m\u001b[43mgroupby\u001b[49m\u001b[43m(\u001b[49m\u001b[38;5;124;43m'\u001b[39;49m\u001b[38;5;124;43mrangoHora\u001b[39;49m\u001b[38;5;124;43m'\u001b[39;49m\u001b[43m)\u001b[49m\u001b[38;5;241m.\u001b[39msize()\u001b[38;5;241m.\u001b[39mreset_index(name\u001b[38;5;241m=\u001b[39m\u001b[38;5;124m'\u001b[39m\u001b[38;5;124m# Mensajes por hora\u001b[39m\u001b[38;5;124m'\u001b[39m)\n\u001b[1;32m      4\u001b[0m \u001b[38;5;66;03m# Plot the number of messages against time\u001b[39;00m\n\u001b[1;32m      5\u001b[0m fig \u001b[38;5;241m=\u001b[39m px\u001b[38;5;241m.\u001b[39mline(date_df, x\u001b[38;5;241m=\u001b[39m\u001b[38;5;124m'\u001b[39m\u001b[38;5;124mrangoHora\u001b[39m\u001b[38;5;124m'\u001b[39m, y\u001b[38;5;241m=\u001b[39m\u001b[38;5;124m'\u001b[39m\u001b[38;5;124m# Mensajes por hora\u001b[39m\u001b[38;5;124m'\u001b[39m)\n",
      "File \u001b[0;32m~/dev/wpp-visualization/venv/lib/python3.12/site-packages/pandas/core/frame.py:9156\u001b[0m, in \u001b[0;36mDataFrame.groupby\u001b[0;34m(self, by, axis, level, as_index, sort, group_keys, observed, dropna)\u001b[0m\n\u001b[1;32m   9153\u001b[0m \u001b[38;5;28;01mif\u001b[39;00m level \u001b[38;5;129;01mis\u001b[39;00m \u001b[38;5;28;01mNone\u001b[39;00m \u001b[38;5;129;01mand\u001b[39;00m by \u001b[38;5;129;01mis\u001b[39;00m \u001b[38;5;28;01mNone\u001b[39;00m:\n\u001b[1;32m   9154\u001b[0m     \u001b[38;5;28;01mraise\u001b[39;00m \u001b[38;5;167;01mTypeError\u001b[39;00m(\u001b[38;5;124m\"\u001b[39m\u001b[38;5;124mYou have to supply one of \u001b[39m\u001b[38;5;124m'\u001b[39m\u001b[38;5;124mby\u001b[39m\u001b[38;5;124m'\u001b[39m\u001b[38;5;124m and \u001b[39m\u001b[38;5;124m'\u001b[39m\u001b[38;5;124mlevel\u001b[39m\u001b[38;5;124m'\u001b[39m\u001b[38;5;124m\"\u001b[39m)\n\u001b[0;32m-> 9156\u001b[0m \u001b[38;5;28;01mreturn\u001b[39;00m \u001b[43mDataFrameGroupBy\u001b[49m\u001b[43m(\u001b[49m\n\u001b[1;32m   9157\u001b[0m \u001b[43m    \u001b[49m\u001b[43mobj\u001b[49m\u001b[38;5;241;43m=\u001b[39;49m\u001b[38;5;28;43mself\u001b[39;49m\u001b[43m,\u001b[49m\n\u001b[1;32m   9158\u001b[0m \u001b[43m    \u001b[49m\u001b[43mkeys\u001b[49m\u001b[38;5;241;43m=\u001b[39;49m\u001b[43mby\u001b[49m\u001b[43m,\u001b[49m\n\u001b[1;32m   9159\u001b[0m \u001b[43m    \u001b[49m\u001b[43maxis\u001b[49m\u001b[38;5;241;43m=\u001b[39;49m\u001b[43maxis\u001b[49m\u001b[43m,\u001b[49m\n\u001b[1;32m   9160\u001b[0m \u001b[43m    \u001b[49m\u001b[43mlevel\u001b[49m\u001b[38;5;241;43m=\u001b[39;49m\u001b[43mlevel\u001b[49m\u001b[43m,\u001b[49m\n\u001b[1;32m   9161\u001b[0m \u001b[43m    \u001b[49m\u001b[43mas_index\u001b[49m\u001b[38;5;241;43m=\u001b[39;49m\u001b[43mas_index\u001b[49m\u001b[43m,\u001b[49m\n\u001b[1;32m   9162\u001b[0m \u001b[43m    \u001b[49m\u001b[43msort\u001b[49m\u001b[38;5;241;43m=\u001b[39;49m\u001b[43msort\u001b[49m\u001b[43m,\u001b[49m\n\u001b[1;32m   9163\u001b[0m \u001b[43m    \u001b[49m\u001b[43mgroup_keys\u001b[49m\u001b[38;5;241;43m=\u001b[39;49m\u001b[43mgroup_keys\u001b[49m\u001b[43m,\u001b[49m\n\u001b[1;32m   9164\u001b[0m \u001b[43m    \u001b[49m\u001b[43mobserved\u001b[49m\u001b[38;5;241;43m=\u001b[39;49m\u001b[43mobserved\u001b[49m\u001b[43m,\u001b[49m\n\u001b[1;32m   9165\u001b[0m \u001b[43m    \u001b[49m\u001b[43mdropna\u001b[49m\u001b[38;5;241;43m=\u001b[39;49m\u001b[43mdropna\u001b[49m\u001b[43m,\u001b[49m\n\u001b[1;32m   9166\u001b[0m \u001b[43m\u001b[49m\u001b[43m)\u001b[49m\n",
      "File \u001b[0;32m~/dev/wpp-visualization/venv/lib/python3.12/site-packages/pandas/core/groupby/groupby.py:1329\u001b[0m, in \u001b[0;36mGroupBy.__init__\u001b[0;34m(self, obj, keys, axis, level, grouper, exclusions, selection, as_index, sort, group_keys, observed, dropna)\u001b[0m\n\u001b[1;32m   1326\u001b[0m \u001b[38;5;28mself\u001b[39m\u001b[38;5;241m.\u001b[39mdropna \u001b[38;5;241m=\u001b[39m dropna\n\u001b[1;32m   1328\u001b[0m \u001b[38;5;28;01mif\u001b[39;00m grouper \u001b[38;5;129;01mis\u001b[39;00m \u001b[38;5;28;01mNone\u001b[39;00m:\n\u001b[0;32m-> 1329\u001b[0m     grouper, exclusions, obj \u001b[38;5;241m=\u001b[39m \u001b[43mget_grouper\u001b[49m\u001b[43m(\u001b[49m\n\u001b[1;32m   1330\u001b[0m \u001b[43m        \u001b[49m\u001b[43mobj\u001b[49m\u001b[43m,\u001b[49m\n\u001b[1;32m   1331\u001b[0m \u001b[43m        \u001b[49m\u001b[43mkeys\u001b[49m\u001b[43m,\u001b[49m\n\u001b[1;32m   1332\u001b[0m \u001b[43m        \u001b[49m\u001b[43maxis\u001b[49m\u001b[38;5;241;43m=\u001b[39;49m\u001b[43maxis\u001b[49m\u001b[43m,\u001b[49m\n\u001b[1;32m   1333\u001b[0m \u001b[43m        \u001b[49m\u001b[43mlevel\u001b[49m\u001b[38;5;241;43m=\u001b[39;49m\u001b[43mlevel\u001b[49m\u001b[43m,\u001b[49m\n\u001b[1;32m   1334\u001b[0m \u001b[43m        \u001b[49m\u001b[43msort\u001b[49m\u001b[38;5;241;43m=\u001b[39;49m\u001b[43msort\u001b[49m\u001b[43m,\u001b[49m\n\u001b[1;32m   1335\u001b[0m \u001b[43m        \u001b[49m\u001b[43mobserved\u001b[49m\u001b[38;5;241;43m=\u001b[39;49m\u001b[38;5;28;43;01mFalse\u001b[39;49;00m\u001b[43m \u001b[49m\u001b[38;5;28;43;01mif\u001b[39;49;00m\u001b[43m \u001b[49m\u001b[43mobserved\u001b[49m\u001b[43m \u001b[49m\u001b[38;5;129;43;01mis\u001b[39;49;00m\u001b[43m \u001b[49m\u001b[43mlib\u001b[49m\u001b[38;5;241;43m.\u001b[39;49m\u001b[43mno_default\u001b[49m\u001b[43m \u001b[49m\u001b[38;5;28;43;01melse\u001b[39;49;00m\u001b[43m \u001b[49m\u001b[43mobserved\u001b[49m\u001b[43m,\u001b[49m\n\u001b[1;32m   1336\u001b[0m \u001b[43m        \u001b[49m\u001b[43mdropna\u001b[49m\u001b[38;5;241;43m=\u001b[39;49m\u001b[38;5;28;43mself\u001b[39;49m\u001b[38;5;241;43m.\u001b[39;49m\u001b[43mdropna\u001b[49m\u001b[43m,\u001b[49m\n\u001b[1;32m   1337\u001b[0m \u001b[43m    \u001b[49m\u001b[43m)\u001b[49m\n\u001b[1;32m   1339\u001b[0m \u001b[38;5;28;01mif\u001b[39;00m observed \u001b[38;5;129;01mis\u001b[39;00m lib\u001b[38;5;241m.\u001b[39mno_default:\n\u001b[1;32m   1340\u001b[0m     \u001b[38;5;28;01mif\u001b[39;00m \u001b[38;5;28many\u001b[39m(ping\u001b[38;5;241m.\u001b[39m_passed_categorical \u001b[38;5;28;01mfor\u001b[39;00m ping \u001b[38;5;129;01min\u001b[39;00m grouper\u001b[38;5;241m.\u001b[39mgroupings):\n",
      "File \u001b[0;32m~/dev/wpp-visualization/venv/lib/python3.12/site-packages/pandas/core/groupby/grouper.py:1043\u001b[0m, in \u001b[0;36mget_grouper\u001b[0;34m(obj, key, axis, level, sort, observed, validate, dropna)\u001b[0m\n\u001b[1;32m   1041\u001b[0m         in_axis, level, gpr \u001b[38;5;241m=\u001b[39m \u001b[38;5;28;01mFalse\u001b[39;00m, gpr, \u001b[38;5;28;01mNone\u001b[39;00m\n\u001b[1;32m   1042\u001b[0m     \u001b[38;5;28;01melse\u001b[39;00m:\n\u001b[0;32m-> 1043\u001b[0m         \u001b[38;5;28;01mraise\u001b[39;00m \u001b[38;5;167;01mKeyError\u001b[39;00m(gpr)\n\u001b[1;32m   1044\u001b[0m \u001b[38;5;28;01melif\u001b[39;00m \u001b[38;5;28misinstance\u001b[39m(gpr, Grouper) \u001b[38;5;129;01mand\u001b[39;00m gpr\u001b[38;5;241m.\u001b[39mkey \u001b[38;5;129;01mis\u001b[39;00m \u001b[38;5;129;01mnot\u001b[39;00m \u001b[38;5;28;01mNone\u001b[39;00m:\n\u001b[1;32m   1045\u001b[0m     \u001b[38;5;66;03m# Add key to exclusions\u001b[39;00m\n\u001b[1;32m   1046\u001b[0m     exclusions\u001b[38;5;241m.\u001b[39madd(gpr\u001b[38;5;241m.\u001b[39mkey)\n",
      "\u001b[0;31mKeyError\u001b[0m: 'rangoHora'"
     ]
    }
   ],
   "source": [
    "# Group by 'rangoHora' and count occurrences\n",
    "date_df = df.groupby('rangoHora').size().reset_index(name='# Mensajes por hora')\n",
    "\n",
    "# Plot the number of messages against time\n",
    "fig = px.line(date_df, x='rangoHora', y='# Mensajes por hora')\n",
    "\n",
    "\n",
    "fig.update_layout(\n",
    "    title={'text': 'Cantidad de mensajes durante del dia',\n",
    "           'y':0.96,\n",
    "           'x':0.5,\n",
    "           'xanchor': 'center'},\n",
    "    font=dict(size=12))\n",
    "fig.update_xaxes(title_text='Rango de hora', tickangle=30)\n",
    "fig.update_yaxes(title_text='Mensajes')\n",
    "\n",
    "fig.write_image(get_save_path(save_path, f'{chat_name}-range-per-hour.png'))\n",
    "fig.show()\n",
    "\n"
   ]
  },
  {
   "cell_type": "markdown",
   "metadata": {},
   "source": [
    "### Plot messages frecuency for the time in days"
   ]
  },
  {
   "cell_type": "code",
   "execution_count": null,
   "metadata": {},
   "outputs": [],
   "source": [
    "# Group by 'Fecha' and count occurrences\n",
    "date_df = df.groupby('Fecha').size().reset_index(name='# Mensajes por día')\n",
    "\n",
    "fig = px.line(date_df, x='Fecha', y='# Mensajes por día')\n",
    "\n",
    "fig.update_layout(\n",
    "    title={'text': 'Cantidad de mensajes vs Tiempo',\n",
    "           'y':0.96,\n",
    "           'x':0.5,\n",
    "           'xanchor': 'center'},\n",
    "    font=dict(size=17))\n",
    "fig.update_xaxes(title_text='Fecha')\n",
    "fig.update_yaxes(title_text='# Mensajes')\n",
    "\n",
    "fig.write_image(get_save_path(save_path, f'{chat_name}-time-frecuency-in-days.png'))\n",
    "fig.show()"
   ]
  },
  {
   "cell_type": "code",
   "execution_count": null,
   "metadata": {},
   "outputs": [],
   "source": [
    "# Create a string that will contain all the words to avoid in the wordcloud\n",
    "total_words = ' '\n",
    "\n",
    "stop_words_list = ['que', 'qué', 'con', 'de', 'te', 'en', 'la', 'lo', 'le', 'el', 'las', 'los', 'les', 'por', 'es',\n",
    "                   'son', 'se', 'para', 'un', 'una', 'chicos', 'su', 'si', 'chic','nos', 'ya', 'hay', 'esta',\n",
    "                   'pero', 'del', 'mas', 'más', 'eso', 'este', 'como', 'así', 'todo', 'https','Media','omitted',\n",
    "                   'y', 'mi', 'o', 'q', 'yo', 'al', 'omitido', 'jajaja', 'jajajaja', 'jajajajaja', 'jajajajajaja', \n",
    "                   'jajajajajajaja', 'añadió', 'eliminó', 'cambió', 'gif', 'vm', 'multimedia', 'null', 'sticker',\n",
    "                   \"ese\", \"esa\", \"\"\n",
    "                   ]\n",
    "\n",
    "# Add all members to the list.\n",
    "members_names = df['Miembro'].unique().tolist()\n",
    "stop_words_list += members_names\n",
    "\n",
    "stopwords = STOPWORDS.update(stop_words_list)\n",
    "\n",
    "# Get and accumulate all the words of each message\n",
    "for message in messages_df['Mensaje'].values:\n",
    "    words = str(message).lower().split() # Get the words of each line of the txt\n",
    "    for word in words:\n",
    "        total_words = total_words + word + ' ' # Accumulate all the words\n",
    "\n",
    "wordcloud = WordCloud(width = 1000, height = 700,\n",
    "                background_color ='white',\n",
    "                stopwords = stopwords,\n",
    "                min_font_size = 10).generate(total_words)\n",
    "\n",
    "# Plot the cloud of most used words\n",
    "image = wordcloud.to_image()\n",
    "image.save(get_save_path(save_path, f'{chat_name}-wordcloud.png'))\n",
    "image"
   ]
  },
  {
   "cell_type": "markdown",
   "metadata": {},
   "source": [
    "## San Valentin\n",
    "Create a word cloud with love words, additional words, and custom words. The word cloud uses a custom color palette and you can use a custom font."
   ]
  },
  {
   "cell_type": "code",
   "execution_count": null,
   "metadata": {},
   "outputs": [],
   "source": [
    "\n",
    "font_path = ''\n",
    "font_path = 'fonts/Pacifico-Regular.ttf' #2: G\n",
    "\n",
    "# Target words\n",
    "word_target_list = [\n",
    "    \"Amor\", \"Te amo\", \"Amorcito\", \"Corazon\", \"Corazón\", \"Mi vida\",\n",
    "    \"Te quiero\", \"Querida\", \"Querido\",\n",
    "    \"Besos\", \"Besitos\", \"Beshitos\", \"Beshos\", \"Besos\",\n",
    "    \"Bonito\", \"Bonita\", \"Mi cielo\", \"Preciosa\", \"Precioso\", \"Ángel\", \"Angel\"\n",
    "    \"Gorda\", \"Gordo\", \"Chiquito\", \"Chiquita\", \"Niño\", \"Niña\", \"Muñeca\", \"Muñeco\", \"Bebé\", \"Bebe\"\n",
    "    \"Princesa\", \"Príncipe\", \"Principe\", \"Hermosa\", \"Hermoso\", \"Mi rey\", \"Mi reina\",\n",
    "    \"Cariño\", \"Tesoro\", \"Bombón\", \"Dulzura\",\n",
    "    \"Preciosa\", \"Precioso\",\n",
    "    \"Mi sol\", \"Mi rey\", \"Mi reina\",\n",
    "]\n",
    "\n",
    "# Extra words (more hot)\n",
    "word_extra = [\"Sexy\", \"Mami\", \"Papi\",]\n",
    "word_target_list += word_extra\n",
    "\n",
    "# Custom words for romantic nickname\n",
    "custom_words = ['bby']\n",
    "word_target_list += custom_words\n",
    "\n",
    "\n",
    "total_words = ''\n",
    "word_target_list = [word.lower() for word in word_target_list]\n",
    "\n",
    "# Check words in dataframe (this must be initialized)\n",
    "for message in df['Mensaje']:\n",
    "    words = str(message).lower().split()\n",
    "    for word in words:\n",
    "        if word in word_target_list:\n",
    "            total_words = total_words + word + ' '\n",
    "\n",
    "# Show wordcloud\n",
    "if font_path:\n",
    "    wordcloud = WordCloud(width = 1000, height = 700,\n",
    "                        font_path=font_path,\n",
    "                        background_color = color_palette[0],\n",
    "                        stopwords = stopwords,\n",
    "                        color_func=custom_color,\n",
    "                        min_font_size = 10).generate(total_words)\n",
    "else:\n",
    "    wordcloud = WordCloud(width = 1000, height = 700,\n",
    "                    background_color = color_palette[0],\n",
    "                    stopwords = stopwords,\n",
    "                    color_func=custom_color,\n",
    "                    min_font_size = 10).generate(total_words)\n",
    "\n",
    "image = wordcloud.to_image()\n",
    "\n",
    "# Save as a new image\n",
    "image.save(get_save_path(save_path, f'{chat_name}-wordcloud-love.png'))\n",
    "\n",
    "image"
   ]
  }
 ],
 "metadata": {
  "kernelspec": {
   "display_name": "venv",
   "language": "python",
   "name": "python3"
  },
  "language_info": {
   "codemirror_mode": {
    "name": "ipython",
    "version": 3
   },
   "file_extension": ".py",
   "mimetype": "text/x-python",
   "name": "python",
   "nbconvert_exporter": "python",
   "pygments_lexer": "ipython3",
   "version": "3.12.6"
  }
 },
 "nbformat": 4,
 "nbformat_minor": 2
}
